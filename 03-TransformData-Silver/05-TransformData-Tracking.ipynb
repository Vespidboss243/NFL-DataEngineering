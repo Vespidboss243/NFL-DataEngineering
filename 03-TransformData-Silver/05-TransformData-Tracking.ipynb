{
 "cells": [
  {
   "cell_type": "markdown",
   "metadata": {
    "application/vnd.databricks.v1+cell": {
     "cellMetadata": {},
     "inputWidgets": {},
     "nuid": "b9ba26ca-7876-4313-bac1-85834c826c27",
     "showTitle": false,
     "tableResultSettingsMap": {},
     "title": ""
    }
   },
   "source": [
    "### **Import Libraries**"
   ]
  },
  {
   "cell_type": "code",
   "execution_count": 0,
   "metadata": {
    "application/vnd.databricks.v1+cell": {
     "cellMetadata": {
      "byteLimit": 2048000,
      "rowLimit": 10000
     },
     "inputWidgets": {},
     "nuid": "961ad818-5426-4fc3-af6c-25ed7a982be1",
     "showTitle": false,
     "tableResultSettingsMap": {},
     "title": ""
    }
   },
   "outputs": [],
   "source": [
    "from pyspark.sql.types import StructType, StructField, StringType, IntegerType,LongType,FloatType,DoubleType, TimestampType, DateType\n",
    "from pyspark.sql.functions import *"
   ]
  },
  {
   "cell_type": "markdown",
   "metadata": {
    "application/vnd.databricks.v1+cell": {
     "cellMetadata": {},
     "inputWidgets": {},
     "nuid": "74369310-04d0-4338-8e52-4786778a952e",
     "showTitle": false,
     "tableResultSettingsMap": {},
     "title": ""
    }
   },
   "source": [
    "### Execute notebook with common/reusable functions "
   ]
  },
  {
   "cell_type": "code",
   "execution_count": 0,
   "metadata": {
    "application/vnd.databricks.v1+cell": {
     "cellMetadata": {
      "byteLimit": 2048000,
      "rowLimit": 10000
     },
     "inputWidgets": {},
     "nuid": "16f36d41-8ed8-4f97-be5a-6e894570026f",
     "showTitle": false,
     "tableResultSettingsMap": {},
     "title": ""
    }
   },
   "outputs": [],
   "source": [
    "%run \"../01-General/02-CommonFunctions\""
   ]
  },
  {
   "cell_type": "markdown",
   "metadata": {
    "application/vnd.databricks.v1+cell": {
     "cellMetadata": {},
     "inputWidgets": {},
     "nuid": "b2a8e309-42a7-4be5-b787-4bafb5173638",
     "showTitle": false,
     "tableResultSettingsMap": {},
     "title": ""
    }
   },
   "source": [
    "### Connect to the storage"
   ]
  },
  {
   "cell_type": "code",
   "execution_count": 0,
   "metadata": {
    "application/vnd.databricks.v1+cell": {
     "cellMetadata": {
      "byteLimit": 2048000,
      "rowLimit": 10000
     },
     "inputWidgets": {},
     "nuid": "1004a2a4-b343-455c-bf75-ddb221e5e75b",
     "showTitle": false,
     "tableResultSettingsMap": {},
     "title": ""
    }
   },
   "outputs": [
    {
     "output_type": "stream",
     "name": "stdout",
     "output_type": "stream",
     "text": [
      "Remote blob path: wasbs://nfl@bgupb202402juanbarriento.blob.core.windows.net/\n"
     ]
    }
   ],
   "source": [
    "wasbs_path = connect()"
   ]
  },
  {
   "cell_type": "markdown",
   "metadata": {
    "application/vnd.databricks.v1+cell": {
     "cellMetadata": {},
     "inputWidgets": {},
     "nuid": "7ca80b43-bc20-4e57-8416-0ef8b68301a2",
     "showTitle": false,
     "tableResultSettingsMap": {},
     "title": ""
    }
   },
   "source": [
    "### Create Paths"
   ]
  },
  {
   "cell_type": "code",
   "execution_count": 0,
   "metadata": {
    "application/vnd.databricks.v1+cell": {
     "cellMetadata": {
      "byteLimit": 2048000,
      "rowLimit": 10000
     },
     "inputWidgets": {},
     "nuid": "f7d2fc2b-192f-41c3-a16a-fc1d2990229b",
     "showTitle": false,
     "tableResultSettingsMap": {},
     "title": ""
    }
   },
   "outputs": [
    {
     "output_type": "stream",
     "name": "stdout",
     "output_type": "stream",
     "text": [
      "Source data dir: wasbs://nfl@bgupb202402juanbarriento.blob.core.windows.net/bronze/nfl-2022/\nDestination data dir: wasbs://nfl@bgupb202402juanbarriento.blob.core.windows.net/silver/nfl-2022/tracking/\n"
     ]
    }
   ],
   "source": [
    "srcDataDirRoot,destDataDirRoot = route(wasbs_path,\"tracking\",\"bronze\",\"silver\")\n",
    "print(f\"Source data dir: {srcDataDirRoot}\")\n",
    "print(f\"Destination data dir: {destDataDirRoot}\")"
   ]
  },
  {
   "cell_type": "markdown",
   "metadata": {
    "application/vnd.databricks.v1+cell": {
     "cellMetadata": {},
     "inputWidgets": {},
     "nuid": "b2fc6dde-d1c9-4722-b2e4-4c258652e882",
     "showTitle": false,
     "tableResultSettingsMap": {},
     "title": ""
    }
   },
   "source": [
    "### Read the files from the bronze layer"
   ]
  },
  {
   "cell_type": "code",
   "execution_count": 0,
   "metadata": {
    "application/vnd.databricks.v1+cell": {
     "cellMetadata": {
      "byteLimit": 2048000,
      "rowLimit": 10000
     },
     "inputWidgets": {},
     "nuid": "b3741b68-0f70-430c-9389-a45241ab82d7",
     "showTitle": false,
     "tableResultSettingsMap": {},
     "title": ""
    }
   },
   "outputs": [],
   "source": [
    "# Read the data in delta format\n",
    "nflTrackingBronze = spark.read.format(\"delta\").load(f\"{srcDataDirRoot}/tracking\").cache()\n",
    "\n",
    "# Check the data\n",
    "display(nflTrackingBronze)"
   ]
  },
  {
   "cell_type": "markdown",
   "metadata": {
    "application/vnd.databricks.v1+cell": {
     "cellMetadata": {},
     "inputWidgets": {},
     "nuid": "f01f8ae2-dbf9-47c0-b036-d52b4a71f283",
     "showTitle": false,
     "tableResultSettingsMap": {},
     "title": ""
    }
   },
   "source": [
    "###Explore the data"
   ]
  },
  {
   "cell_type": "code",
   "execution_count": 0,
   "metadata": {
    "application/vnd.databricks.v1+cell": {
     "cellMetadata": {
      "byteLimit": 2048000,
      "rowLimit": 10000
     },
     "inputWidgets": {},
     "nuid": "b07a3c1c-7213-4201-922a-4055d5adfdaa",
     "showTitle": false,
     "tableResultSettingsMap": {},
     "title": ""
    }
   },
   "outputs": [],
   "source": [
    "#Create a view\n",
    "nflTrackingBronze.createOrReplaceTempView(\"nflTrackingBronze_View\")"
   ]
  },
  {
   "cell_type": "code",
   "execution_count": 0,
   "metadata": {
    "application/vnd.databricks.v1+cell": {
     "cellMetadata": {
      "byteLimit": 2048000,
      "implicitDf": true,
      "rowLimit": 10000
     },
     "inputWidgets": {},
     "nuid": "634f27b8-dbaa-4c21-a0c2-05da8284e6f8",
     "showTitle": false,
     "tableResultSettingsMap": {},
     "title": ""
    }
   },
   "outputs": [
    {
     "output_type": "display_data",
     "data": {
      "text/html": [
       "<style scoped>\n",
       "  .table-result-container {\n",
       "    max-height: 300px;\n",
       "    overflow: auto;\n",
       "  }\n",
       "  table, th, td {\n",
       "    border: 1px solid black;\n",
       "    border-collapse: collapse;\n",
       "  }\n",
       "  th, td {\n",
       "    padding: 5px;\n",
       "  }\n",
       "  th {\n",
       "    text-align: left;\n",
       "  }\n",
       "</style><div class='table-result-container'><table class='table-result'><thead style='background-color: white'><tr><th>event</th></tr></thead><tbody><tr><td>punt_play</td></tr><tr><td>qb_strip_sack</td></tr><tr><td>first_contact</td></tr><tr><td>snap_direct</td></tr><tr><td>field_goal</td></tr><tr><td>punt_fake</td></tr><tr><td>None</td></tr><tr><td>extra_point_missed</td></tr><tr><td>fumble_defense_recovered</td></tr><tr><td>fumble</td></tr><tr><td>pass_arrived</td></tr><tr><td>xp_fake</td></tr><tr><td>touchdown</td></tr><tr><td>pass_outcome_touchdown</td></tr><tr><td>handoff</td></tr><tr><td>penalty_accepted</td></tr><tr><td>punt_received</td></tr><tr><td>extra_point_attempt</td></tr><tr><td>tackle</td></tr><tr><td>huddle_break_offense</td></tr><tr><td>field_goal_missed</td></tr><tr><td>touchback</td></tr><tr><td>lateral</td></tr><tr><td>punt_blocked</td></tr><tr><td>extra_point</td></tr><tr><td>out_of_bounds</td></tr><tr><td>ball_snap</td></tr><tr><td>kickoff</td></tr><tr><td>kickoff_play</td></tr><tr><td>drop_kick</td></tr><tr><td>extra_point_fake</td></tr><tr><td>field_goal_fake</td></tr><tr><td>punt_muffed</td></tr><tr><td>penalty_flag</td></tr><tr><td>line_set</td></tr><tr><td>punt_land</td></tr><tr><td>pass_forward</td></tr><tr><td>kick_received</td></tr><tr><td>pass_outcome_incomplete</td></tr><tr><td>fair_catch</td></tr><tr><td>onside_kick</td></tr><tr><td>extra_point_blocked</td></tr><tr><td>pass_shovel</td></tr><tr><td>field_goal_attempt</td></tr><tr><td>punt_downed</td></tr><tr><td>pass_outcome_caught</td></tr><tr><td>run</td></tr><tr><td>punt</td></tr><tr><td>free_kick</td></tr><tr><td>kickoff_land</td></tr><tr><td>field_goal_play</td></tr><tr><td>man_in_motion</td></tr><tr><td>fumble_offense_recovered</td></tr><tr><td>field_goal_blocked</td></tr><tr><td>kick_recovered</td></tr><tr><td>safety</td></tr><tr><td>shift</td></tr><tr><td>autoevent_kickoff</td></tr><tr><td>pass_outcome_interception</td></tr><tr><td>huddle_start_offense</td></tr><tr><td>qb_sack</td></tr><tr><td>two_point_conversion</td></tr><tr><td>field_goal_miseed</td></tr><tr><td>free_kick_play</td></tr><tr><td>play_action</td></tr><tr><td>timeout_home</td></tr></tbody></table></div>"
      ]
     },
     "metadata": {
      "application/vnd.databricks.v1+output": {
       "addedWidgets": {},
       "aggData": [],
       "aggError": "",
       "aggOverflow": false,
       "aggSchema": [],
       "aggSeriesLimitReached": false,
       "aggType": "",
       "arguments": {},
       "columnCustomDisplayInfos": {},
       "data": [
        [
         "punt_play"
        ],
        [
         "qb_strip_sack"
        ],
        [
         "first_contact"
        ],
        [
         "snap_direct"
        ],
        [
         "field_goal"
        ],
        [
         "punt_fake"
        ],
        [
         "None"
        ],
        [
         "extra_point_missed"
        ],
        [
         "fumble_defense_recovered"
        ],
        [
         "fumble"
        ],
        [
         "pass_arrived"
        ],
        [
         "xp_fake"
        ],
        [
         "touchdown"
        ],
        [
         "pass_outcome_touchdown"
        ],
        [
         "handoff"
        ],
        [
         "penalty_accepted"
        ],
        [
         "punt_received"
        ],
        [
         "extra_point_attempt"
        ],
        [
         "tackle"
        ],
        [
         "huddle_break_offense"
        ],
        [
         "field_goal_missed"
        ],
        [
         "touchback"
        ],
        [
         "lateral"
        ],
        [
         "punt_blocked"
        ],
        [
         "extra_point"
        ],
        [
         "out_of_bounds"
        ],
        [
         "ball_snap"
        ],
        [
         "kickoff"
        ],
        [
         "kickoff_play"
        ],
        [
         "drop_kick"
        ],
        [
         "extra_point_fake"
        ],
        [
         "field_goal_fake"
        ],
        [
         "punt_muffed"
        ],
        [
         "penalty_flag"
        ],
        [
         "line_set"
        ],
        [
         "punt_land"
        ],
        [
         "pass_forward"
        ],
        [
         "kick_received"
        ],
        [
         "pass_outcome_incomplete"
        ],
        [
         "fair_catch"
        ],
        [
         "onside_kick"
        ],
        [
         "extra_point_blocked"
        ],
        [
         "pass_shovel"
        ],
        [
         "field_goal_attempt"
        ],
        [
         "punt_downed"
        ],
        [
         "pass_outcome_caught"
        ],
        [
         "run"
        ],
        [
         "punt"
        ],
        [
         "free_kick"
        ],
        [
         "kickoff_land"
        ],
        [
         "field_goal_play"
        ],
        [
         "man_in_motion"
        ],
        [
         "fumble_offense_recovered"
        ],
        [
         "field_goal_blocked"
        ],
        [
         "kick_recovered"
        ],
        [
         "safety"
        ],
        [
         "shift"
        ],
        [
         "autoevent_kickoff"
        ],
        [
         "pass_outcome_interception"
        ],
        [
         "huddle_start_offense"
        ],
        [
         "qb_sack"
        ],
        [
         "two_point_conversion"
        ],
        [
         "field_goal_miseed"
        ],
        [
         "free_kick_play"
        ],
        [
         "play_action"
        ],
        [
         "timeout_home"
        ]
       ],
       "datasetInfos": [],
       "dbfsResultPath": null,
       "isJsonSchema": true,
       "metadata": {
        "dataframeName": "_sqldf",
        "executionCount": 14
       },
       "overflow": false,
       "plotOptions": {
        "customPlotOptions": {},
        "displayType": "table",
        "pivotAggregation": null,
        "pivotColumns": null,
        "xColumns": null,
        "yColumns": null
       },
       "removedWidgets": [],
       "schema": [
        {
         "metadata": "{}",
         "name": "event",
         "type": "\"string\""
        }
       ],
       "type": "table"
      }
     },
     "output_type": "display_data"
    }
   ],
   "source": [
    "%sql\n",
    "-- all possible events\n",
    "SELECT DISTINCT event\n",
    "FROM nflTrackingBronze_View\n"
   ]
  },
  {
   "cell_type": "code",
   "execution_count": 0,
   "metadata": {
    "application/vnd.databricks.v1+cell": {
     "cellMetadata": {
      "byteLimit": 2048000,
      "implicitDf": true,
      "rowLimit": 10000
     },
     "inputWidgets": {},
     "nuid": "b8ac1db8-43c5-4f02-a435-7ac229da9129",
     "showTitle": false,
     "tableResultSettingsMap": {},
     "title": ""
    }
   },
   "outputs": [],
   "source": [
    "%sql\n",
    "-- Max and min distance for each player in the year 2018\n",
    "SELECT displayName, max(dis),min(dis) \n",
    "from nflTrackingBronze_View \n",
    "where year=2018 \n",
    "group by displayName"
   ]
  },
  {
   "cell_type": "code",
   "execution_count": 0,
   "metadata": {
    "application/vnd.databricks.v1+cell": {
     "cellMetadata": {
      "byteLimit": 2048000,
      "rowLimit": 10000
     },
     "inputWidgets": {},
     "nuid": "86303773-8f8b-4235-9aaa-4a3b38cab57b",
     "showTitle": false,
     "tableResultSettingsMap": {},
     "title": ""
    }
   },
   "outputs": [
    {
     "output_type": "display_data",
     "data": {
      "text/html": [
       "<style scoped>\n",
       "  .table-result-container {\n",
       "    max-height: 300px;\n",
       "    overflow: auto;\n",
       "  }\n",
       "  table, th, td {\n",
       "    border: 1px solid black;\n",
       "    border-collapse: collapse;\n",
       "  }\n",
       "  th, td {\n",
       "    padding: 5px;\n",
       "  }\n",
       "  th {\n",
       "    text-align: left;\n",
       "  }\n",
       "</style><div class='table-result-container'><table class='table-result'><thead style='background-color: white'><tr><th>year</th><th>Number of games</th></tr></thead><tbody><tr><td>2018</td><td>253</td></tr><tr><td>2019</td><td>255</td></tr><tr><td>2020</td><td>240</td></tr><tr><td>2021</td><td>16</td></tr></tbody></table></div>"
      ]
     },
     "metadata": {
      "application/vnd.databricks.v1+output": {
       "addedWidgets": {},
       "aggData": [],
       "aggError": "",
       "aggOverflow": false,
       "aggSchema": [],
       "aggSeriesLimitReached": false,
       "aggType": "",
       "arguments": {},
       "columnCustomDisplayInfos": {},
       "data": [
        [
         "2018",
         253
        ],
        [
         "2019",
         255
        ],
        [
         "2020",
         240
        ],
        [
         "2021",
         16
        ]
       ],
       "datasetInfos": [],
       "dbfsResultPath": null,
       "isJsonSchema": true,
       "metadata": {},
       "overflow": false,
       "plotOptions": {
        "customPlotOptions": {},
        "displayType": "table",
        "pivotAggregation": null,
        "pivotColumns": null,
        "xColumns": null,
        "yColumns": null
       },
       "removedWidgets": [],
       "schema": [
        {
         "metadata": "{}",
         "name": "year",
         "type": "\"string\""
        },
        {
         "metadata": "{}",
         "name": "Number of games",
         "type": "\"long\""
        }
       ],
       "type": "table"
      }
     },
     "output_type": "display_data"
    }
   ],
   "source": [
    "# How many games were played in each year?\n",
    "display(nflTrackingBronze.groupBy('year')\n",
    "                .agg(countDistinct('gameId').alias('Number of games'))\n",
    "                .orderBy('year'))"
   ]
  },
  {
   "cell_type": "markdown",
   "metadata": {
    "application/vnd.databricks.v1+cell": {
     "cellMetadata": {},
     "inputWidgets": {},
     "nuid": "f9a30652-12fa-47bf-b9a4-43cbc7729698",
     "showTitle": false,
     "tableResultSettingsMap": {},
     "title": ""
    }
   },
   "source": [
    "### Create new Columns for Tracking DataFrame\n",
    "\n",
    "\n",
    "## 1. `is_endzone_flag`\n",
    "- **Description**: This flag indicates whether a player is located within an endzone during a specific moment of the game.\n",
    "- **Logic**: The `x` coordinate is used to determine if the player is inside the endzone. If `x` is between 0 and 20 (team's defensive endzone) or between 100 and 120 (opponent's endzone), the flag is set to 1. Otherwise, it is 0.\n",
    "- **Usefulness**: This column is crucial for analyzing events that occur within the endzones, such as touchdowns, safeties, or key defensive plays. It helps isolate plays and moments that occur in critical areas of the field.\n",
    "\n",
    "## 2. `s_ms` (Speed in meters per second)\n",
    "- **Description**: Converts the player's speed from yards per second to meters per second.\n",
    "- **Logic**: The player's speed (`s`) is multiplied by 0.9144, which is the conversion factor from yards to meters.\n",
    "- **Usefulness**: This makes the speed metric compatible with international units (SI units), facilitating easier analysis and comparisons, especially for studies involving physical performance metrics or international audiences.\n",
    "\n",
    "## 3. `a_ms2` (Acceleration in meters per second squared)\n",
    "- **Description**: Converts the player's acceleration from yards per second² to meters per second².\n",
    "- **Logic**: The acceleration (`a`) is multiplied by 0.9144 to convert yards per second² to meters per second².\n",
    "- **Usefulness**: Similar to speed, this conversion standardizes acceleration measurements to the metric system, making it easier to analyze acceleration data in scientific or international contexts.\n",
    "\n",
    "## 4. `dis_m` (Distance traveled in meters)\n",
    "- **Description**: Converts the distance a player travels between frames from yards to meters.\n",
    "- **Logic**: The distance (`dis`) is multiplied by 0.9144 to convert yards to meters.\n",
    "- **Usefulness**: Like the other metrics, this standardizes the unit of measurement to meters, making it easier for users who work with the metric system or want to compare player performance with scientific studies that typically use meters.\n",
    "\n",
    "## 5. `date`\n",
    "- **Description**: Extracts the date from the `time` column.\n",
    "- **Logic**: The `to_date` function is used to extract only the date (YYYY-MM-DD) from the timestamp.\n",
    "- **Usefulness**: Separating the date makes it easier to analyze and group data based on specific days, allowing analysts to study game events or trends across different game dates.\n",
    "\n",
    "## 6. `hour`\n",
    "- **Description**: Extracts the hour of the day from the `time` column.\n",
    "- **Logic**: The `hour` function is used to extract the hour (HH) from the timestamp.\n",
    "- **Usefulness**: Analyzing game data by the hour can help study the impact of time-of-day factors on player performance, such as fatigue in later hours or higher/lower performance in night games.\n",
    "\n",
    "---"
   ]
  },
  {
   "cell_type": "code",
   "execution_count": 0,
   "metadata": {
    "application/vnd.databricks.v1+cell": {
     "cellMetadata": {
      "byteLimit": 2048000,
      "rowLimit": 10000
     },
     "inputWidgets": {},
     "nuid": "2f7e1a4e-1c73-439f-a646-55bd23091b8b",
     "showTitle": false,
     "tableResultSettingsMap": {},
     "title": ""
    }
   },
   "outputs": [],
   "source": [
    "#new columns for the silver layer\n",
    "nflTrackingSilver = nflTrackingBronze.withColumn(\n",
    "    \"is_endzone_flag\",\n",
    "    when(\n",
    "        (col(\"x\") <= 20) & (col(\"x\") >= 0) | (col(\"x\") <= 120) & (col(\"x\") >= 100),\n",
    "        1\n",
    "    ).otherwise(0)\n",
    ").withColumn(\n",
    "    \"s_ms\", \n",
    "    col(\"s\") * 0.9144 \n",
    ").withColumn(\n",
    "    \"a_ms2\",\n",
    "    (col(\"a\") * 0.9144)\n",
    ").withColumn(\n",
    "    \"dis_m\",\n",
    "    (col(\"dis\") * 0.9144)\n",
    ").withColumn(\n",
    "    \"date\", \n",
    "    to_date(\"time\")\n",
    ").withColumn(\n",
    "    \"hour\",\n",
    "    hour(\"time\")\n",
    ")\n",
    "\n",
    "#check the data\n",
    "display(nflTrackingSilver)"
   ]
  },
  {
   "cell_type": "code",
   "execution_count": 0,
   "metadata": {
    "application/vnd.databricks.v1+cell": {
     "cellMetadata": {
      "byteLimit": 2048000,
      "rowLimit": 10000
     },
     "inputWidgets": {},
     "nuid": "f4f9413c-a3a8-477f-b79a-e160db5e778a",
     "showTitle": false,
     "tableResultSettingsMap": {},
     "title": ""
    }
   },
   "outputs": [
    {
     "output_type": "display_data",
     "data": {
      "text/plain": [
       "StructType([StructField('time', TimestampType(), True), StructField('x', DoubleType(), True), StructField('y', DoubleType(), True), StructField('s', DoubleType(), True), StructField('a', DoubleType(), True), StructField('dis', DoubleType(), True), StructField('o', DoubleType(), True), StructField('dir', DoubleType(), True), StructField('event', StringType(), True), StructField('nflId', StringType(), True), StructField('displayName', StringType(), True), StructField('jerseyNumber', IntegerType(), True), StructField('position', StringType(), True), StructField('team', StringType(), True), StructField('frameId', StringType(), True), StructField('gameId', StringType(), True), StructField('playId', StringType(), True), StructField('playDirection', StringType(), True), StructField('year', StringType(), True), StructField('is_endzone_flag', IntegerType(), False), StructField('s_ms', DoubleType(), True), StructField('a_ms2', DoubleType(), True), StructField('dis_m', DoubleType(), True), StructField('date', DateType(), True), StructField('hour', IntegerType(), True)])"
      ]
     },
     "metadata": {},
     "output_type": "display_data"
    }
   ],
   "source": [
    "display(nflTrackingSilver.schema)"
   ]
  },
  {
   "cell_type": "markdown",
   "metadata": {
    "application/vnd.databricks.v1+cell": {
     "cellMetadata": {},
     "inputWidgets": {},
     "nuid": "4a4380d7-b6ab-4018-b475-c8f63989beea",
     "showTitle": false,
     "tableResultSettingsMap": {},
     "title": ""
    }
   },
   "source": [
    "### Save the data in the **Silver** Layer"
   ]
  },
  {
   "cell_type": "code",
   "execution_count": 0,
   "metadata": {
    "application/vnd.databricks.v1+cell": {
     "cellMetadata": {
      "byteLimit": 2048000,
      "rowLimit": 10000
     },
     "inputWidgets": {},
     "nuid": "d4ba5b67-a56f-40da-8dbc-1c917cc93709",
     "showTitle": false,
     "tableResultSettingsMap": {},
     "title": ""
    }
   },
   "outputs": [
    {
     "output_type": "execute_result",
     "data": {
      "text/plain": [
       "True"
      ]
     },
     "execution_count": 40,
     "metadata": {},
     "output_type": "execute_result"
    }
   ],
   "source": [
    "#Delete any residual data from prior executions for an idempotent run\n",
    "dbutils.fs.rm(destDataDirRoot,recurse=True)"
   ]
  },
  {
   "cell_type": "code",
   "execution_count": 0,
   "metadata": {
    "application/vnd.databricks.v1+cell": {
     "cellMetadata": {
      "byteLimit": 2048000,
      "rowLimit": 10000
     },
     "inputWidgets": {},
     "nuid": "817b920a-3a24-40b2-a189-35eab969b970",
     "showTitle": false,
     "tableResultSettingsMap": {},
     "title": ""
    }
   },
   "outputs": [],
   "source": [
    "#To make Hive Parquet format compatible with Spark Parquet format\n",
    "sqlContext.setConf(\"spark.sql.parquet.writeLegacyFormat\", \"true\")\n",
    "\n",
    "#Save the dataset with the new columns\n",
    "nflTrackingSilver.write.format(\"delta\").mode(\"append\").partitionBy(\"year\").save(destDataDirRoot) "
   ]
  }
 ],
 "metadata": {
  "application/vnd.databricks.v1+notebook": {
   "computePreferences": null,
   "dashboards": [],
   "environmentMetadata": null,
   "language": "python",
   "notebookMetadata": {
    "mostRecentlyExecutedCommandWithImplicitDF": {
     "commandId": 4415626438822318,
     "dataframes": [
      "_sqldf"
     ]
    },
    "pythonIndentUnit": 4
   },
   "notebookName": "05-TransformData-Tracking",
   "widgets": {}
  },
  "language_info": {
   "name": "python"
  }
 },
 "nbformat": 4,
 "nbformat_minor": 0
}