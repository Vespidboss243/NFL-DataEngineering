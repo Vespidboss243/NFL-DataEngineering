{
 "cells": [
  {
   "cell_type": "markdown",
   "metadata": {
    "application/vnd.databricks.v1+cell": {
     "cellMetadata": {},
     "inputWidgets": {},
     "nuid": "fab24d94-88a9-41e2-8d09-e041def10bd1",
     "showTitle": false,
     "tableResultSettingsMap": {},
     "title": ""
    }
   },
   "source": [
    "### **Import Libraries**"
   ]
  },
  {
   "cell_type": "code",
   "execution_count": 0,
   "metadata": {
    "application/vnd.databricks.v1+cell": {
     "cellMetadata": {
      "byteLimit": 2048000,
      "rowLimit": 10000
     },
     "inputWidgets": {},
     "nuid": "961ad818-5426-4fc3-af6c-25ed7a982be1",
     "showTitle": false,
     "tableResultSettingsMap": {},
     "title": ""
    }
   },
   "outputs": [],
   "source": [
    "from pyspark.sql.types import StructType, StructField, StringType, IntegerType,LongType,FloatType,DoubleType, TimestampType, DateType\n",
    "from pyspark.sql.functions import *"
   ]
  },
  {
   "cell_type": "markdown",
   "metadata": {
    "application/vnd.databricks.v1+cell": {
     "cellMetadata": {},
     "inputWidgets": {},
     "nuid": "93077087-28da-4efd-b9ac-b42e23be6317",
     "showTitle": false,
     "tableResultSettingsMap": {},
     "title": ""
    }
   },
   "source": [
    "### Execute notebook with common/reusable functions "
   ]
  },
  {
   "cell_type": "code",
   "execution_count": 0,
   "metadata": {
    "application/vnd.databricks.v1+cell": {
     "cellMetadata": {
      "byteLimit": 2048000,
      "rowLimit": 10000
     },
     "inputWidgets": {},
     "nuid": "16f36d41-8ed8-4f97-be5a-6e894570026f",
     "showTitle": false,
     "tableResultSettingsMap": {},
     "title": ""
    }
   },
   "outputs": [],
   "source": [
    "%run \"../01-General/02-CommonFunctions\""
   ]
  },
  {
   "cell_type": "markdown",
   "metadata": {
    "application/vnd.databricks.v1+cell": {
     "cellMetadata": {},
     "inputWidgets": {},
     "nuid": "af236169-a512-4bf9-a922-15e743d02714",
     "showTitle": false,
     "tableResultSettingsMap": {},
     "title": ""
    }
   },
   "source": [
    "### Connect to the storage"
   ]
  },
  {
   "cell_type": "code",
   "execution_count": 0,
   "metadata": {
    "application/vnd.databricks.v1+cell": {
     "cellMetadata": {
      "byteLimit": 2048000,
      "rowLimit": 10000
     },
     "inputWidgets": {},
     "nuid": "1004a2a4-b343-455c-bf75-ddb221e5e75b",
     "showTitle": false,
     "tableResultSettingsMap": {},
     "title": ""
    }
   },
   "outputs": [
    {
     "output_type": "stream",
     "name": "stdout",
     "output_type": "stream",
     "text": [
      "Remote blob path: wasbs://nfl@bgupb202402juanbarriento.blob.core.windows.net/\n"
     ]
    }
   ],
   "source": [
    "wasbs_path = connect()"
   ]
  },
  {
   "cell_type": "markdown",
   "metadata": {
    "application/vnd.databricks.v1+cell": {
     "cellMetadata": {},
     "inputWidgets": {},
     "nuid": "e8d70ab3-2a1b-45bd-94ac-f21f5e1bc7c6",
     "showTitle": false,
     "tableResultSettingsMap": {},
     "title": ""
    }
   },
   "source": [
    "### Create Paths"
   ]
  },
  {
   "cell_type": "code",
   "execution_count": 0,
   "metadata": {
    "application/vnd.databricks.v1+cell": {
     "cellMetadata": {
      "byteLimit": 2048000,
      "rowLimit": 10000
     },
     "inputWidgets": {},
     "nuid": "f7d2fc2b-192f-41c3-a16a-fc1d2990229b",
     "showTitle": false,
     "tableResultSettingsMap": {},
     "title": ""
    }
   },
   "outputs": [
    {
     "output_type": "stream",
     "name": "stdout",
     "output_type": "stream",
     "text": [
      "Source data dir: wasbs://nfl@bgupb202402juanbarriento.blob.core.windows.net/bronze/nfl-2022/\nDestination data dir: wasbs://nfl@bgupb202402juanbarriento.blob.core.windows.net/silver/nfl-2022/players/\n"
     ]
    }
   ],
   "source": [
    "srcDataDirRoot,destDataDirRoot = route(wasbs_path,\"players\",\"bronze\",\"silver\")\n",
    "print(f\"Source data dir: {srcDataDirRoot}\")\n",
    "print(f\"Destination data dir: {destDataDirRoot}\")"
   ]
  },
  {
   "cell_type": "markdown",
   "metadata": {
    "application/vnd.databricks.v1+cell": {
     "cellMetadata": {},
     "inputWidgets": {},
     "nuid": "b6890f68-6f27-4567-b6c8-2d1e6b4b3f58",
     "showTitle": false,
     "tableResultSettingsMap": {},
     "title": ""
    }
   },
   "source": [
    "### Read the files from the bronze layer"
   ]
  },
  {
   "cell_type": "code",
   "execution_count": 0,
   "metadata": {
    "application/vnd.databricks.v1+cell": {
     "cellMetadata": {
      "byteLimit": 2048000,
      "rowLimit": 10000
     },
     "inputWidgets": {},
     "nuid": "b3741b68-0f70-430c-9389-a45241ab82d7",
     "showTitle": false,
     "tableResultSettingsMap": {},
     "title": ""
    }
   },
   "outputs": [],
   "source": [
    "# Read the data in delta format\n",
    "nflPlayersBronze = spark.read.format(\"delta\").load(f\"{srcDataDirRoot}/players\").cache()\n",
    "\n",
    "# Check the data\n",
    "display(nflPlayersBronze)"
   ]
  },
  {
   "cell_type": "markdown",
   "metadata": {
    "application/vnd.databricks.v1+cell": {
     "cellMetadata": {},
     "inputWidgets": {},
     "nuid": "35cbaee9-4813-4d0c-b601-f3f7a821e2a8",
     "showTitle": false,
     "tableResultSettingsMap": {},
     "title": ""
    }
   },
   "source": [
    "### Errors in the dataset"
   ]
  },
  {
   "cell_type": "code",
   "execution_count": 0,
   "metadata": {
    "application/vnd.databricks.v1+cell": {
     "cellMetadata": {
      "byteLimit": 2048000,
      "rowLimit": 10000
     },
     "inputWidgets": {},
     "nuid": "f733129d-e03d-4a0b-bc1c-a332382cd1c2",
     "showTitle": false,
     "tableResultSettingsMap": {},
     "title": ""
    }
   },
   "outputs": [
    {
     "output_type": "stream",
     "name": "stdout",
     "output_type": "stream",
     "text": [
      "0\n"
     ]
    }
   ],
   "source": [
    "#Counting the null values in the height colum to check an error\n",
    "null_count = nflPlayersBronze.filter(col(\"height\").isNull()).count()\n",
    "print(null_count)"
   ]
  },
  {
   "cell_type": "code",
   "execution_count": 0,
   "metadata": {
    "application/vnd.databricks.v1+cell": {
     "cellMetadata": {
      "byteLimit": 2048000,
      "rowLimit": 10000
     },
     "inputWidgets": {},
     "nuid": "24e4055a-d84c-460d-8d76-a75ea87d1b74",
     "showTitle": false,
     "tableResultSettingsMap": {},
     "title": ""
    }
   },
   "outputs": [],
   "source": [
    "# The height column has some values that are not in the correct format. \n",
    "nflPlayersBronze = nflPlayersBronze.withColumn(\n",
    "    \"height\",\n",
    "    when(\n",
    "        col(\"height\").rlike(\"^[0-9]{2}$\"),   # Change the values that are in the format 11 to 1-1\n",
    "        regexp_replace(col(\"height\"), \"(\\\\d)(\\\\d)\", \"$1-$2\")  \n",
    "    ).otherwise(col(\"height\"))  \n",
    ")"
   ]
  },
  {
   "cell_type": "markdown",
   "metadata": {
    "application/vnd.databricks.v1+cell": {
     "cellMetadata": {},
     "inputWidgets": {},
     "nuid": "8f912367-eeb2-4828-930c-db3c70cbceed",
     "showTitle": false,
     "tableResultSettingsMap": {},
     "title": ""
    }
   },
   "source": [
    "### Exploration of the Data"
   ]
  },
  {
   "cell_type": "code",
   "execution_count": 0,
   "metadata": {
    "application/vnd.databricks.v1+cell": {
     "cellMetadata": {
      "byteLimit": 2048000,
      "rowLimit": 10000
     },
     "inputWidgets": {},
     "nuid": "b07a3c1c-7213-4201-922a-4055d5adfdaa",
     "showTitle": false,
     "tableResultSettingsMap": {},
     "title": ""
    }
   },
   "outputs": [],
   "source": [
    "#create a view of the data\n",
    "nflPlayersBronze.createOrReplaceTempView(\"nflPlayersBronze_View\")"
   ]
  },
  {
   "cell_type": "code",
   "execution_count": 0,
   "metadata": {
    "application/vnd.databricks.v1+cell": {
     "cellMetadata": {
      "byteLimit": 2048000,
      "implicitDf": true,
      "rowLimit": 10000
     },
     "inputWidgets": {},
     "nuid": "634f27b8-dbaa-4c21-a0c2-05da8284e6f8",
     "showTitle": false,
     "tableResultSettingsMap": {},
     "title": ""
    }
   },
   "outputs": [
    {
     "output_type": "display_data",
     "data": {
      "text/html": [
       "<style scoped>\n",
       "  .table-result-container {\n",
       "    max-height: 300px;\n",
       "    overflow: auto;\n",
       "  }\n",
       "  table, th, td {\n",
       "    border: 1px solid black;\n",
       "    border-collapse: collapse;\n",
       "  }\n",
       "  th, td {\n",
       "    padding: 5px;\n",
       "  }\n",
       "  th {\n",
       "    text-align: left;\n",
       "  }\n",
       "</style><div class='table-result-container'><table class='table-result'><thead style='background-color: white'><tr><th>Position</th><th>PlayerCount</th></tr></thead><tbody><tr><td>K</td><td>57</td></tr><tr><td>OLB</td><td>200</td></tr><tr><td>NT</td><td>50</td></tr><tr><td>T</td><td>188</td></tr><tr><td>ILB</td><td>117</td></tr><tr><td>DB</td><td>42</td></tr><tr><td>FS</td><td>117</td></tr><tr><td>LB</td><td>42</td></tr><tr><td>QB</td><td>8</td></tr><tr><td>MLB</td><td>38</td></tr><tr><td>DE</td><td>208</td></tr><tr><td>RB</td><td>181</td></tr><tr><td>FB</td><td>27</td></tr><tr><td>C</td><td>87</td></tr><tr><td>OG</td><td>2</td></tr><tr><td>S</td><td>2</td></tr><tr><td>TE</td><td>190</td></tr><tr><td>LS</td><td>47</td></tr><tr><td>G</td><td>171</td></tr><tr><td>DT</td><td>166</td></tr><tr><td>WR</td><td>325</td></tr><tr><td>CB</td><td>303</td></tr><tr><td>P</td><td>51</td></tr><tr><td>OT</td><td>9</td></tr><tr><td>SS</td><td>103</td></tr><tr><td>HB</td><td>1</td></tr></tbody></table></div>"
      ]
     },
     "metadata": {
      "application/vnd.databricks.v1+output": {
       "addedWidgets": {},
       "aggData": [],
       "aggError": "",
       "aggOverflow": false,
       "aggSchema": [],
       "aggSeriesLimitReached": false,
       "aggType": "",
       "arguments": {},
       "columnCustomDisplayInfos": {},
       "data": [
        [
         "K",
         57
        ],
        [
         "OLB",
         200
        ],
        [
         "NT",
         50
        ],
        [
         "T",
         188
        ],
        [
         "ILB",
         117
        ],
        [
         "DB",
         42
        ],
        [
         "FS",
         117
        ],
        [
         "LB",
         42
        ],
        [
         "QB",
         8
        ],
        [
         "MLB",
         38
        ],
        [
         "DE",
         208
        ],
        [
         "RB",
         181
        ],
        [
         "FB",
         27
        ],
        [
         "C",
         87
        ],
        [
         "OG",
         2
        ],
        [
         "S",
         2
        ],
        [
         "TE",
         190
        ],
        [
         "LS",
         47
        ],
        [
         "G",
         171
        ],
        [
         "DT",
         166
        ],
        [
         "WR",
         325
        ],
        [
         "CB",
         303
        ],
        [
         "P",
         51
        ],
        [
         "OT",
         9
        ],
        [
         "SS",
         103
        ],
        [
         "HB",
         1
        ]
       ],
       "datasetInfos": [],
       "dbfsResultPath": null,
       "isJsonSchema": true,
       "metadata": {
        "dataframeName": "_sqldf",
        "executionCount": 87
       },
       "overflow": false,
       "plotOptions": {
        "customPlotOptions": {},
        "displayType": "table",
        "pivotAggregation": null,
        "pivotColumns": null,
        "xColumns": null,
        "yColumns": null
       },
       "removedWidgets": [],
       "schema": [
        {
         "metadata": "{}",
         "name": "Position",
         "type": "\"string\""
        },
        {
         "metadata": "{}",
         "name": "PlayerCount",
         "type": "\"long\""
        }
       ],
       "type": "table"
      }
     },
     "output_type": "display_data"
    }
   ],
   "source": [
    "%sql\n",
    "-- How many player are there in each position?\n",
    "SELECT Position, count(nflid) AS PlayerCount\n",
    "FROM nflPlayersBronze_View\n",
    "GROUP BY Position"
   ]
  },
  {
   "cell_type": "code",
   "execution_count": 0,
   "metadata": {
    "application/vnd.databricks.v1+cell": {
     "cellMetadata": {
      "byteLimit": 2048000,
      "rowLimit": 10000
     },
     "inputWidgets": {},
     "nuid": "38f95036-674e-4af9-86da-ec7920121264",
     "showTitle": false,
     "tableResultSettingsMap": {},
     "title": ""
    }
   },
   "outputs": [
    {
     "output_type": "display_data",
     "data": {
      "text/html": [
       "<style scoped>\n",
       "  .table-result-container {\n",
       "    max-height: 300px;\n",
       "    overflow: auto;\n",
       "  }\n",
       "  table, th, td {\n",
       "    border: 1px solid black;\n",
       "    border-collapse: collapse;\n",
       "  }\n",
       "  th, td {\n",
       "    padding: 5px;\n",
       "  }\n",
       "  th {\n",
       "    text-align: left;\n",
       "  }\n",
       "</style><div class='table-result-container'><table class='table-result'><thead style='background-color: white'><tr><th>height</th><th>Max Weight</th><th>Min Weight</th><th>Number of Players</th></tr></thead><tbody><tr><td>7-9</td><td>265</td><td>265</td><td>1</td></tr><tr><td>7-8</td><td>345</td><td>265</td><td>7</td></tr><tr><td>7-7</td><td>340</td><td>252</td><td>18</td></tr><tr><td>7-6</td><td>307</td><td>210</td><td>12</td></tr><tr><td>7-5</td><td>331</td><td>190</td><td>27</td></tr><tr><td>7-4</td><td>308</td><td>204</td><td>19</td></tr><tr><td>7-3</td><td>311</td><td>180</td><td>20</td></tr><tr><td>7-2</td><td>240</td><td>194</td><td>21</td></tr><tr><td>7-1</td><td>248</td><td>185</td><td>13</td></tr><tr><td>7-0</td><td>225</td><td>175</td><td>9</td></tr><tr><td>6-9</td><td>325</td><td>185</td><td>8</td></tr><tr><td>6-8</td><td>380</td><td>178</td><td>24</td></tr><tr><td>6-7</td><td>352</td><td>168</td><td>54</td></tr><tr><td>6-6</td><td>341</td><td>190</td><td>146</td></tr><tr><td>6-5</td><td>350</td><td>188</td><td>272</td></tr><tr><td>6-4</td><td>352</td><td>197</td><td>310</td></tr><tr><td>6-3</td><td>366</td><td>185</td><td>367</td></tr><tr><td>6-2</td><td>350</td><td>176</td><td>342</td></tr><tr><td>6-1</td><td>340</td><td>166</td><td>296</td></tr><tr><td>6-0</td><td>340</td><td>170</td><td>274</td></tr><tr><td>5-9</td><td>221</td><td>158</td><td>73</td></tr><tr><td>5-8</td><td>225</td><td>160</td><td>31</td></tr><tr><td>5-7</td><td>208</td><td>153</td><td>6</td></tr><tr><td>5-6</td><td>205</td><td>170</td><td>5</td></tr><tr><td>5-11</td><td>310</td><td>160</td><td>228</td></tr><tr><td>5-10</td><td>242</td><td>160</td><td>149</td></tr></tbody></table></div>"
      ]
     },
     "metadata": {
      "application/vnd.databricks.v1+output": {
       "addedWidgets": {},
       "aggData": [],
       "aggError": "",
       "aggOverflow": false,
       "aggSchema": [],
       "aggSeriesLimitReached": false,
       "aggType": "",
       "arguments": {},
       "columnCustomDisplayInfos": {},
       "data": [
        [
         "7-9",
         265,
         265,
         1
        ],
        [
         "7-8",
         345,
         265,
         7
        ],
        [
         "7-7",
         340,
         252,
         18
        ],
        [
         "7-6",
         307,
         210,
         12
        ],
        [
         "7-5",
         331,
         190,
         27
        ],
        [
         "7-4",
         308,
         204,
         19
        ],
        [
         "7-3",
         311,
         180,
         20
        ],
        [
         "7-2",
         240,
         194,
         21
        ],
        [
         "7-1",
         248,
         185,
         13
        ],
        [
         "7-0",
         225,
         175,
         9
        ],
        [
         "6-9",
         325,
         185,
         8
        ],
        [
         "6-8",
         380,
         178,
         24
        ],
        [
         "6-7",
         352,
         168,
         54
        ],
        [
         "6-6",
         341,
         190,
         146
        ],
        [
         "6-5",
         350,
         188,
         272
        ],
        [
         "6-4",
         352,
         197,
         310
        ],
        [
         "6-3",
         366,
         185,
         367
        ],
        [
         "6-2",
         350,
         176,
         342
        ],
        [
         "6-1",
         340,
         166,
         296
        ],
        [
         "6-0",
         340,
         170,
         274
        ],
        [
         "5-9",
         221,
         158,
         73
        ],
        [
         "5-8",
         225,
         160,
         31
        ],
        [
         "5-7",
         208,
         153,
         6
        ],
        [
         "5-6",
         205,
         170,
         5
        ],
        [
         "5-11",
         310,
         160,
         228
        ],
        [
         "5-10",
         242,
         160,
         149
        ]
       ],
       "datasetInfos": [],
       "dbfsResultPath": null,
       "isJsonSchema": true,
       "metadata": {},
       "overflow": false,
       "plotOptions": {
        "customPlotOptions": {},
        "displayType": "table",
        "pivotAggregation": null,
        "pivotColumns": null,
        "xColumns": null,
        "yColumns": null
       },
       "removedWidgets": [],
       "schema": [
        {
         "metadata": "{}",
         "name": "height",
         "type": "\"string\""
        },
        {
         "metadata": "{}",
         "name": "Max Weight",
         "type": "\"integer\""
        },
        {
         "metadata": "{}",
         "name": "Min Weight",
         "type": "\"integer\""
        },
        {
         "metadata": "{}",
         "name": "Number of Players",
         "type": "\"long\""
        }
       ],
       "type": "table"
      }
     },
     "output_type": "display_data"
    }
   ],
   "source": [
    "# How much a player can weight based on the height?\n",
    "display(nflPlayersBronze.groupBy('height')\n",
    "        .agg(max('weight').alias('Max Weight'),\n",
    "             min('weight').alias('Min Weight'),\n",
    "             count('height').alias('Number of Players'))\n",
    "        .orderBy('height', ascending=False))"
   ]
  },
  {
   "cell_type": "code",
   "execution_count": 0,
   "metadata": {
    "application/vnd.databricks.v1+cell": {
     "cellMetadata": {
      "byteLimit": 2048000,
      "rowLimit": 10000
     },
     "inputWidgets": {},
     "nuid": "28d71909-489d-4170-93eb-50951b311c96",
     "showTitle": false,
     "tableResultSettingsMap": {},
     "title": ""
    }
   },
   "outputs": [
    {
     "output_type": "display_data",
     "data": {
      "text/plain": [
       "323"
      ]
     },
     "metadata": {},
     "output_type": "display_data"
    }
   ],
   "source": [
    "# How many colleges are there?\n",
    "display(nflPlayersBronze.groupBy('collegeName')\n",
    "                .agg(countDistinct('nflid').alias('Number of Players'))\n",
    "                .orderBy('Number of Players', ascending=False))"
   ]
  },
  {
   "cell_type": "code",
   "execution_count": 0,
   "metadata": {
    "application/vnd.databricks.v1+cell": {
     "cellMetadata": {},
     "inputWidgets": {},
     "nuid": "ea5c3c84-5209-49cd-b9ea-067eb1a8bdae",
     "showTitle": false,
     "tableResultSettingsMap": {},
     "title": ""
    }
   },
   "outputs": [],
   "source": []
  },
  {
   "cell_type": "markdown",
   "metadata": {
    "application/vnd.databricks.v1+cell": {
     "cellMetadata": {},
     "inputWidgets": {},
     "nuid": "cd7f7fe2-fbc3-43aa-a05e-25a4f7c6986b",
     "showTitle": false,
     "tableResultSettingsMap": {},
     "title": ""
    }
   },
   "source": [
    "### Create new Columns for Games DataFrame\n",
    "\n",
    "\n",
    "### 1. `heightNumeric`\n",
    "- **Description**: Converts the player's height from feet-inches format (e.g., \"6-2\") into a decimal format (e.g., 6.2).\n",
    "- **Logic**: The `split` function breaks the height into feet and inches, then concatenates them with a decimal point between them. The result is cast as a `double` to ensure it is in numeric form.\n",
    "- **Usefulness**: Converting height into a numeric format simplifies calculations and comparisons. It also makes it easier to use this data for further metric conversions and statistical modeling.\n",
    "\n",
    "### 2. `heightMeters`\n",
    "- **Description**: Converts the player's height from feet-inches format to meters.\n",
    "- **Logic**: A user-defined function (`height_to_meters_udf`) is used to convert the height in decimal format to meters.\n",
    "- **Usefulness**: Working with height in meters aligns with the metric system, making the data easier to interpret in international contexts or standardized scientific models. This can be particularly useful in studies requiring metric units for player performance and fitness analysis.\n",
    "\n",
    "### 3. `weightKilograms`\n",
    "- **Description**: Converts the player's weight from pounds to kilograms.\n",
    "- **Logic**: The column `weight` is multiplied by 0.45 to convert pounds to kilograms.\n",
    "- **Usefulness**: This allows weight to be analyzed in the metric system, ensuring consistency across datasets that might require metric units, particularly for studies or reports that involve international comparisons or need standardized measurement units.\n",
    "\n",
    "### 4. `BMI` (Body Mass Index)\n",
    "- **Description**: Calculates the Body Mass Index (BMI) for each player.\n",
    "- **Logic**: BMI is calculated using the formula: BMI = weightKilograms\\heightMeters^2\n",
    "\n",
    "- **Usefulness**: BMI provides a standardized measure for assessing a player's body composition relative to their height and weight. Although BMI has limitations, it can give a basic indicator of fitness levels or whether a player is within certain weight categories for their height, which is useful in athletic performance evaluations.\n",
    "\n",
    "---"
   ]
  },
  {
   "cell_type": "code",
   "execution_count": 0,
   "metadata": {
    "application/vnd.databricks.v1+cell": {
     "cellMetadata": {
      "byteLimit": 2048000,
      "rowLimit": 10000
     },
     "inputWidgets": {},
     "nuid": "2f7e1a4e-1c73-439f-a646-55bd23091b8b",
     "showTitle": false,
     "tableResultSettingsMap": {},
     "title": ""
    }
   },
   "outputs": [],
   "source": [
    "# funtion to convert the feet and inches to meters\n",
    "def height_to_meters(decimal_height):\n",
    "    feet = int(decimal_height)\n",
    "    inches = (decimal_height - feet) * 12\n",
    "    height_meters = (feet * 0.3048) + (inches * 0.0254)\n",
    "    return height_meters\n",
    "\n",
    "# Register the UDF to change to double type\n",
    "height_to_meters_udf = udf(height_to_meters, DoubleType())\n",
    "\n",
    "#new columns for the silver layer\n",
    "nflPlayersSilver = nflPlayersBronze.withColumn(\n",
    "    \"heightNumeric\",\n",
    "    concat(\n",
    "        split(col(\"height\"), \"-\")[0],\n",
    "        lit(\".\"),\n",
    "        split(col(\"height\"), \"-\")[1]\n",
    "    ).cast(\"double\")\n",
    ").withColumn(\n",
    "    \"heightMeters\",\n",
    "    height_to_meters_udf(col(\"heightNumeric\"))\n",
    ").withColumn(\n",
    "    \"weightKilograms\",\n",
    "    col(\"weight\") * 0.45\n",
    ").withColumn(\n",
    "    \"BMI\", #Body mass index\n",
    "    col(\"weightKilograms\") / (col(\"heightMeters\")**2)\n",
    ")\n",
    "\n",
    "#check the data\n",
    "display(nflPlayersSilver)"
   ]
  },
  {
   "cell_type": "code",
   "execution_count": 0,
   "metadata": {
    "application/vnd.databricks.v1+cell": {
     "cellMetadata": {
      "byteLimit": 2048000,
      "rowLimit": 10000
     },
     "inputWidgets": {},
     "nuid": "f4f9413c-a3a8-477f-b79a-e160db5e778a",
     "showTitle": false,
     "tableResultSettingsMap": {},
     "title": ""
    }
   },
   "outputs": [
    {
     "output_type": "display_data",
     "data": {
      "text/plain": [
       "StructType([StructField('nflId', IntegerType(), True), StructField('height', StringType(), True), StructField('weight', IntegerType(), True), StructField('birthDate', TimestampType(), True), StructField('collegeName', StringType(), True), StructField('Position', StringType(), True), StructField('displayName', StringType(), True), StructField('heightNumeric', DoubleType(), True), StructField('heightMeters', DoubleType(), True), StructField('weightKilograms', DoubleType(), True), StructField('BMI', DoubleType(), True)])"
      ]
     },
     "metadata": {},
     "output_type": "display_data"
    }
   ],
   "source": [
    "display(nflPlayersSilver.schema)"
   ]
  },
  {
   "cell_type": "markdown",
   "metadata": {
    "application/vnd.databricks.v1+cell": {
     "cellMetadata": {},
     "inputWidgets": {},
     "nuid": "019231e8-1178-4a31-9755-048b2e66206f",
     "showTitle": false,
     "tableResultSettingsMap": {},
     "title": ""
    }
   },
   "source": [
    "### Save the data in the **Silver** Layer"
   ]
  },
  {
   "cell_type": "code",
   "execution_count": 0,
   "metadata": {
    "application/vnd.databricks.v1+cell": {
     "cellMetadata": {
      "byteLimit": 2048000,
      "rowLimit": 10000
     },
     "inputWidgets": {},
     "nuid": "50583dee-ed9d-4d4b-9a53-824096f559cf",
     "showTitle": false,
     "tableResultSettingsMap": {},
     "title": ""
    }
   },
   "outputs": [
    {
     "output_type": "execute_result",
     "data": {
      "text/plain": [
       "True"
      ]
     },
     "execution_count": 70,
     "metadata": {},
     "output_type": "execute_result"
    }
   ],
   "source": [
    "#Delete any residual data from prior executions for an idempotent run\n",
    "dbutils.fs.rm(destDataDirRoot,recurse=True)"
   ]
  },
  {
   "cell_type": "code",
   "execution_count": 0,
   "metadata": {
    "application/vnd.databricks.v1+cell": {
     "cellMetadata": {
      "byteLimit": 2048000,
      "rowLimit": 10000
     },
     "inputWidgets": {},
     "nuid": "817b920a-3a24-40b2-a189-35eab969b970",
     "showTitle": false,
     "tableResultSettingsMap": {},
     "title": ""
    }
   },
   "outputs": [],
   "source": [
    "#To make Hive Parquet format compatible with Spark Parquet format\n",
    "sqlContext.setConf(\"spark.sql.parquet.writeLegacyFormat\", \"true\")\n",
    "\n",
    "#Save the dataset with the new columns\n",
    "nflPlayersSilver.write.format(\"delta\").mode(\"append\").save(destDataDirRoot) "
   ]
  }
 ],
 "metadata": {
  "application/vnd.databricks.v1+notebook": {
   "computePreferences": null,
   "dashboards": [],
   "environmentMetadata": null,
   "language": "python",
   "notebookMetadata": {
    "mostRecentlyExecutedCommandWithImplicitDF": {
     "commandId": 4415626438821985,
     "dataframes": [
      "_sqldf"
     ]
    },
    "pythonIndentUnit": 4
   },
   "notebookName": "04-TransformData-Players",
   "widgets": {}
  },
  "language_info": {
   "name": "python"
  }
 },
 "nbformat": 4,
 "nbformat_minor": 0
}