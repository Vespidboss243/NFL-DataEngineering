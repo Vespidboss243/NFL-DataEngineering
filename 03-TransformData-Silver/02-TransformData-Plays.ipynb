{
 "cells": [
  {
   "cell_type": "markdown",
   "metadata": {
    "application/vnd.databricks.v1+cell": {
     "cellMetadata": {},
     "inputWidgets": {},
     "nuid": "f6d7731b-65c4-4098-bd01-3ad60d410850",
     "showTitle": false,
     "tableResultSettingsMap": {},
     "title": ""
    }
   },
   "source": [
    "### **Import Libraries**"
   ]
  },
  {
   "cell_type": "code",
   "execution_count": 0,
   "metadata": {
    "application/vnd.databricks.v1+cell": {
     "cellMetadata": {
      "byteLimit": 2048000,
      "rowLimit": 10000
     },
     "inputWidgets": {},
     "nuid": "961ad818-5426-4fc3-af6c-25ed7a982be1",
     "showTitle": false,
     "tableResultSettingsMap": {},
     "title": ""
    }
   },
   "outputs": [],
   "source": [
    "from pyspark.sql.types import StructType, StructField, StringType, IntegerType,LongType,FloatType,DoubleType, TimestampType, DateType\n",
    "from pyspark.sql.functions import *"
   ]
  },
  {
   "cell_type": "markdown",
   "metadata": {
    "application/vnd.databricks.v1+cell": {
     "cellMetadata": {},
     "inputWidgets": {},
     "nuid": "5f2d78b2-1fa5-48b7-b3ba-dfb94ac5b8c3",
     "showTitle": false,
     "tableResultSettingsMap": {},
     "title": ""
    }
   },
   "source": [
    "### Execute notebook with common/reusable functions "
   ]
  },
  {
   "cell_type": "code",
   "execution_count": 0,
   "metadata": {
    "application/vnd.databricks.v1+cell": {
     "cellMetadata": {
      "byteLimit": 2048000,
      "rowLimit": 10000
     },
     "inputWidgets": {},
     "nuid": "16f36d41-8ed8-4f97-be5a-6e894570026f",
     "showTitle": false,
     "tableResultSettingsMap": {},
     "title": ""
    }
   },
   "outputs": [],
   "source": [
    "%run \"../01-General/02-CommonFunctions\""
   ]
  },
  {
   "cell_type": "markdown",
   "metadata": {
    "application/vnd.databricks.v1+cell": {
     "cellMetadata": {},
     "inputWidgets": {},
     "nuid": "c6d9ffd9-9275-4a6e-9114-d1de2211ddcb",
     "showTitle": false,
     "tableResultSettingsMap": {},
     "title": ""
    }
   },
   "source": [
    "### Connect to the storage"
   ]
  },
  {
   "cell_type": "code",
   "execution_count": 0,
   "metadata": {
    "application/vnd.databricks.v1+cell": {
     "cellMetadata": {
      "byteLimit": 2048000,
      "rowLimit": 10000
     },
     "inputWidgets": {},
     "nuid": "1004a2a4-b343-455c-bf75-ddb221e5e75b",
     "showTitle": false,
     "tableResultSettingsMap": {},
     "title": ""
    }
   },
   "outputs": [
    {
     "output_type": "stream",
     "name": "stdout",
     "output_type": "stream",
     "text": [
      "Remote blob path: wasbs://nfl@bgupb202402juanbarriento.blob.core.windows.net/\n"
     ]
    }
   ],
   "source": [
    "wasbs_path = connect()"
   ]
  },
  {
   "cell_type": "markdown",
   "metadata": {
    "application/vnd.databricks.v1+cell": {
     "cellMetadata": {},
     "inputWidgets": {},
     "nuid": "e78ad472-a2e2-4a66-a265-a7eb9ad0dde2",
     "showTitle": false,
     "tableResultSettingsMap": {},
     "title": ""
    }
   },
   "source": [
    "### Create Paths"
   ]
  },
  {
   "cell_type": "code",
   "execution_count": 0,
   "metadata": {
    "application/vnd.databricks.v1+cell": {
     "cellMetadata": {
      "byteLimit": 2048000,
      "rowLimit": 10000
     },
     "inputWidgets": {},
     "nuid": "f7d2fc2b-192f-41c3-a16a-fc1d2990229b",
     "showTitle": false,
     "tableResultSettingsMap": {},
     "title": ""
    }
   },
   "outputs": [
    {
     "output_type": "stream",
     "name": "stdout",
     "output_type": "stream",
     "text": [
      "Source data dir: wasbs://nfl@bgupb202402juanbarriento.blob.core.windows.net/bronze/nfl-2022/\nDestination data dir: wasbs://nfl@bgupb202402juanbarriento.blob.core.windows.net/silver/nfl-2022/plays/\n"
     ]
    }
   ],
   "source": [
    "srcDataDirRoot,destDataDirRoot = route(wasbs_path,\"plays\",\"bronze\",\"silver\")\n",
    "print(f\"Source data dir: {srcDataDirRoot}\")\n",
    "print(f\"Destination data dir: {destDataDirRoot}\")"
   ]
  },
  {
   "cell_type": "markdown",
   "metadata": {
    "application/vnd.databricks.v1+cell": {
     "cellMetadata": {},
     "inputWidgets": {},
     "nuid": "4f103b15-da63-4679-a3aa-a20ac25c4981",
     "showTitle": false,
     "tableResultSettingsMap": {},
     "title": ""
    }
   },
   "source": [
    "### Read the files from the bronze layer"
   ]
  },
  {
   "cell_type": "code",
   "execution_count": 0,
   "metadata": {
    "application/vnd.databricks.v1+cell": {
     "cellMetadata": {
      "byteLimit": 2048000,
      "rowLimit": 10000
     },
     "inputWidgets": {},
     "nuid": "b3741b68-0f70-430c-9389-a45241ab82d7",
     "showTitle": false,
     "tableResultSettingsMap": {},
     "title": ""
    }
   },
   "outputs": [],
   "source": [
    "# Read the data in delta format\n",
    "nflPlaysBronze = spark.read.format(\"delta\").load(\"wasbs://nfl@bgupb202402juanbarriento.blob.core.windows.net/bronze/nfl-2022/plays\").cache()\n",
    "\n",
    "# Check the data\n",
    "display(nflPlaysBronze)"
   ]
  },
  {
   "cell_type": "markdown",
   "metadata": {
    "application/vnd.databricks.v1+cell": {
     "cellMetadata": {},
     "inputWidgets": {},
     "nuid": "156dbc13-06e4-4834-8234-6f2bf8461471",
     "showTitle": false,
     "tableResultSettingsMap": {},
     "title": ""
    }
   },
   "source": [
    "### Exploration of the Data"
   ]
  },
  {
   "cell_type": "code",
   "execution_count": 0,
   "metadata": {
    "application/vnd.databricks.v1+cell": {
     "cellMetadata": {
      "byteLimit": 2048000,
      "rowLimit": 10000
     },
     "inputWidgets": {},
     "nuid": "dc4d7317-098b-44db-8048-03ad6b813825",
     "showTitle": false,
     "tableResultSettingsMap": {},
     "title": ""
    }
   },
   "outputs": [],
   "source": [
    "#create a view of the data\n",
    "nflPlaysBronze.createOrReplaceTempView(\"nflPlaysBronze_View\")"
   ]
  },
  {
   "cell_type": "code",
   "execution_count": 0,
   "metadata": {
    "application/vnd.databricks.v1+cell": {
     "cellMetadata": {
      "byteLimit": 2048000,
      "implicitDf": true,
      "rowLimit": 10000
     },
     "inputWidgets": {},
     "nuid": "4776891e-1030-438f-8b68-f413a051c17a",
     "showTitle": false,
     "tableResultSettingsMap": {},
     "title": ""
    }
   },
   "outputs": [
    {
     "output_type": "display_data",
     "data": {
      "text/html": [
       "<style scoped>\n",
       "  .table-result-container {\n",
       "    max-height: 300px;\n",
       "    overflow: auto;\n",
       "  }\n",
       "  table, th, td {\n",
       "    border: 1px solid black;\n",
       "    border-collapse: collapse;\n",
       "  }\n",
       "  th, td {\n",
       "    padding: 5px;\n",
       "  }\n",
       "  th {\n",
       "    text-align: left;\n",
       "  }\n",
       "</style><div class='table-result-container'><table class='table-result'><thead style='background-color: white'><tr><th>specialTeamsPlayType</th><th>KickLength_Average</th></tr></thead><tbody><tr><td>Kickoff</td><td>67.06145607548132</td></tr></tbody></table></div>"
      ]
     },
     "metadata": {
      "application/vnd.databricks.v1+output": {
       "addedWidgets": {},
       "aggData": [],
       "aggError": "",
       "aggOverflow": false,
       "aggSchema": [],
       "aggSeriesLimitReached": false,
       "aggType": "",
       "arguments": {},
       "columnCustomDisplayInfos": {},
       "data": [
        [
         "Kickoff",
         67.06145607548132
        ]
       ],
       "datasetInfos": [],
       "dbfsResultPath": null,
       "isJsonSchema": true,
       "metadata": {
        "dataframeName": "_sqldf",
        "executionCount": 8
       },
       "overflow": false,
       "plotOptions": {
        "customPlotOptions": {},
        "displayType": "table",
        "pivotAggregation": null,
        "pivotColumns": null,
        "xColumns": null,
        "yColumns": null
       },
       "removedWidgets": [],
       "schema": [
        {
         "metadata": "{}",
         "name": "specialTeamsPlayType",
         "type": "\"string\""
        },
        {
         "metadata": "{}",
         "name": "KickLength_Average",
         "type": "\"double\""
        }
       ],
       "type": "table"
      }
     },
     "output_type": "display_data"
    }
   ],
   "source": [
    "%sql\n",
    "-- Average kick length by kickoff\n",
    "SELECT specialTeamsPlayType, avg(kickLength) AS KickLength_Average\n",
    "FROM nflPlaysBronze_View\n",
    "WHERE specialTeamsPlayType = 'Kickoff'\n",
    "GROUP BY specialTeamsPlayType\n",
    "\n"
   ]
  },
  {
   "cell_type": "code",
   "execution_count": 0,
   "metadata": {
    "application/vnd.databricks.v1+cell": {
     "cellMetadata": {
      "byteLimit": 2048000,
      "implicitDf": true,
      "rowLimit": 10000
     },
     "inputWidgets": {},
     "nuid": "73833e3a-094a-42cd-8e43-fd47be59d5bc",
     "showTitle": false,
     "tableResultSettingsMap": {},
     "title": ""
    }
   },
   "outputs": [
    {
     "output_type": "display_data",
     "data": {
      "text/html": [
       "<style scoped>\n",
       "  .table-result-container {\n",
       "    max-height: 300px;\n",
       "    overflow: auto;\n",
       "  }\n",
       "  table, th, td {\n",
       "    border: 1px solid black;\n",
       "    border-collapse: collapse;\n",
       "  }\n",
       "  th, td {\n",
       "    padding: 5px;\n",
       "  }\n",
       "  th {\n",
       "    text-align: left;\n",
       "  }\n",
       "</style><div class='table-result-container'><table class='table-result'><thead style='background-color: white'><tr><th>specialTeamsPlayType</th><th>KickLength_Average</th></tr></thead><tbody><tr><td>Field Goal</td><td>38.14773599386032</td></tr></tbody></table></div>"
      ]
     },
     "metadata": {
      "application/vnd.databricks.v1+output": {
       "addedWidgets": {},
       "aggData": [],
       "aggError": "",
       "aggOverflow": false,
       "aggSchema": [],
       "aggSeriesLimitReached": false,
       "aggType": "",
       "arguments": {},
       "columnCustomDisplayInfos": {},
       "data": [
        [
         "Field Goal",
         38.14773599386032
        ]
       ],
       "datasetInfos": [],
       "dbfsResultPath": null,
       "isJsonSchema": true,
       "metadata": {},
       "overflow": false,
       "plotOptions": {
        "customPlotOptions": {},
        "displayType": "table",
        "pivotAggregation": null,
        "pivotColumns": null,
        "xColumns": null,
        "yColumns": null
       },
       "removedWidgets": [],
       "schema": [
        {
         "metadata": "{}",
         "name": "specialTeamsPlayType",
         "type": "\"string\""
        },
        {
         "metadata": "{}",
         "name": "KickLength_Average",
         "type": "\"double\""
        }
       ],
       "type": "table"
      }
     },
     "output_type": "display_data"
    }
   ],
   "source": [
    "\n",
    "display(\n",
    "    nflPlaysBronze\n",
    "    .filter(col(\"specialTeamsPlayType\") == \"Field Goal\")\n",
    "    .groupBy(\"specialTeamsPlayType\")\n",
    "    .agg(avg(\"kickLength\").alias(\"KickLength_Average\"))\n",
    ")"
   ]
  },
  {
   "cell_type": "code",
   "execution_count": 0,
   "metadata": {
    "application/vnd.databricks.v1+cell": {
     "cellMetadata": {
      "byteLimit": 2048000,
      "rowLimit": 10000
     },
     "inputWidgets": {},
     "nuid": "027a6a9d-bd6e-4956-a243-fbf5aee48b1f",
     "showTitle": false,
     "tableResultSettingsMap": {},
     "title": ""
    }
   },
   "outputs": [
    {
     "output_type": "display_data",
     "data": {
      "text/html": [
       "<style scoped>\n",
       "  .table-result-container {\n",
       "    max-height: 300px;\n",
       "    overflow: auto;\n",
       "  }\n",
       "  table, th, td {\n",
       "    border: 1px solid black;\n",
       "    border-collapse: collapse;\n",
       "  }\n",
       "  th, td {\n",
       "    padding: 5px;\n",
       "  }\n",
       "  th {\n",
       "    text-align: left;\n",
       "  }\n",
       "</style><div class='table-result-container'><table class='table-result'><thead style='background-color: white'><tr><th>possessionTeam</th><th>KickLength_Average</th></tr></thead><tbody><tr><td>NYJ</td><td>52.970093457943925</td></tr><tr><td>CAR</td><td>56.612631578947365</td></tr><tr><td>LA</td><td>56.662921348314605</td></tr><tr><td>TB</td><td>57.44022770398482</td></tr><tr><td>OAK</td><td>52.524096385542165</td></tr><tr><td>DET</td><td>53.0</td></tr><tr><td>TEN</td><td>55.31809145129225</td></tr><tr><td>BUF</td><td>54.20970873786408</td></tr><tr><td>BAL</td><td>56.64990689013035</td></tr><tr><td>LAC</td><td>54.696280991735534</td></tr><tr><td>NE</td><td>54.20075046904315</td></tr><tr><td>GB</td><td>55.115606936416185</td></tr><tr><td>DEN</td><td>54.46456692913386</td></tr><tr><td>ARI</td><td>54.44204322200393</td></tr><tr><td>SF</td><td>54.208</td></tr><tr><td>KC</td><td>57.34538152610442</td></tr><tr><td>SEA</td><td>55.77237354085603</td></tr><tr><td>CIN</td><td>53.972386587771204</td></tr><tr><td>DAL</td><td>54.439121756487026</td></tr><tr><td>CLE</td><td>54.611336032388664</td></tr><tr><td>MIA</td><td>53.739543726235745</td></tr><tr><td>MIN</td><td>54.63347457627118</td></tr><tr><td>LV</td><td>55.12352941176471</td></tr><tr><td>ATL</td><td>53.47784200385357</td></tr><tr><td>PHI</td><td>55.652977412731005</td></tr><tr><td>WAS</td><td>54.875243664717345</td></tr><tr><td>NYG</td><td>53.22554890219561</td></tr><tr><td>PIT</td><td>54.02131782945737</td></tr><tr><td>NO</td><td>57.112994350282484</td></tr><tr><td>IND</td><td>55.03353057199211</td></tr><tr><td>HOU</td><td>54.735849056603776</td></tr><tr><td>JAX</td><td>52.43280632411067</td></tr><tr><td>CHI</td><td>53.2704280155642</td></tr></tbody></table></div>"
      ]
     },
     "metadata": {
      "application/vnd.databricks.v1+output": {
       "addedWidgets": {},
       "aggData": [],
       "aggError": "",
       "aggOverflow": false,
       "aggSchema": [],
       "aggSeriesLimitReached": false,
       "aggType": "",
       "arguments": {},
       "columnCustomDisplayInfos": {},
       "data": [
        [
         "NYJ",
         52.970093457943925
        ],
        [
         "CAR",
         56.612631578947365
        ],
        [
         "LA",
         56.662921348314605
        ],
        [
         "TB",
         57.44022770398482
        ],
        [
         "OAK",
         52.524096385542165
        ],
        [
         "DET",
         53.0
        ],
        [
         "TEN",
         55.31809145129225
        ],
        [
         "BUF",
         54.20970873786408
        ],
        [
         "BAL",
         56.64990689013035
        ],
        [
         "LAC",
         54.696280991735534
        ],
        [
         "NE",
         54.20075046904315
        ],
        [
         "GB",
         55.115606936416185
        ],
        [
         "DEN",
         54.46456692913386
        ],
        [
         "ARI",
         54.44204322200393
        ],
        [
         "SF",
         54.208
        ],
        [
         "KC",
         57.34538152610442
        ],
        [
         "SEA",
         55.77237354085603
        ],
        [
         "CIN",
         53.972386587771204
        ],
        [
         "DAL",
         54.439121756487026
        ],
        [
         "CLE",
         54.611336032388664
        ],
        [
         "MIA",
         53.739543726235745
        ],
        [
         "MIN",
         54.63347457627118
        ],
        [
         "LV",
         55.12352941176471
        ],
        [
         "ATL",
         53.47784200385357
        ],
        [
         "PHI",
         55.652977412731005
        ],
        [
         "WAS",
         54.875243664717345
        ],
        [
         "NYG",
         53.22554890219561
        ],
        [
         "PIT",
         54.02131782945737
        ],
        [
         "NO",
         57.112994350282484
        ],
        [
         "IND",
         55.03353057199211
        ],
        [
         "HOU",
         54.735849056603776
        ],
        [
         "JAX",
         52.43280632411067
        ],
        [
         "CHI",
         53.2704280155642
        ]
       ],
       "datasetInfos": [],
       "dbfsResultPath": null,
       "isJsonSchema": true,
       "metadata": {},
       "overflow": false,
       "plotOptions": {
        "customPlotOptions": {},
        "displayType": "table",
        "pivotAggregation": null,
        "pivotColumns": null,
        "xColumns": null,
        "yColumns": null
       },
       "removedWidgets": [],
       "schema": [
        {
         "metadata": "{}",
         "name": "possessionTeam",
         "type": "\"string\""
        },
        {
         "metadata": "{}",
         "name": "KickLength_Average",
         "type": "\"double\""
        }
       ],
       "type": "table"
      }
     },
     "output_type": "display_data"
    }
   ],
   "source": [
    "display(\n",
    "    nflPlaysBronze\n",
    "    .groupBy(\"possessionTeam\")\n",
    "    .agg(avg(\"kickLength\").alias(\"KickLength_Average\"))\n",
    ")"
   ]
  },
  {
   "cell_type": "markdown",
   "metadata": {
    "application/vnd.databricks.v1+cell": {
     "cellMetadata": {},
     "inputWidgets": {},
     "nuid": "50f74162-e774-47c5-9305-31f40b842657",
     "showTitle": false,
     "tableResultSettingsMap": {},
     "title": ""
    }
   },
   "source": []
  },
  {
   "cell_type": "markdown",
   "metadata": {
    "application/vnd.databricks.v1+cell": {
     "cellMetadata": {},
     "inputWidgets": {},
     "nuid": "9e9e8eac-62db-44ec-a4d5-a17baed66c9d",
     "showTitle": false,
     "tableResultSettingsMap": {},
     "title": ""
    }
   },
   "source": [
    "### Create new Columns for Plays DataFrame\n",
    "\n",
    "### 1. `is_penalty_flag`\n",
    "- **Description**: A binary column indicating whether a penalty occurred during the play.\n",
    "- **Logic**: A value of `1` is assigned if the `penaltyCodes` field is not null, meaning a penalty was called. Otherwise, the value is `0`.\n",
    "- **Usefulness**: Penalties can drastically change the momentum of a game, so this flag allows for focused analysis on how penalties influence game results, player behavior, and overall team performance.\n",
    "\n",
    "### 2. `is_SuccessfulPlay_flag`\n",
    "- **Description**: A binary column indicating whether the play was successful based on gaining the required yards for a first down or more.\n",
    "- **Logic**: A value of `1` is assigned if the `playResult` (net yards gained) is greater than or equal to `yardsToGo` (the distance required for a first down). Otherwise, the value is `0`.\n",
    "- **Usefulness**: This flag helps to quickly identify successful plays, making it easier to analyze the effectiveness of offensive strategies and the ability of teams to convert downs. It's particularly useful for analyzing efficiency in key moments, such as third downs.\n",
    "\n",
    "### 3. `is_ReturnPlay_flag`\n",
    "- **Description**: A binary column indicating whether a return play occurred.\n",
    "- **Logic**: A value of `1` is assigned if `kickReturnYardage` is greater than 0, meaning the ball was returned during a punt or kickoff. Otherwise, the value is `0`.\n",
    "- **Usefulness**: This flag is helpful for isolating plays where there was a return, allowing for specific analysis of return team performance, coverage team effectiveness, and overall special teams play. Analyzing return plays can reveal insights into field position advantage and game-changing moments such as long returns.\n",
    "\n",
    "### 4. `is_Touchdown_flag`\n",
    "- **Description**: A binary column indicating whether a touchdown play occurred.\n",
    "- **Logic**: A value of `1` is assigned if `playDescription` contains the word TOUCHDOWN. Otherwise, the value is `0`.\n",
    "- **Usefulness**: This flag is helpful for helps to quickly identify Touchdown plays, allowing for specific analysis of  scoring trends or  team efficiency.\n",
    "\n",
    "---"
   ]
  },
  {
   "cell_type": "code",
   "execution_count": 0,
   "metadata": {
    "application/vnd.databricks.v1+cell": {
     "cellMetadata": {
      "byteLimit": 2048000,
      "rowLimit": 10000
     },
     "inputWidgets": {},
     "nuid": "2f7e1a4e-1c73-439f-a646-55bd23091b8b",
     "showTitle": false,
     "tableResultSettingsMap": {},
     "title": ""
    }
   },
   "outputs": [],
   "source": [
    "#new columns for the silver layer\n",
    "nflPlaysSilver = nflPlaysBronze.withColumn(\n",
    "    \"is_penalty_flag\",\n",
    "    when(\n",
    "        col(\"penaltyCodes\").isNotNull(), \n",
    "        1\n",
    "    ).otherwise(0)\n",
    ").withColumn(\n",
    "    \"is_SuccessfulPlay_flag\",\n",
    "    when(\n",
    "        col(\"playResult\") >= col(\"yardsToGo\"), \n",
    "        1\n",
    "    ).otherwise(0)\n",
    ").withColumn(\n",
    "    \"is_ReturnPlay_flag\", \n",
    "    when(\n",
    "        col(\"kickReturnYardage\") > 0, 1\n",
    "    ).otherwise(0)\n",
    ").withColumn(\n",
    "    \"is_Touchdown_flag\",\n",
    "    when(\n",
    "        col(\"playDescription\").contains(\"TOUCHDOWN\"), 1\n",
    "    ).otherwise(0)\n",
    "    )\n",
    "\n",
    "#check the data\n",
    "display(nflPlaysSilver)\n"
   ]
  },
  {
   "cell_type": "code",
   "execution_count": 0,
   "metadata": {
    "application/vnd.databricks.v1+cell": {
     "cellMetadata": {
      "byteLimit": 2048000,
      "rowLimit": 10000
     },
     "inputWidgets": {},
     "nuid": "f4f9413c-a3a8-477f-b79a-e160db5e778a",
     "showTitle": false,
     "tableResultSettingsMap": {},
     "title": ""
    }
   },
   "outputs": [
    {
     "output_type": "display_data",
     "data": {
      "text/plain": [
       "StructType([StructField('gameId', IntegerType(), True), StructField('playId', IntegerType(), True), StructField('playDescription', StringType(), True), StructField('quarter', IntegerType(), True), StructField('down', IntegerType(), True), StructField('yardsToGo', IntegerType(), True), StructField('possessionTeam', StringType(), True), StructField('specialTeamsPlayType', StringType(), True), StructField('specialTeamsResult', StringType(), True), StructField('kickerId', IntegerType(), True), StructField('returnerId', IntegerType(), True), StructField('kickBlockerId', IntegerType(), True), StructField('yardlineSide', StringType(), True), StructField('yardlineNumber', IntegerType(), True), StructField('gameClock', StringType(), True), StructField('penaltyCodes', StringType(), True), StructField('penaltyJerseyNumbers', StringType(), True), StructField('penaltyYards', IntegerType(), True), StructField('preSnapHomeScore', IntegerType(), True), StructField('preSnapVisitorScore', IntegerType(), True), StructField('passResult', StringType(), True), StructField('kickLength', IntegerType(), True), StructField('kickReturnYardage', IntegerType(), True), StructField('playResult', IntegerType(), True), StructField('absoluteYardlineNumber', IntegerType(), True), StructField('is_penalty_flag', IntegerType(), False), StructField('is_SuccessfulPlay_flag', IntegerType(), False), StructField('is_ReturnPlay_flag', IntegerType(), False), StructField('is_Touchdown_flag', IntegerType(), False)])"
      ]
     },
     "metadata": {},
     "output_type": "display_data"
    }
   ],
   "source": [
    "display(nflPlaysSilver.schema)"
   ]
  },
  {
   "cell_type": "markdown",
   "metadata": {
    "application/vnd.databricks.v1+cell": {
     "cellMetadata": {},
     "inputWidgets": {},
     "nuid": "cd0b8f0a-9c5d-48d7-8d41-386756e0f665",
     "showTitle": false,
     "tableResultSettingsMap": {},
     "title": ""
    }
   },
   "source": [
    "### Save the data in the **Silver** Layer"
   ]
  },
  {
   "cell_type": "code",
   "execution_count": 0,
   "metadata": {
    "application/vnd.databricks.v1+cell": {
     "cellMetadata": {
      "byteLimit": 2048000,
      "rowLimit": 10000
     },
     "inputWidgets": {},
     "nuid": "47b0a607-e82f-4695-945b-b0552f5ef7e8",
     "showTitle": false,
     "tableResultSettingsMap": {},
     "title": ""
    }
   },
   "outputs": [
    {
     "output_type": "execute_result",
     "data": {
      "text/plain": [
       "True"
      ]
     },
     "execution_count": 14,
     "metadata": {},
     "output_type": "execute_result"
    }
   ],
   "source": [
    "#Delete any residual data from prior executions for an idempotent run\n",
    "dbutils.fs.rm(destDataDirRoot,recurse=True)"
   ]
  },
  {
   "cell_type": "code",
   "execution_count": 0,
   "metadata": {
    "application/vnd.databricks.v1+cell": {
     "cellMetadata": {
      "byteLimit": 2048000,
      "rowLimit": 10000
     },
     "inputWidgets": {},
     "nuid": "817b920a-3a24-40b2-a189-35eab969b970",
     "showTitle": false,
     "tableResultSettingsMap": {},
     "title": ""
    }
   },
   "outputs": [],
   "source": [
    "#To make Hive Parquet format compatible with Spark Parquet format\n",
    "sqlContext.setConf(\"spark.sql.parquet.writeLegacyFormat\", \"true\")\n",
    "\n",
    "#Save the dataset with the new columns\n",
    "nflPlaysSilver.write.format(\"delta\").mode(\"append\").save(destDataDirRoot) "
   ]
  }
 ],
 "metadata": {
  "application/vnd.databricks.v1+notebook": {
   "computePreferences": null,
   "dashboards": [],
   "environmentMetadata": null,
   "language": "python",
   "notebookMetadata": {
    "mostRecentlyExecutedCommandWithImplicitDF": {
     "commandId": 4415626438822364,
     "dataframes": [
      "_sqldf"
     ]
    },
    "pythonIndentUnit": 4
   },
   "notebookName": "02-TransformData-Plays",
   "widgets": {}
  },
  "language_info": {
   "name": "python"
  }
 },
 "nbformat": 4,
 "nbformat_minor": 0
}