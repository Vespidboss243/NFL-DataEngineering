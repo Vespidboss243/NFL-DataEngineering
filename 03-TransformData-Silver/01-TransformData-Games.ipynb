{
 "cells": [
  {
   "cell_type": "markdown",
   "metadata": {
    "application/vnd.databricks.v1+cell": {
     "cellMetadata": {},
     "inputWidgets": {},
     "nuid": "7e618b91-4ed5-4dec-b023-f05719272790",
     "showTitle": false,
     "tableResultSettingsMap": {},
     "title": ""
    }
   },
   "source": [
    "### **Import Libraries**"
   ]
  },
  {
   "cell_type": "code",
   "execution_count": 0,
   "metadata": {
    "application/vnd.databricks.v1+cell": {
     "cellMetadata": {
      "byteLimit": 2048000,
      "rowLimit": 10000
     },
     "inputWidgets": {},
     "nuid": "961ad818-5426-4fc3-af6c-25ed7a982be1",
     "showTitle": false,
     "tableResultSettingsMap": {},
     "title": ""
    }
   },
   "outputs": [],
   "source": [
    "from pyspark.sql.types import StructType, StructField, StringType, IntegerType,LongType,FloatType,DoubleType, TimestampType, DateType\n",
    "from pyspark.sql.functions import *"
   ]
  },
  {
   "cell_type": "markdown",
   "metadata": {
    "application/vnd.databricks.v1+cell": {
     "cellMetadata": {},
     "inputWidgets": {},
     "nuid": "b2cc414c-40b3-4436-91b4-09c3004a1ac0",
     "showTitle": false,
     "tableResultSettingsMap": {},
     "title": ""
    }
   },
   "source": [
    "### Execute notebook with common/reusable functions "
   ]
  },
  {
   "cell_type": "code",
   "execution_count": 0,
   "metadata": {
    "application/vnd.databricks.v1+cell": {
     "cellMetadata": {
      "byteLimit": 2048000,
      "rowLimit": 10000
     },
     "inputWidgets": {},
     "nuid": "16f36d41-8ed8-4f97-be5a-6e894570026f",
     "showTitle": false,
     "tableResultSettingsMap": {},
     "title": ""
    }
   },
   "outputs": [],
   "source": [
    "%run \"../01-General/02-CommonFunctions\""
   ]
  },
  {
   "cell_type": "markdown",
   "metadata": {
    "application/vnd.databricks.v1+cell": {
     "cellMetadata": {},
     "inputWidgets": {},
     "nuid": "81dcfaf1-cb40-4d08-aede-0d29986ad113",
     "showTitle": false,
     "tableResultSettingsMap": {},
     "title": ""
    }
   },
   "source": [
    "### Connect to the storage"
   ]
  },
  {
   "cell_type": "code",
   "execution_count": 0,
   "metadata": {
    "application/vnd.databricks.v1+cell": {
     "cellMetadata": {
      "byteLimit": 2048000,
      "rowLimit": 10000
     },
     "inputWidgets": {},
     "nuid": "1004a2a4-b343-455c-bf75-ddb221e5e75b",
     "showTitle": false,
     "tableResultSettingsMap": {},
     "title": ""
    }
   },
   "outputs": [
    {
     "output_type": "stream",
     "name": "stdout",
     "output_type": "stream",
     "text": [
      "Remote blob path: wasbs://nfl@bgupb202402juanbarriento.blob.core.windows.net/\n"
     ]
    }
   ],
   "source": [
    "wasbs_path = connect()"
   ]
  },
  {
   "cell_type": "markdown",
   "metadata": {
    "application/vnd.databricks.v1+cell": {
     "cellMetadata": {},
     "inputWidgets": {},
     "nuid": "cf97cec7-12b2-451b-96c6-e60966c77545",
     "showTitle": false,
     "tableResultSettingsMap": {},
     "title": ""
    }
   },
   "source": [
    "### Create Paths"
   ]
  },
  {
   "cell_type": "code",
   "execution_count": 0,
   "metadata": {
    "application/vnd.databricks.v1+cell": {
     "cellMetadata": {
      "byteLimit": 2048000,
      "rowLimit": 10000
     },
     "inputWidgets": {},
     "nuid": "f7d2fc2b-192f-41c3-a16a-fc1d2990229b",
     "showTitle": false,
     "tableResultSettingsMap": {},
     "title": ""
    }
   },
   "outputs": [
    {
     "output_type": "stream",
     "name": "stdout",
     "output_type": "stream",
     "text": [
      "Source data dir: wasbs://nfl@bgupb202402juanbarriento.blob.core.windows.net/bronze/nfl-2022/\nDestination data dir: wasbs://nfl@bgupb202402juanbarriento.blob.core.windows.net/silver/nfl-2022/games/\n"
     ]
    }
   ],
   "source": [
    "srcDataDirRoot,destDataDirRoot = route(wasbs_path,\"games\",\"bronze\",\"silver\")\n",
    "print(f\"Source data dir: {srcDataDirRoot}\")\n",
    "print(f\"Destination data dir: {destDataDirRoot}\")"
   ]
  },
  {
   "cell_type": "markdown",
   "metadata": {
    "application/vnd.databricks.v1+cell": {
     "cellMetadata": {},
     "inputWidgets": {},
     "nuid": "c1c0f487-6652-499a-a6ca-14eba2e7cb6d",
     "showTitle": false,
     "tableResultSettingsMap": {},
     "title": ""
    }
   },
   "source": [
    "### Read the files from the bronze layer"
   ]
  },
  {
   "cell_type": "code",
   "execution_count": 0,
   "metadata": {
    "application/vnd.databricks.v1+cell": {
     "cellMetadata": {
      "byteLimit": 2048000,
      "rowLimit": 10000
     },
     "inputWidgets": {},
     "nuid": "b3741b68-0f70-430c-9389-a45241ab82d7",
     "showTitle": false,
     "tableResultSettingsMap": {},
     "title": ""
    }
   },
   "outputs": [],
   "source": [
    "# Read the data in delta format\n",
    "nflGamesBronze = spark.read.format(\"delta\").load(\"wasbs://nfl@bgupb202402juanbarriento.blob.core.windows.net/bronze/nfl-2022/games\").cache()\n",
    "\n",
    "# Check the data\n",
    "display(nflGamesBronze)"
   ]
  },
  {
   "cell_type": "markdown",
   "metadata": {
    "application/vnd.databricks.v1+cell": {
     "cellMetadata": {},
     "inputWidgets": {},
     "nuid": "7a99744a-9d7f-4efc-93c6-9dab6dc755e6",
     "showTitle": false,
     "tableResultSettingsMap": {},
     "title": ""
    }
   },
   "source": [
    "### Exploration of the Data"
   ]
  },
  {
   "cell_type": "code",
   "execution_count": 0,
   "metadata": {
    "application/vnd.databricks.v1+cell": {
     "cellMetadata": {
      "byteLimit": 2048000,
      "rowLimit": 10000
     },
     "inputWidgets": {},
     "nuid": "6f09e591-03cc-4da6-a478-5981e4a7894e",
     "showTitle": false,
     "tableResultSettingsMap": {},
     "title": ""
    }
   },
   "outputs": [],
   "source": [
    "#create a view of the data\n",
    "nflGamesBronze.createOrReplaceTempView(\"nflGamesBronze_View\")"
   ]
  },
  {
   "cell_type": "code",
   "execution_count": 0,
   "metadata": {
    "application/vnd.databricks.v1+cell": {
     "cellMetadata": {
      "byteLimit": 2048000,
      "implicitDf": true,
      "rowLimit": 10000
     },
     "inputWidgets": {},
     "nuid": "a4ddb9d4-90f2-477b-9139-ad78ce8cb6d4",
     "showTitle": false,
     "tableResultSettingsMap": {},
     "title": ""
    }
   },
   "outputs": [
    {
     "output_type": "display_data",
     "data": {
      "text/html": [
       "<style scoped>\n",
       "  .table-result-container {\n",
       "    max-height: 300px;\n",
       "    overflow: auto;\n",
       "  }\n",
       "  table, th, td {\n",
       "    border: 1px solid black;\n",
       "    border-collapse: collapse;\n",
       "  }\n",
       "  th, td {\n",
       "    padding: 5px;\n",
       "  }\n",
       "  th {\n",
       "    text-align: left;\n",
       "  }\n",
       "</style><div class='table-result-container'><table class='table-result'><thead style='background-color: white'><tr><th>season</th><th>Games_Count</th></tr></thead><tbody><tr><td>2020</td><td>256</td></tr><tr><td>2019</td><td>255</td></tr><tr><td>2018</td><td>253</td></tr></tbody></table></div>"
      ]
     },
     "metadata": {
      "application/vnd.databricks.v1+output": {
       "addedWidgets": {},
       "aggData": [],
       "aggError": "",
       "aggOverflow": false,
       "aggSchema": [],
       "aggSeriesLimitReached": false,
       "aggType": "",
       "arguments": {},
       "columnCustomDisplayInfos": {},
       "data": [
        [
         2020,
         256
        ],
        [
         2019,
         255
        ],
        [
         2018,
         253
        ]
       ],
       "datasetInfos": [],
       "dbfsResultPath": null,
       "isJsonSchema": true,
       "metadata": {
        "dataframeName": "_sqldf",
        "executionCount": 61
       },
       "overflow": false,
       "plotOptions": {
        "customPlotOptions": {},
        "displayType": "table",
        "pivotAggregation": null,
        "pivotColumns": null,
        "xColumns": null,
        "yColumns": null
       },
       "removedWidgets": [],
       "schema": [
        {
         "metadata": "{}",
         "name": "season",
         "type": "\"integer\""
        },
        {
         "metadata": "{}",
         "name": "Games_Count",
         "type": "\"long\""
        }
       ],
       "type": "table"
      }
     },
     "output_type": "display_data"
    }
   ],
   "source": [
    "%sql\n",
    "-- How many games per season?\n",
    "SELECT season,count(gameId) AS Games_Count\n",
    "FROM nflGamesBronze_View\n",
    "GROUP BY season\n",
    "ORDER BY season DESC"
   ]
  },
  {
   "cell_type": "code",
   "execution_count": 0,
   "metadata": {
    "application/vnd.databricks.v1+cell": {
     "cellMetadata": {
      "byteLimit": 2048000,
      "rowLimit": 10000
     },
     "inputWidgets": {},
     "nuid": "c377029a-9ca6-4ad3-b640-0bb3052d84f9",
     "showTitle": false,
     "tableResultSettingsMap": {},
     "title": ""
    }
   },
   "outputs": [
    {
     "output_type": "display_data",
     "data": {
      "text/html": [
       "<style scoped>\n",
       "  .table-result-container {\n",
       "    max-height: 300px;\n",
       "    overflow: auto;\n",
       "  }\n",
       "  table, th, td {\n",
       "    border: 1px solid black;\n",
       "    border-collapse: collapse;\n",
       "  }\n",
       "  th, td {\n",
       "    padding: 5px;\n",
       "  }\n",
       "  th {\n",
       "    text-align: left;\n",
       "  }\n",
       "</style><div class='table-result-container'><table class='table-result'><thead style='background-color: white'><tr><th>homeTeamAbbr</th><th>Games_Count</th></tr></thead><tbody><tr><td>NYJ</td><td>8</td></tr><tr><td>CAR</td><td>8</td></tr><tr><td>LA</td><td>8</td></tr><tr><td>TB</td><td>8</td></tr><tr><td>DET</td><td>8</td></tr><tr><td>TEN</td><td>8</td></tr><tr><td>BUF</td><td>8</td></tr><tr><td>BAL</td><td>8</td></tr><tr><td>LAC</td><td>8</td></tr><tr><td>NE</td><td>8</td></tr><tr><td>GB</td><td>8</td></tr><tr><td>DEN</td><td>8</td></tr><tr><td>SF</td><td>8</td></tr><tr><td>ARI</td><td>8</td></tr><tr><td>KC</td><td>8</td></tr><tr><td>SEA</td><td>8</td></tr><tr><td>CIN</td><td>8</td></tr><tr><td>DAL</td><td>8</td></tr><tr><td>CLE</td><td>8</td></tr><tr><td>MIA</td><td>8</td></tr><tr><td>MIN</td><td>8</td></tr><tr><td>LV</td><td>8</td></tr><tr><td>ATL</td><td>8</td></tr><tr><td>PHI</td><td>8</td></tr><tr><td>WAS</td><td>8</td></tr><tr><td>NYG</td><td>8</td></tr><tr><td>PIT</td><td>8</td></tr><tr><td>NO</td><td>8</td></tr><tr><td>IND</td><td>8</td></tr><tr><td>HOU</td><td>8</td></tr><tr><td>JAX</td><td>8</td></tr><tr><td>CHI</td><td>8</td></tr></tbody></table></div>"
      ]
     },
     "metadata": {
      "application/vnd.databricks.v1+output": {
       "addedWidgets": {},
       "aggData": [],
       "aggError": "",
       "aggOverflow": false,
       "aggSchema": [],
       "aggSeriesLimitReached": false,
       "aggType": "",
       "arguments": {},
       "columnCustomDisplayInfos": {},
       "data": [
        [
         "NYJ",
         8
        ],
        [
         "CAR",
         8
        ],
        [
         "LA",
         8
        ],
        [
         "TB",
         8
        ],
        [
         "DET",
         8
        ],
        [
         "TEN",
         8
        ],
        [
         "BUF",
         8
        ],
        [
         "BAL",
         8
        ],
        [
         "LAC",
         8
        ],
        [
         "NE",
         8
        ],
        [
         "GB",
         8
        ],
        [
         "DEN",
         8
        ],
        [
         "SF",
         8
        ],
        [
         "ARI",
         8
        ],
        [
         "KC",
         8
        ],
        [
         "SEA",
         8
        ],
        [
         "CIN",
         8
        ],
        [
         "DAL",
         8
        ],
        [
         "CLE",
         8
        ],
        [
         "MIA",
         8
        ],
        [
         "MIN",
         8
        ],
        [
         "LV",
         8
        ],
        [
         "ATL",
         8
        ],
        [
         "PHI",
         8
        ],
        [
         "WAS",
         8
        ],
        [
         "NYG",
         8
        ],
        [
         "PIT",
         8
        ],
        [
         "NO",
         8
        ],
        [
         "IND",
         8
        ],
        [
         "HOU",
         8
        ],
        [
         "JAX",
         8
        ],
        [
         "CHI",
         8
        ]
       ],
       "datasetInfos": [],
       "dbfsResultPath": null,
       "isJsonSchema": true,
       "metadata": {},
       "overflow": false,
       "plotOptions": {
        "customPlotOptions": {},
        "displayType": "table",
        "pivotAggregation": null,
        "pivotColumns": null,
        "xColumns": null,
        "yColumns": null
       },
       "removedWidgets": [],
       "schema": [
        {
         "metadata": "{}",
         "name": "homeTeamAbbr",
         "type": "\"string\""
        },
        {
         "metadata": "{}",
         "name": "Games_Count",
         "type": "\"long\""
        }
       ],
       "type": "table"
      }
     },
     "output_type": "display_data"
    }
   ],
   "source": [
    "# How many games were played in the 2020 season for a team being a local?\n",
    "display(\n",
    "    nflGamesBronze\n",
    "    .filter(col(\"season\") == 2020)  \n",
    "    .groupBy(\"homeTeamAbbr\")\n",
    "    .agg(count(\"gameId\").alias(\"Games_Count\"))\n",
    ")"
   ]
  },
  {
   "cell_type": "code",
   "execution_count": 0,
   "metadata": {
    "application/vnd.databricks.v1+cell": {
     "cellMetadata": {
      "byteLimit": 2048000,
      "rowLimit": 10000
     },
     "inputWidgets": {},
     "nuid": "0c701932-0bd9-42b0-b8d6-8636b2addb90",
     "showTitle": false,
     "tableResultSettingsMap": {},
     "title": ""
    }
   },
   "outputs": [
    {
     "output_type": "display_data",
     "data": {
      "text/html": [
       "<style scoped>\n",
       "  .table-result-container {\n",
       "    max-height: 300px;\n",
       "    overflow: auto;\n",
       "  }\n",
       "  table, th, td {\n",
       "    border: 1px solid black;\n",
       "    border-collapse: collapse;\n",
       "  }\n",
       "  th, td {\n",
       "    padding: 5px;\n",
       "  }\n",
       "  th {\n",
       "    text-align: left;\n",
       "  }\n",
       "</style><div class='table-result-container'><table class='table-result'><thead style='background-color: white'><tr><th>visitorTeamAbbr</th><th>Games_Count</th></tr></thead><tbody><tr><td>NYJ</td><td>8</td></tr><tr><td>CAR</td><td>8</td></tr><tr><td>LA</td><td>8</td></tr><tr><td>TB</td><td>8</td></tr><tr><td>OAK</td><td>8</td></tr><tr><td>DET</td><td>8</td></tr><tr><td>TEN</td><td>8</td></tr><tr><td>BUF</td><td>8</td></tr><tr><td>BAL</td><td>8</td></tr><tr><td>LAC</td><td>8</td></tr><tr><td>NE</td><td>8</td></tr><tr><td>GB</td><td>8</td></tr><tr><td>DEN</td><td>8</td></tr><tr><td>SF</td><td>8</td></tr><tr><td>ARI</td><td>8</td></tr><tr><td>KC</td><td>8</td></tr><tr><td>SEA</td><td>8</td></tr><tr><td>CIN</td><td>8</td></tr><tr><td>DAL</td><td>8</td></tr><tr><td>CLE</td><td>8</td></tr><tr><td>MIA</td><td>8</td></tr><tr><td>MIN</td><td>7</td></tr><tr><td>ATL</td><td>8</td></tr><tr><td>PHI</td><td>8</td></tr><tr><td>WAS</td><td>8</td></tr><tr><td>NYG</td><td>8</td></tr><tr><td>PIT</td><td>8</td></tr><tr><td>NO</td><td>8</td></tr><tr><td>IND</td><td>8</td></tr><tr><td>HOU</td><td>8</td></tr><tr><td>JAX</td><td>8</td></tr><tr><td>CHI</td><td>8</td></tr></tbody></table></div>"
      ]
     },
     "metadata": {
      "application/vnd.databricks.v1+output": {
       "addedWidgets": {},
       "aggData": [],
       "aggError": "",
       "aggOverflow": false,
       "aggSchema": [],
       "aggSeriesLimitReached": false,
       "aggType": "",
       "arguments": {},
       "columnCustomDisplayInfos": {},
       "data": [
        [
         "NYJ",
         8
        ],
        [
         "CAR",
         8
        ],
        [
         "LA",
         8
        ],
        [
         "TB",
         8
        ],
        [
         "OAK",
         8
        ],
        [
         "DET",
         8
        ],
        [
         "TEN",
         8
        ],
        [
         "BUF",
         8
        ],
        [
         "BAL",
         8
        ],
        [
         "LAC",
         8
        ],
        [
         "NE",
         8
        ],
        [
         "GB",
         8
        ],
        [
         "DEN",
         8
        ],
        [
         "SF",
         8
        ],
        [
         "ARI",
         8
        ],
        [
         "KC",
         8
        ],
        [
         "SEA",
         8
        ],
        [
         "CIN",
         8
        ],
        [
         "DAL",
         8
        ],
        [
         "CLE",
         8
        ],
        [
         "MIA",
         8
        ],
        [
         "MIN",
         7
        ],
        [
         "ATL",
         8
        ],
        [
         "PHI",
         8
        ],
        [
         "WAS",
         8
        ],
        [
         "NYG",
         8
        ],
        [
         "PIT",
         8
        ],
        [
         "NO",
         8
        ],
        [
         "IND",
         8
        ],
        [
         "HOU",
         8
        ],
        [
         "JAX",
         8
        ],
        [
         "CHI",
         8
        ]
       ],
       "datasetInfos": [],
       "dbfsResultPath": null,
       "isJsonSchema": true,
       "metadata": {},
       "overflow": false,
       "plotOptions": {
        "customPlotOptions": {},
        "displayType": "table",
        "pivotAggregation": null,
        "pivotColumns": null,
        "xColumns": null,
        "yColumns": null
       },
       "removedWidgets": [],
       "schema": [
        {
         "metadata": "{}",
         "name": "visitorTeamAbbr",
         "type": "\"string\""
        },
        {
         "metadata": "{}",
         "name": "Games_Count",
         "type": "\"long\""
        }
       ],
       "type": "table"
      }
     },
     "output_type": "display_data"
    }
   ],
   "source": [
    "# How many games were played in the 2020 season for a team being a visitor?\n",
    "display(\n",
    "    nflGamesBronze\n",
    "    .filter(col(\"season\") == 2019) \n",
    "    .groupBy(\"visitorTeamAbbr\")\n",
    "    .agg(count(\"gameId\").alias(\"Games_Count\"))\n",
    ")"
   ]
  },
  {
   "cell_type": "markdown",
   "metadata": {
    "application/vnd.databricks.v1+cell": {
     "cellMetadata": {},
     "inputWidgets": {},
     "nuid": "bdaebc38-8425-4999-8e5f-083fe011b6ed",
     "showTitle": false,
     "tableResultSettingsMap": {},
     "title": ""
    }
   },
   "source": [
    "### Create new Columns for Games DataFrame\n",
    "\n",
    "\n",
    "### 1. `is_playoff_flag`\n",
    "- **Description**: A binary column indicating whether a game is part of the playoffs.\n",
    "- **Logic**: A value of `1` is assigned if the `gameDate` falls within the playoff periods for the seasons 2018, 2019, or 2020. Otherwise, the value is `0`.\n",
    "- **Usefulness**: This column helps differentiate between regular season and playoff games, allowing for more focused analysis of team and player performance during high-stakes playoff games.\n",
    "\n",
    "### 2. `is_superbowl_flag`\n",
    "- **Description**: A binary column indicating whether a game is the Super Bowl.\n",
    "- **Logic**: A value of `1` is assigned if the `gameDate` matches the specific dates of the Super Bowls for the seasons 2018, 2019, and 2020. Otherwise, the value is `0`.\n",
    "- **Usefulness**: This column is critical for isolating Super Bowl games, enabling specialized analysis of the most important game of the season.\n",
    "\n",
    "### 3. `is_weekend_flag`\n",
    "- **Description**: A binary column that flags if a game occurred on a weekend (Saturday or Sunday).\n",
    "- **Logic**: A value of `1` is assigned if the game was played on a Saturday (`day_of_the_week = 7`) or a Sunday (`day_of_the_week = 1`). Otherwise, the value is `0`.\n",
    "- **Usefulness**: NFL games are predominantly played on weekends, and this column can be used to analyze game attendance, TV viewership, or player performance on weekend vs. weekday games.\n",
    "\n",
    "### 4. `game_hour`\n",
    "- **Description**: Extracts the hour portion from the `gameTimeEastern` field (game start time).\n",
    "- **Logic**: This column takes the first two characters from `gameTimeEastern`, which represent the hour in Eastern Time.\n",
    "- **Usefulness**: By isolating the hour of the game, this column enables analysis of game times and how they may influence player performance, viewership, or other time-dependent factors.\n",
    "\n",
    "### 5. `is_night_hour_flag`\n",
    "- **Description**: A binary column indicating whether a game was played during night hours.\n",
    "- **Logic**: A value of `1` is assigned if the `game_hour` falls between 18 (6 PM) and 23 (11 PM), indicating nighttime. Otherwise, the value is `0`.\n",
    "- **Usefulness**: This column helps identify night games, which often have different conditions (e.g., cooler temperatures, higher viewership) compared to day games. It allows for the segmentation of games based on time-of-day factors.\n",
    "\n",
    "---"
   ]
  },
  {
   "cell_type": "code",
   "execution_count": 0,
   "metadata": {
    "application/vnd.databricks.v1+cell": {
     "cellMetadata": {
      "byteLimit": 2048000,
      "rowLimit": 10000
     },
     "inputWidgets": {},
     "nuid": "2f7e1a4e-1c73-439f-a646-55bd23091b8b",
     "showTitle": false,
     "tableResultSettingsMap": {},
     "title": ""
    }
   },
   "outputs": [],
   "source": [
    "\n",
    "#new columns for the silver layer\n",
    "nflGamesSilver = nflGamesBronze.withColumn(\n",
    "    \"is_playoff_flag\",\n",
    "    when( \n",
    "         # Dates of the playoffs\n",
    "        (col(\"gameDate\").between(lit(\"2018-01-06\"), lit(\"2018-01-21\"))) |  \n",
    "        (col(\"gameDate\").between(lit(\"2019-01-05\"), lit(\"2019-01-20\"))) | \n",
    "        (col(\"gameDate\").between(lit(\"2020-01-04\"), lit(\"2020-01-19\"))),\n",
    "        1\n",
    "    ).otherwise(0)\n",
    ").withColumn(\n",
    "    \"is_superbowl_flag\",\n",
    "    when( \n",
    "         #Dates of the Superbowls\n",
    "        (col(\"gameDate\") == lit(\"2018-01-23\")) | \n",
    "        (col(\"gameDate\") == lit(\"2019-02-03\")) | \n",
    "        (col(\"gameDate\") == lit(\"2020-02-02\")),\n",
    "        1\n",
    "    ).otherwise(0)\n",
    ").withColumn(\n",
    "    'day_of_the_week', \n",
    "    dayofweek(col(\"gameDate\"))\n",
    ").withColumn(\n",
    "    'is_weekend_flag', \n",
    "    when(\n",
    "        # 1: Sunday, 7: Saturday\n",
    "        (col('day_of_the_week') == 1) | (col('day_of_the_week') == 7),         \n",
    "        1\n",
    "    ).otherwise(0)\n",
    ").withColumn(\n",
    "    \"game_hour\",\n",
    "    substring(col(\"gameTimeEastern\"),0, 2)\n",
    ").withColumn(\n",
    "    'is_night_hour_flag', \n",
    "    when( \n",
    "        (col('game_hour') >= 18) & (col('game_hour') <= 23), \n",
    "        # Those are the hours I night time hours\n",
    "        1\n",
    "    ).otherwise(0)\n",
    ").drop('day_of_the_week')\n",
    "\n",
    "#check the data\n",
    "display(nflGamesSilver)\n"
   ]
  },
  {
   "cell_type": "code",
   "execution_count": 0,
   "metadata": {
    "application/vnd.databricks.v1+cell": {
     "cellMetadata": {
      "byteLimit": 2048000,
      "rowLimit": 10000
     },
     "inputWidgets": {},
     "nuid": "f4f9413c-a3a8-477f-b79a-e160db5e778a",
     "showTitle": false,
     "tableResultSettingsMap": {},
     "title": ""
    }
   },
   "outputs": [
    {
     "output_type": "display_data",
     "data": {
      "text/plain": [
       "StructType([StructField('gameId', IntegerType(), True), StructField('season', IntegerType(), True), StructField('week', IntegerType(), True), StructField('gameDate', DateType(), True), StructField('gameTimeEastern', StringType(), True), StructField('homeTeamAbbr', StringType(), True), StructField('visitorTeamAbbr', StringType(), True), StructField('is_playoff_flag', IntegerType(), False), StructField('is_superbowl_flag', IntegerType(), False), StructField('is_weekend_flag', IntegerType(), False), StructField('game_hour', StringType(), True), StructField('is_night_hour_flag', IntegerType(), False)])"
      ]
     },
     "metadata": {},
     "output_type": "display_data"
    }
   ],
   "source": [
    "display(nflGamesSilver.schema)"
   ]
  },
  {
   "cell_type": "markdown",
   "metadata": {
    "application/vnd.databricks.v1+cell": {
     "cellMetadata": {},
     "inputWidgets": {},
     "nuid": "7fd51ff4-950c-4c73-9879-0642a73629df",
     "showTitle": false,
     "tableResultSettingsMap": {},
     "title": ""
    }
   },
   "source": [
    "### Save the data in the **Silver** Layer"
   ]
  },
  {
   "cell_type": "code",
   "execution_count": 0,
   "metadata": {
    "application/vnd.databricks.v1+cell": {
     "cellMetadata": {
      "byteLimit": 2048000,
      "rowLimit": 10000
     },
     "inputWidgets": {},
     "nuid": "d864be3b-2fab-4284-81f6-63b38169ee45",
     "showTitle": false,
     "tableResultSettingsMap": {},
     "title": ""
    }
   },
   "outputs": [
    {
     "output_type": "execute_result",
     "data": {
      "text/plain": [
       "True"
      ]
     },
     "execution_count": 57,
     "metadata": {},
     "output_type": "execute_result"
    }
   ],
   "source": [
    "#Delete any residual data from prior executions for an idempotent run\n",
    "dbutils.fs.rm(destDataDirRoot,recurse=True)"
   ]
  },
  {
   "cell_type": "code",
   "execution_count": 0,
   "metadata": {
    "application/vnd.databricks.v1+cell": {
     "cellMetadata": {
      "byteLimit": 2048000,
      "rowLimit": 10000
     },
     "inputWidgets": {},
     "nuid": "817b920a-3a24-40b2-a189-35eab969b970",
     "showTitle": false,
     "tableResultSettingsMap": {},
     "title": ""
    }
   },
   "outputs": [],
   "source": [
    "#To make Hive Parquet format compatible with Spark Parquet format\n",
    "sqlContext.setConf(\"spark.sql.parquet.writeLegacyFormat\", \"true\")\n",
    "\n",
    "#Save the dataset with the new columns\n",
    "nflGamesSilver.write.format(\"delta\").mode(\"append\").partitionBy(\"season\").save(destDataDirRoot) "
   ]
  }
 ],
 "metadata": {
  "application/vnd.databricks.v1+notebook": {
   "computePreferences": null,
   "dashboards": [],
   "environmentMetadata": null,
   "language": "python",
   "notebookMetadata": {
    "mostRecentlyExecutedCommandWithImplicitDF": {
     "commandId": 4415626438822374,
     "dataframes": [
      "_sqldf"
     ]
    },
    "pythonIndentUnit": 4
   },
   "notebookName": "01-TransformData-Games",
   "widgets": {}
  },
  "language_info": {
   "name": "python"
  }
 },
 "nbformat": 4,
 "nbformat_minor": 0
}