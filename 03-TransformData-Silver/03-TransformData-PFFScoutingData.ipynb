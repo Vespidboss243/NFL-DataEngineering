{
 "cells": [
  {
   "cell_type": "markdown",
   "metadata": {
    "application/vnd.databricks.v1+cell": {
     "cellMetadata": {
      "byteLimit": 2048000,
      "rowLimit": 10000
     },
     "inputWidgets": {},
     "nuid": "26dfbdb9-e9a3-46f6-bafe-c0ffa82e51aa",
     "showTitle": false,
     "tableResultSettingsMap": {},
     "title": ""
    }
   },
   "source": [
    "### **Import Libraries**"
   ]
  },
  {
   "cell_type": "code",
   "execution_count": 0,
   "metadata": {
    "application/vnd.databricks.v1+cell": {
     "cellMetadata": {
      "byteLimit": 2048000,
      "rowLimit": 10000
     },
     "inputWidgets": {},
     "nuid": "961ad818-5426-4fc3-af6c-25ed7a982be1",
     "showTitle": false,
     "tableResultSettingsMap": {},
     "title": ""
    }
   },
   "outputs": [],
   "source": [
    "from pyspark.sql.types import StructType, StructField, StringType, IntegerType,LongType,FloatType,DoubleType, TimestampType, DateType\n",
    "from pyspark.sql.functions import *"
   ]
  },
  {
   "cell_type": "markdown",
   "metadata": {
    "application/vnd.databricks.v1+cell": {
     "cellMetadata": {
      "byteLimit": 2048000,
      "rowLimit": 10000
     },
     "inputWidgets": {},
     "nuid": "c14379de-3102-49bb-8004-d0e442249d89",
     "showTitle": false,
     "tableResultSettingsMap": {},
     "title": ""
    }
   },
   "source": [
    "### Execute notebook with common/reusable functions "
   ]
  },
  {
   "cell_type": "code",
   "execution_count": 0,
   "metadata": {
    "application/vnd.databricks.v1+cell": {
     "cellMetadata": {
      "byteLimit": 2048000,
      "rowLimit": 10000
     },
     "inputWidgets": {},
     "nuid": "16f36d41-8ed8-4f97-be5a-6e894570026f",
     "showTitle": false,
     "tableResultSettingsMap": {},
     "title": ""
    }
   },
   "outputs": [],
   "source": [
    "%run \"../01-General/02-CommonFunctions\""
   ]
  },
  {
   "cell_type": "markdown",
   "metadata": {
    "application/vnd.databricks.v1+cell": {
     "cellMetadata": {
      "byteLimit": 2048000,
      "rowLimit": 10000
     },
     "inputWidgets": {},
     "nuid": "37dbd000-1fa2-4705-be0d-a802ed3f75e3",
     "showTitle": false,
     "tableResultSettingsMap": {},
     "title": ""
    }
   },
   "source": [
    "### Connect to the storage"
   ]
  },
  {
   "cell_type": "code",
   "execution_count": 0,
   "metadata": {
    "application/vnd.databricks.v1+cell": {
     "cellMetadata": {
      "byteLimit": 2048000,
      "rowLimit": 10000
     },
     "inputWidgets": {},
     "nuid": "1004a2a4-b343-455c-bf75-ddb221e5e75b",
     "showTitle": false,
     "tableResultSettingsMap": {},
     "title": ""
    }
   },
   "outputs": [
    {
     "output_type": "stream",
     "name": "stdout",
     "output_type": "stream",
     "text": [
      "Remote blob path: wasbs://nfl@bgupb202402juanbarriento.blob.core.windows.net/\n"
     ]
    }
   ],
   "source": [
    "wasbs_path = connect()"
   ]
  },
  {
   "cell_type": "code",
   "execution_count": 0,
   "metadata": {
    "application/vnd.databricks.v1+cell": {
     "cellMetadata": {
      "byteLimit": 2048000,
      "rowLimit": 10000
     },
     "inputWidgets": {},
     "nuid": "f7d2fc2b-192f-41c3-a16a-fc1d2990229b",
     "showTitle": false,
     "tableResultSettingsMap": {},
     "title": ""
    }
   },
   "outputs": [
    {
     "output_type": "stream",
     "name": "stdout",
     "output_type": "stream",
     "text": [
      "Source data dir: wasbs://nfl@bgupb202402juanbarriento.blob.core.windows.net/bronze/nfl-2022/\nDestination data dir: wasbs://nfl@bgupb202402juanbarriento.blob.core.windows.net/silver/nfl-2022/PFFScoutingData/\n"
     ]
    }
   ],
   "source": [
    "srcDataDirRoot,destDataDirRoot = route(wasbs_path,\"PFFScoutingData\",\"bronze\",\"silver\")\n",
    "print(f\"Source data dir: {srcDataDirRoot}\")\n",
    "print(f\"Destination data dir: {destDataDirRoot}\")"
   ]
  },
  {
   "cell_type": "markdown",
   "metadata": {
    "application/vnd.databricks.v1+cell": {
     "cellMetadata": {
      "byteLimit": 2048000,
      "rowLimit": 10000
     },
     "inputWidgets": {},
     "nuid": "b82f5ece-7c21-4b54-8e0c-0ee2af49c051",
     "showTitle": false,
     "tableResultSettingsMap": {},
     "title": ""
    }
   },
   "source": [
    "### Read the files from the bronze layer"
   ]
  },
  {
   "cell_type": "code",
   "execution_count": 0,
   "metadata": {
    "application/vnd.databricks.v1+cell": {
     "cellMetadata": {
      "byteLimit": 2048000,
      "rowLimit": 10000
     },
     "inputWidgets": {},
     "nuid": "b3741b68-0f70-430c-9389-a45241ab82d7",
     "showTitle": false,
     "tableResultSettingsMap": {},
     "title": ""
    }
   },
   "outputs": [],
   "source": [
    "# Read the data in delta format\n",
    "nflPFFScoutingBronze = spark.read.format(\"delta\").load(\"wasbs://nfl@bgupb202402juanbarriento.blob.core.windows.net/bronze/nfl-2022/PFFScoutingData\").cache()\n",
    "\n",
    "# Check the data\n",
    "display(nflPFFScoutingBronze)"
   ]
  },
  {
   "cell_type": "markdown",
   "metadata": {
    "application/vnd.databricks.v1+cell": {
     "cellMetadata": {
      "byteLimit": 2048000,
      "rowLimit": 10000
     },
     "inputWidgets": {},
     "nuid": "3a255bba-f17e-4ac1-af3f-fa0d13bd5d91",
     "showTitle": false,
     "tableResultSettingsMap": {},
     "title": ""
    }
   },
   "source": [
    "### Exploration of the Data"
   ]
  },
  {
   "cell_type": "code",
   "execution_count": 0,
   "metadata": {
    "application/vnd.databricks.v1+cell": {
     "cellMetadata": {
      "byteLimit": 2048000,
      "rowLimit": 10000
     },
     "inputWidgets": {},
     "nuid": "70a962ef-6334-4de8-a19f-b6d5cf8dcf81",
     "showTitle": false,
     "tableResultSettingsMap": {},
     "title": ""
    }
   },
   "outputs": [],
   "source": [
    "#create a view of the data\n",
    "nflPFFScoutingBronze.createOrReplaceTempView(\"nflPFFScoutingBronze_View\")"
   ]
  },
  {
   "cell_type": "code",
   "execution_count": 0,
   "metadata": {
    "application/vnd.databricks.v1+cell": {
     "cellMetadata": {
      "byteLimit": 2048000,
      "rowLimit": 10000
     },
     "inputWidgets": {},
     "nuid": "cf512421-0797-4eaf-941d-5fe2ce4082f9",
     "showTitle": false,
     "tableResultSettingsMap": {},
     "title": ""
    }
   },
   "outputs": [],
   "source": [
    "# Average Hang time per game\n",
    "display(\n",
    "    nflPFFScoutingBronze.groupBy('gameId')\n",
    "    .agg(mean('hangTime').alias('Average Hang Time'))\n",
    "    .orderBy('Average Hang Time', ascending=False)\n",
    ")"
   ]
  },
  {
   "cell_type": "code",
   "execution_count": 0,
   "metadata": {
    "application/vnd.databricks.v1+cell": {
     "cellMetadata": {
      "byteLimit": 2048000,
      "implicitDf": true,
      "rowLimit": 10000
     },
     "inputWidgets": {},
     "nuid": "a20eeda8-7326-4d33-a8b5-012d7b3807ac",
     "showTitle": false,
     "tableResultSettingsMap": {},
     "title": ""
    }
   },
   "outputs": [],
   "source": [
    "%sql\n",
    "-- How many tackles per game?\n",
    "SELECT gameId, count(tackler) AS TackerCount\n",
    "FROM nflPFFScoutingBronze_View\n",
    "GROUP BY gameId\n",
    "ORDER BY TackerCount DESC"
   ]
  },
  {
   "cell_type": "code",
   "execution_count": 0,
   "metadata": {
    "application/vnd.databricks.v1+cell": {
     "cellMetadata": {
      "byteLimit": 2048000,
      "rowLimit": 10000
     },
     "inputWidgets": {},
     "nuid": "49a3fc6c-2a13-441e-89ab-96f3eddde20d",
     "showTitle": false,
     "tableResultSettingsMap": {},
     "title": ""
    }
   },
   "outputs": [],
   "source": []
  },
  {
   "cell_type": "markdown",
   "metadata": {
    "application/vnd.databricks.v1+cell": {
     "cellMetadata": {
      "byteLimit": 2048000,
      "rowLimit": 10000
     },
     "inputWidgets": {},
     "nuid": "6576bea6-eb14-4439-80b0-421a9b759913",
     "showTitle": false,
     "tableResultSettingsMap": {},
     "title": ""
    }
   },
   "source": [
    "### Create new Columns for PFFScouting DataFrame\n",
    "\n",
    "### 1. `is_kickDirection_correct_flag`\n",
    "- **Description**: A binary column indicating whether the intended kick direction matched the actual kick direction.\n",
    "- **Logic**: A value of `1` is assigned if `kickDirectionIntended` equals `kickDirectionActual`, meaning the kick went as planned. Otherwise, the value is `0`.\n",
    "- **Usefulness**: This flag helps evaluate the accuracy and execution of special teams plays, providing insights into whether the kicking team executed their strategy correctly. It can also highlight instances where a mismatch might have led to breakdowns in coverage or field position.\n",
    "\n",
    "### 2. `is_ReturnDirection_correct_flag`\n",
    "- **Description**: A binary column indicating whether the intended return direction matched the actual return direction.\n",
    "- **Logic**: A value of `1` is assigned if `returnDirectionIntended` equals `returnDirectionActual`, meaning the return unit followed the planned direction. Otherwise, the value is `0`.\n",
    "- **Usefulness**: This flag helps in analyzing whether the return team successfully executed their set-up for returns, potentially impacting field position or leading to key return opportunities.\n",
    "\n",
    "### 3. `TotalPlayTime`\n",
    "- **Description**: A column representing the total time for the play, summing the snap time, operation time, and hang time.\n",
    "- **Logic**: The sum of `snapTime`, `operationTime`, and `hangTime` gives the total play time for a punt or kickoff.\n",
    "- **Usefulness**: This metric helps quantify the duration of special teams plays, which can be critical in evaluating the effectiveness of punts, kickoffs, and coverage. Longer play times might indicate deeper kicks or more time for the coverage team to get downfield.\n",
    "\n",
    "### 4. `is_successfulTackle_flag`\n",
    "- **Description**: A binary column indicating whether a tackle was made during the play.\n",
    "- **Logic**: A value of `1` is assigned if `Tackler` is not null, meaning a tackle occurred. Otherwise, the value is `0`.\n",
    "- **Usefulness**: This flag helps identify whether a play ended in a successful tackle, which is critical for analyzing defensive effectiveness, especially on punt and kickoff returns. It can also aid in studying missed tackles and defensive breakdowns.\n",
    "\n",
    "### 5. `MissedTacklerCount`\n",
    "- **Description**: Counts the number of players who missed a tackle attempt.\n",
    "- **Logic**: If `MissedTackler` is null, assigns `0`; otherwise, counts the values in MissedTackler (values are separated by `;`).\n",
    "- **Usefulness**: Helps analyze plays with missed tackles, providing insights into coverage breakdowns and defensive gaps.\n",
    "\n",
    "---\n"
   ]
  },
  {
   "cell_type": "code",
   "execution_count": 0,
   "metadata": {
    "application/vnd.databricks.v1+cell": {
     "cellMetadata": {
      "byteLimit": 2048000,
      "rowLimit": 10000
     },
     "inputWidgets": {},
     "nuid": "2f7e1a4e-1c73-439f-a646-55bd23091b8b",
     "showTitle": false,
     "tableResultSettingsMap": {},
     "title": ""
    }
   },
   "outputs": [],
   "source": [
    "#new columns for the silver layer\n",
    "nflPFFScoutingSilver = nflPFFScoutingBronze.withColumn(\n",
    "    \"is_kickDirection_correct_flag\",\n",
    "    when(\n",
    "        (col(\"kickDirectionIntended\") == col(\"kickDirectionActual\")),\n",
    "        1\n",
    "    ).otherwise(0)\n",
    ").withColumn(\n",
    "    \"is_ReturnDirection_correct_flag\",\n",
    "    when(\n",
    "        (col(\"returnDirectionIntended\") == col(\"returnDirectionActual\")),\n",
    "        1\n",
    "    ).otherwise(0)\n",
    ").withColumn(\n",
    "    \"TotalPlayTime\",\n",
    "     col(\"snapTime\") + col(\"operationTime\") + col(\"hangTime\")\n",
    "             \n",
    ").withColumn(\n",
    "    \"is_successfulTackle_flag\", \n",
    "    when(\n",
    "        (col(\"Tackler\").isNull()),0\n",
    "    ).otherwise(1)\n",
    ").withColumn(\n",
    "    \"MissedTacklerCount\",\n",
    "    when(\n",
    "        (col(\"MissedTackler\").isNull()),0\n",
    "    ).otherwise(size(split(col(\"MissedTackler\"), \";\")))\n",
    ")\n",
    "     \n",
    "#check the data\n",
    "display(nflPFFScoutingSilver)\n"
   ]
  },
  {
   "cell_type": "code",
   "execution_count": 0,
   "metadata": {
    "application/vnd.databricks.v1+cell": {
     "cellMetadata": {
      "byteLimit": 2048000,
      "rowLimit": 10000
     },
     "inputWidgets": {},
     "nuid": "f4f9413c-a3a8-477f-b79a-e160db5e778a",
     "showTitle": false,
     "tableResultSettingsMap": {},
     "title": ""
    }
   },
   "outputs": [
    {
     "output_type": "display_data",
     "data": {
      "text/plain": [
       "StructType([StructField('gameId', IntegerType(), True), StructField('playId', IntegerType(), True), StructField('snapDetail', StringType(), True), StructField('snapTime', FloatType(), True), StructField('operationTime', FloatType(), True), StructField('hangTime', FloatType(), True), StructField('kickType', StringType(), True), StructField('kickDirectionIntended', StringType(), True), StructField('kickDirectionActual', StringType(), True), StructField('returnDirectionIntended', StringType(), True), StructField('returnDirectionActual', StringType(), True), StructField('missedTackler', StringType(), True), StructField('assistTackler', StringType(), True), StructField('tackler', StringType(), True), StructField('kickoffReturnFormation', StringType(), True), StructField('gunners', StringType(), True), StructField('puntRushers', StringType(), True), StructField('specialTeamsSafeties', StringType(), True), StructField('vises', StringType(), True), StructField('kickContactType', StringType(), True), StructField('is_kickDirection_correct_flag', IntegerType(), False), StructField('is_ReturnDirection_correct_flag', IntegerType(), False), StructField('TotalPlayTime', FloatType(), True), StructField('is_successfulTackle_flag', IntegerType(), False), StructField('MissedTacklerCount', IntegerType(), False)])"
      ]
     },
     "metadata": {},
     "output_type": "display_data"
    }
   ],
   "source": [
    "display(nflPFFScoutingSilver.schema)"
   ]
  },
  {
   "cell_type": "markdown",
   "metadata": {
    "application/vnd.databricks.v1+cell": {
     "cellMetadata": {
      "byteLimit": 2048000,
      "rowLimit": 10000
     },
     "inputWidgets": {},
     "nuid": "db16c7b1-49c2-4aca-a0ec-64c562915e07",
     "showTitle": false,
     "tableResultSettingsMap": {},
     "title": ""
    }
   },
   "source": [
    "### Save the data in the **Silver** Layer"
   ]
  },
  {
   "cell_type": "code",
   "execution_count": 0,
   "metadata": {
    "application/vnd.databricks.v1+cell": {
     "cellMetadata": {
      "byteLimit": 2048000,
      "rowLimit": 10000
     },
     "inputWidgets": {},
     "nuid": "addcc9df-d64e-41d5-add6-e9e98dbb50b2",
     "showTitle": false,
     "tableResultSettingsMap": {},
     "title": ""
    }
   },
   "outputs": [
    {
     "output_type": "execute_result",
     "data": {
      "text/plain": [
       "True"
      ]
     },
     "execution_count": 12,
     "metadata": {},
     "output_type": "execute_result"
    }
   ],
   "source": [
    "#Delete any residual data from prior executions for an idempotent run\n",
    "dbutils.fs.rm(destDataDirRoot,recurse=True)"
   ]
  },
  {
   "cell_type": "code",
   "execution_count": 0,
   "metadata": {
    "application/vnd.databricks.v1+cell": {
     "cellMetadata": {
      "byteLimit": 2048000,
      "rowLimit": 10000
     },
     "inputWidgets": {},
     "nuid": "817b920a-3a24-40b2-a189-35eab969b970",
     "showTitle": false,
     "tableResultSettingsMap": {},
     "title": ""
    }
   },
   "outputs": [],
   "source": [
    "#To make Hive Parquet format compatible with Spark Parquet format\n",
    "sqlContext.setConf(\"spark.sql.parquet.writeLegacyFormat\", \"true\")\n",
    "\n",
    "#Save the dataset with the new columns\n",
    "nflPFFScoutingSilver.write.format(\"delta\").mode(\"append\").save(destDataDirRoot) "
   ]
  }
 ],
 "metadata": {
  "application/vnd.databricks.v1+notebook": {
   "computePreferences": null,
   "dashboards": [],
   "environmentMetadata": null,
   "language": "python",
   "notebookMetadata": {
    "mostRecentlyExecutedCommandWithImplicitDF": {
     "commandId": 4415626438822352,
     "dataframes": [
      "_sqldf"
     ]
    },
    "pythonIndentUnit": 4
   },
   "notebookName": "03-TransformData-PFFScoutingData",
   "widgets": {}
  },
  "language_info": {
   "name": "python"
  }
 },
 "nbformat": 4,
 "nbformat_minor": 0
}