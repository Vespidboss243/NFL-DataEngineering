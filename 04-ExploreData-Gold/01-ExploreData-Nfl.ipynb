{
 "cells": [
  {
   "cell_type": "markdown",
   "metadata": {
    "application/vnd.databricks.v1+cell": {
     "cellMetadata": {
      "byteLimit": 2048000,
      "rowLimit": 10000
     },
     "inputWidgets": {},
     "nuid": "b9ba26ca-7876-4313-bac1-85834c826c27",
     "showTitle": false,
     "tableResultSettingsMap": {},
     "title": ""
    }
   },
   "source": [
    "### **Import Libraries**"
   ]
  },
  {
   "cell_type": "code",
   "execution_count": 0,
   "metadata": {
    "application/vnd.databricks.v1+cell": {
     "cellMetadata": {
      "byteLimit": 2048000,
      "rowLimit": 10000
     },
     "inputWidgets": {},
     "nuid": "961ad818-5426-4fc3-af6c-25ed7a982be1",
     "showTitle": false,
     "tableResultSettingsMap": {},
     "title": ""
    }
   },
   "outputs": [],
   "source": [
    "from pyspark.sql.types import StructType, StructField, StringType, IntegerType,LongType,FloatType,DoubleType, TimestampType, DateType\n",
    "from pyspark.sql.functions import *\n",
    "from pyspark.sql import Window"
   ]
  },
  {
   "cell_type": "markdown",
   "metadata": {
    "application/vnd.databricks.v1+cell": {
     "cellMetadata": {
      "byteLimit": 2048000,
      "rowLimit": 10000
     },
     "inputWidgets": {},
     "nuid": "74369310-04d0-4338-8e52-4786778a952e",
     "showTitle": false,
     "tableResultSettingsMap": {},
     "title": ""
    }
   },
   "source": [
    "### Execute notebook with common/reusable functions "
   ]
  },
  {
   "cell_type": "code",
   "execution_count": 0,
   "metadata": {
    "application/vnd.databricks.v1+cell": {
     "cellMetadata": {
      "byteLimit": 2048000,
      "rowLimit": 10000
     },
     "inputWidgets": {},
     "nuid": "16f36d41-8ed8-4f97-be5a-6e894570026f",
     "showTitle": false,
     "tableResultSettingsMap": {},
     "title": ""
    }
   },
   "outputs": [],
   "source": [
    "%run \"../01-General/02-CommonFunctions\""
   ]
  },
  {
   "cell_type": "markdown",
   "metadata": {
    "application/vnd.databricks.v1+cell": {
     "cellMetadata": {
      "byteLimit": 2048000,
      "rowLimit": 10000
     },
     "inputWidgets": {},
     "nuid": "b2a8e309-42a7-4be5-b787-4bafb5173638",
     "showTitle": false,
     "tableResultSettingsMap": {},
     "title": ""
    }
   },
   "source": [
    "### Connect to the storage"
   ]
  },
  {
   "cell_type": "code",
   "execution_count": 0,
   "metadata": {
    "application/vnd.databricks.v1+cell": {
     "cellMetadata": {
      "byteLimit": 2048000,
      "rowLimit": 10000
     },
     "inputWidgets": {},
     "nuid": "1004a2a4-b343-455c-bf75-ddb221e5e75b",
     "showTitle": false,
     "tableResultSettingsMap": {},
     "title": ""
    }
   },
   "outputs": [
    {
     "output_type": "stream",
     "name": "stdout",
     "output_type": "stream",
     "text": [
      "Remote blob path: wasbs://nfl@bgupb202402juanbarriento.blob.core.windows.net/\n"
     ]
    }
   ],
   "source": [
    "wasbs_path = connect()"
   ]
  },
  {
   "cell_type": "markdown",
   "metadata": {
    "application/vnd.databricks.v1+cell": {
     "cellMetadata": {
      "byteLimit": 2048000,
      "rowLimit": 10000
     },
     "inputWidgets": {},
     "nuid": "7ca80b43-bc20-4e57-8416-0ef8b68301a2",
     "showTitle": false,
     "tableResultSettingsMap": {},
     "title": ""
    }
   },
   "source": [
    "### Create Paths"
   ]
  },
  {
   "cell_type": "code",
   "execution_count": 0,
   "metadata": {
    "application/vnd.databricks.v1+cell": {
     "cellMetadata": {
      "byteLimit": 2048000,
      "rowLimit": 10000
     },
     "inputWidgets": {},
     "nuid": "f7d2fc2b-192f-41c3-a16a-fc1d2990229b",
     "showTitle": false,
     "tableResultSettingsMap": {},
     "title": ""
    }
   },
   "outputs": [
    {
     "output_type": "stream",
     "name": "stdout",
     "output_type": "stream",
     "text": [
      "Source data dir: wasbs://nfl@bgupb202402juanbarriento.blob.core.windows.net/silver/nfl-2022/\nDestination data dir: wasbs://nfl@bgupb202402juanbarriento.blob.core.windows.net/gold/nfl-2022/\n"
     ]
    }
   ],
   "source": [
    "srcDataDirRoot,destDataDirRoot = route(wasbs_path,\"\",\"silver\",\"gold\")\n",
    "print(f\"Source data dir: {srcDataDirRoot}\")\n",
    "print(f\"Destination data dir: {destDataDirRoot}\")"
   ]
  },
  {
   "cell_type": "markdown",
   "metadata": {
    "application/vnd.databricks.v1+cell": {
     "cellMetadata": {
      "byteLimit": 2048000,
      "rowLimit": 10000
     },
     "inputWidgets": {},
     "nuid": "b2fc6dde-d1c9-4722-b2e4-4c258652e882",
     "showTitle": false,
     "tableResultSettingsMap": {},
     "title": ""
    }
   },
   "source": [
    "## Read all the files from the silver layer"
   ]
  },
  {
   "cell_type": "markdown",
   "metadata": {
    "application/vnd.databricks.v1+cell": {
     "cellMetadata": {},
     "inputWidgets": {},
     "nuid": "036a8a55-5bb0-4fb6-8f05-8a69bd4fe255",
     "showTitle": false,
     "tableResultSettingsMap": {},
     "title": ""
    }
   },
   "source": [
    "### Silver Datasets\n",
    "\n",
    "These datasets are provided by the silver layer and contain all the necessary columns and transformations for data exploration. The five datasets we will be using are:\n",
    "\n",
    "| Column Name              | Description                                                                                               |\n",
    "|--------------------------|-----------------------------------------------------------------------------------------------------------|\n",
    "| `nflGamesSilver`                 | General information about NFL games.                                                   |\n",
    "| `nflPlaysSilver`                 | \tContains information on the events that occurred during the games.                       |\n",
    "| `nflPFFScoutingDataSilver`        | \tInformation about special team plays in the NFL.                                                                |\n",
    "| `nflPlayersSilver`                | Basic information about NFL players.                                           |\n",
    "| `nflTrackingSilver`                   | \tSpecific data on players during game events.\n",
    "\n",
    "---"
   ]
  },
  {
   "cell_type": "markdown",
   "metadata": {
    "application/vnd.databricks.v1+cell": {
     "cellMetadata": {
      "byteLimit": 2048000,
      "rowLimit": 10000
     },
     "inputWidgets": {},
     "nuid": "7d0b08a0-29d9-40d1-a30d-03dfd5c5ca2f",
     "showTitle": false,
     "tableResultSettingsMap": {},
     "title": ""
    }
   },
   "source": [
    "#### Games Dataframe"
   ]
  },
  {
   "cell_type": "code",
   "execution_count": 0,
   "metadata": {
    "application/vnd.databricks.v1+cell": {
     "cellMetadata": {
      "byteLimit": 2048000,
      "rowLimit": 10000
     },
     "inputWidgets": {},
     "nuid": "b3741b68-0f70-430c-9389-a45241ab82d7",
     "showTitle": false,
     "tableResultSettingsMap": {},
     "title": ""
    }
   },
   "outputs": [],
   "source": [
    "# Read the data in delta format\n",
    "nflGamesSilver = spark.read.format(\"delta\").load(f\"{srcDataDirRoot}/games\").cache()\n",
    "\n",
    "# Check the data\n",
    "display(nflGamesSilver)"
   ]
  },
  {
   "cell_type": "markdown",
   "metadata": {
    "application/vnd.databricks.v1+cell": {
     "cellMetadata": {
      "byteLimit": 2048000,
      "rowLimit": 10000
     },
     "inputWidgets": {},
     "nuid": "e33e5c87-d040-4d28-8465-bd85497ce13a",
     "showTitle": false,
     "tableResultSettingsMap": {},
     "title": ""
    }
   },
   "source": [
    "#### Plays Dataframe"
   ]
  },
  {
   "cell_type": "code",
   "execution_count": 0,
   "metadata": {
    "application/vnd.databricks.v1+cell": {
     "cellMetadata": {
      "byteLimit": 2048000,
      "rowLimit": 10000
     },
     "inputWidgets": {},
     "nuid": "6208eb58-38b7-4d5e-97db-cb0212051df0",
     "showTitle": false,
     "tableResultSettingsMap": {},
     "title": ""
    }
   },
   "outputs": [],
   "source": [
    "# Read the data in delta format\n",
    "nflPlaysSilver = spark.read.format(\"delta\").load(f\"{srcDataDirRoot}/plays\").cache()\n",
    "\n",
    "# Check the data\n",
    "display(nflPlaysSilver)"
   ]
  },
  {
   "cell_type": "markdown",
   "metadata": {
    "application/vnd.databricks.v1+cell": {
     "cellMetadata": {
      "byteLimit": 2048000,
      "rowLimit": 10000
     },
     "inputWidgets": {},
     "nuid": "c6fe8c4f-f691-4c37-935a-2e7f23e88431",
     "showTitle": false,
     "tableResultSettingsMap": {},
     "title": ""
    }
   },
   "source": [
    "#### PFFScoutingData Dataframe"
   ]
  },
  {
   "cell_type": "code",
   "execution_count": 0,
   "metadata": {
    "application/vnd.databricks.v1+cell": {
     "cellMetadata": {
      "byteLimit": 2048000,
      "rowLimit": 10000
     },
     "inputWidgets": {},
     "nuid": "a57ed449-a2c3-4ceb-a073-d26b9fe0503f",
     "showTitle": false,
     "tableResultSettingsMap": {},
     "title": ""
    }
   },
   "outputs": [],
   "source": [
    "# Read the data in delta format\n",
    "nflPFFScoutingDataSilver = spark.read.format(\"delta\").load(f\"{srcDataDirRoot}/PFFScoutingData\").cache()\n",
    "\n",
    "# Check the data\n",
    "display(nflPFFScoutingDataSilver)"
   ]
  },
  {
   "cell_type": "markdown",
   "metadata": {
    "application/vnd.databricks.v1+cell": {
     "cellMetadata": {
      "byteLimit": 2048000,
      "rowLimit": 10000
     },
     "inputWidgets": {},
     "nuid": "cee8f88c-8c7d-4c23-84fa-f33ede3b83fb",
     "showTitle": false,
     "tableResultSettingsMap": {},
     "title": ""
    }
   },
   "source": [
    "#### Players Dataframe\n"
   ]
  },
  {
   "cell_type": "code",
   "execution_count": 0,
   "metadata": {
    "application/vnd.databricks.v1+cell": {
     "cellMetadata": {
      "byteLimit": 2048000,
      "rowLimit": 10000
     },
     "inputWidgets": {},
     "nuid": "bbd762a2-8949-4342-8a83-09c8e857fe53",
     "showTitle": false,
     "tableResultSettingsMap": {},
     "title": ""
    }
   },
   "outputs": [],
   "source": [
    "# Read the data in delta format\n",
    "nflPlayersSilver = spark.read.format(\"delta\").load(f\"{srcDataDirRoot}/players\").cache()\n",
    "\n",
    "# Check the data\n",
    "display(nflPlayersSilver)"
   ]
  },
  {
   "cell_type": "markdown",
   "metadata": {
    "application/vnd.databricks.v1+cell": {
     "cellMetadata": {
      "byteLimit": 2048000,
      "rowLimit": 10000
     },
     "inputWidgets": {},
     "nuid": "aa9e54b0-d71e-4b13-847d-8e7f367d3f27",
     "showTitle": false,
     "tableResultSettingsMap": {},
     "title": ""
    }
   },
   "source": [
    "#### Tracking Dataframe"
   ]
  },
  {
   "cell_type": "code",
   "execution_count": 0,
   "metadata": {
    "application/vnd.databricks.v1+cell": {
     "cellMetadata": {
      "byteLimit": 2048000,
      "rowLimit": 10000
     },
     "inputWidgets": {},
     "nuid": "f4385bb6-b052-42a6-9055-abd70058a1e3",
     "showTitle": false,
     "tableResultSettingsMap": {},
     "title": ""
    }
   },
   "outputs": [],
   "source": [
    "# Read the data in delta format\n",
    "nflTrackingSilver = spark.read.format(\"delta\").load(f\"{srcDataDirRoot}/tracking\").cache()\n",
    "\n",
    "# Check the data\n",
    "display(nflTrackingSilver)"
   ]
  },
  {
   "cell_type": "markdown",
   "metadata": {
    "application/vnd.databricks.v1+cell": {
     "cellMetadata": {
      "byteLimit": 2048000,
      "rowLimit": 10000
     },
     "inputWidgets": {},
     "nuid": "f01f8ae2-dbf9-47c0-b036-d52b4a71f283",
     "showTitle": false,
     "tableResultSettingsMap": {},
     "title": ""
    }
   },
   "source": [
    "## Gold Layer Datasets\n",
    "---\n",
    "The data from the silver layer will be aggregated, consolidated, and transformed into a format that aligns with specific business objectives. \n",
    "\n",
    "This are the new datasets for the gold layer:\n",
    "\n"
   ]
  },
  {
   "cell_type": "markdown",
   "metadata": {
    "application/vnd.databricks.v1+cell": {
     "cellMetadata": {},
     "inputWidgets": {},
     "nuid": "89ba0ea4-68e4-4327-bc70-983c588d68c6",
     "showTitle": false,
     "tableResultSettingsMap": {},
     "title": ""
    }
   },
   "source": [
    "The data from the silver layer will be aggregated, consolidated, and transformed into a format that aligns with specific business objectives. \n",
    "\n",
    "This are the new datasets for the gold layer\n",
    "\n",
    "### 1. `Aggregated Games and Plays Table`\n",
    "- **Description**: A binary column indicating whether the intended kick direction matched the actual kick direction.\n",
    "- **Usefulness**: This flag helps evaluate the accuracy and execution of special teams plays, providing insights into whether the kicking team executed their strategy correctly. It can also highlight instances where a mismatch might have led to breakdowns in coverage or field position.\n",
    "\n",
    "### 2. `gold_df_Players_statistics`\n",
    "- **Description**: A binary column indicating whether the intended return direction matched the actual return direction.\n",
    "- **Usefulness**: This flag helps in analyzing whether the return team successfully executed their set-up for returns, potentially impacting field position or leading to key return opportunities.\n",
    "\n",
    "### 3. `gold_df_TeamsData_by_season`\n",
    "- **Description**: A column representing the total time for the play, summing the snap time, operation time, and hang time.\n",
    "- **Usefulness**: This metric helps quantify the duration of special teams plays, which can be critical in evaluating the effectiveness of punts, kickoffs, and coverage. Longer play times might indicate deeper kicks or more time for the coverage team to get downfield.\n",
    "\n",
    "### 4. `gold_df_SpecialTeamPlays_by_games_and_teams`\n",
    "- **Description**: A binary column indicating whether a tackle was made during the play.\n",
    "- **Usefulness**: This flag helps identify whether a play ended in a successful tackle, which is critical for analyzing defensive effectiveness, especially on punt and kickoff returns. It can also aid in studying missed tackles and defensive breakdowns.\n",
    "\n",
    "---"
   ]
  },
  {
   "cell_type": "markdown",
   "metadata": {
    "application/vnd.databricks.v1+cell": {
     "cellMetadata": {
      "byteLimit": 2048000,
      "rowLimit": 10000
     },
     "inputWidgets": {},
     "nuid": "e5ff91ec-46d9-4d61-a06a-97e355f758f1",
     "showTitle": false,
     "tableResultSettingsMap": {},
     "title": ""
    }
   },
   "source": [
    "### 1. `Aggregated Games and Plays Table`\n",
    "\n",
    "- **Description**: The `Aggregated Games and Plays Table` table provides a detailed summary of each game, covering scores, penalties, touchdowns, return plays, yards gained, and tackle performance. This table gives an overview of each match within a season, making it valuable for performance analysis and trend identification at the team and season levels.\n",
    "- **Usefulness**: This table is essential for high-level analysis of game dynamics and team performance. By grouping play-level data at the game level, it allows for insights into scoring patterns, frequency of key events (like touchdowns and penalties), and efficiency in gaining yards. Additionally, with data available by week and season, it supports trend analysis and team improvement tracking over time.\n",
    "\n",
    "#### Dataset Columns\n",
    "\n",
    "#### `gameId`\n",
    "- **Description**: Unique identifier for the game.\n",
    "\n",
    "#### `season`\n",
    "- **Description**: Season in which the game took place.\n",
    "\n",
    "#### `week`\n",
    "- **Description**: Week of the season corresponding to the game.\n",
    "\n",
    "#### `homeTeamAbbr`\n",
    "- **Description**: Three-letter code for the home team.\n",
    "\n",
    "#### `visitorTeamAbbr`\n",
    "- **Description**: Three-letter code for the visiting team.\n",
    "\n",
    "#### `homeScore`\n",
    "- **Description**: Maximum score reached by the home team during the game.\n",
    "\n",
    "#### `visitorScore`\n",
    "- **Description**: Maximum score reached by the visiting team during the game.\n",
    "\n",
    "#### `penalty_count`\n",
    "- **Description**: Total number of penalties in the game.\n",
    "\n",
    "#### `touchdown_count`\n",
    "- **Description**: Total number of plays resulting in a touchdown.\n",
    "\n",
    "#### `return_count`\n",
    "- **Description**: Total number of return plays in the game.\n",
    "\n",
    "#### `total_yards_gained`\n",
    "- **Description**: Total yards gained during the game.\n",
    "\n",
    "#### `total_successful_tackles`\n",
    "- **Description**: Total successful tackles made in the game.\n",
    "\n",
    "#### `total_missed_tackles`\n",
    "- **Description**: Total missed tackles in the game."
   ]
  },
  {
   "cell_type": "markdown",
   "metadata": {
    "application/vnd.databricks.v1+cell": {
     "cellMetadata": {},
     "inputWidgets": {},
     "nuid": "4bd9c6a1-4819-454a-ac04-f3c284616d3a",
     "showTitle": false,
     "tableResultSettingsMap": {},
     "title": ""
    }
   },
   "source": [
    "**Join between the necessary tables**"
   ]
  },
  {
   "cell_type": "code",
   "execution_count": 0,
   "metadata": {
    "application/vnd.databricks.v1+cell": {
     "cellMetadata": {
      "byteLimit": 2048000,
      "rowLimit": 10000
     },
     "inputWidgets": {},
     "nuid": "02ea1bf6-f082-4f2b-8b4a-c4af35522778",
     "showTitle": false,
     "tableResultSettingsMap": {},
     "title": ""
    }
   },
   "outputs": [],
   "source": [
    "#join the tables on the gameId and select the columns needed\n",
    "gamesPlaysPFFScoutingDataframe = nflPlaysSilver.join(\n",
    "  nflGamesSilver, \n",
    "  nflPlaysSilver.gameId == nflGamesSilver.gameId, \"left\"\n",
    "  ).join(\n",
    "    nflPFFScoutingDataSilver, \n",
    "    (nflPlaysSilver.gameId == nflPFFScoutingDataSilver.gameId) & \n",
    "    (nflPlaysSilver.playId == nflPFFScoutingDataSilver.playId), \"left\"     \n",
    "  ).select(\n",
    "    nflPlaysSilver.gameId, nflGamesSilver.season, nflGamesSilver.week,\n",
    "    nflGamesSilver.homeTeamAbbr, nflGamesSilver.visitorTeamAbbr, \n",
    "    nflPlaysSilver.playResult, nflPlaysSilver.is_penalty_flag, \n",
    "    nflPlaysSilver.is_Touchdown_flag, nflPlaysSilver.is_ReturnPlay_flag,\n",
    "    nflPlaysSilver.preSnapVisitorScore, nflPlaysSilver.preSnapHomeScore,\n",
    "    nflPFFScoutingDataSilver.MissedTacklerCount,nflPFFScoutingDataSilver.is_successfulTackle_flag\n",
    "  )\n",
    "\n",
    "display(gamesPlaysPFFScoutingDataframe)"
   ]
  },
  {
   "cell_type": "markdown",
   "metadata": {
    "application/vnd.databricks.v1+cell": {
     "cellMetadata": {},
     "inputWidgets": {},
     "nuid": "d42a2117-3d30-443f-a9ec-91e970c24bdf",
     "showTitle": false,
     "tableResultSettingsMap": {},
     "title": ""
    }
   },
   "source": [
    "**Aggregations and transformations**"
   ]
  },
  {
   "cell_type": "code",
   "execution_count": 0,
   "metadata": {
    "application/vnd.databricks.v1+cell": {
     "cellMetadata": {
      "byteLimit": 2048000,
      "rowLimit": 10000
     },
     "inputWidgets": {},
     "nuid": "20bad686-9d19-4736-8874-f56ef5486cc5",
     "showTitle": false,
     "tableResultSettingsMap": {},
     "title": ""
    }
   },
   "outputs": [],
   "source": [
    "# Create the games statistics table\n",
    "gold_df_Plays_statistics_by_games = gamesPlaysPFFScoutingDataframe.groupBy(\n",
    "    \"gameid\", \"season\",\"week\",\"homeTeamAbbr\", \"visitorTeamAbbr\"\n",
    ").agg(\n",
    "    max(\"preSnapHomeScore\").alias(\"homeScore\"),                        # Score of the home team\n",
    "    max(\"preSnapVisitorScore\").alias(\"visitorScore\"),                  # Score of the visitor team\n",
    "    sum(\"is_penalty_flag\").alias(\"penalty_count\"),                     # Count number of penalty plays \n",
    "    sum(\"is_Touchdown_flag\").alias(\"touchdown_count\"),                 # Count number of touchdown plays \n",
    "    sum(\"is_ReturnPlay_flag\").alias(\"return_count\"),                   # Count number of return plays \n",
    "    sum(\"playResult\").alias(\"total_yards_gained\"),                     # Number of total yards gain in the game\n",
    "    sum(\"is_successfulTackle_flag\").alias(\"total_successful_tackles\"), # Number of successful tackles\n",
    "    sum(\"MissedTacklerCount\").alias(\"total_missed_tackles\")            # Number of missed tackles   \n",
    ").orderBy(\n",
    "    \"season\", \"week\", \"gameid\"\n",
    ")\n",
    "\n",
    "display(gold_df_Plays_statistics_by_games)"
   ]
  },
  {
   "cell_type": "markdown",
   "metadata": {
    "application/vnd.databricks.v1+cell": {
     "cellMetadata": {},
     "inputWidgets": {},
     "nuid": "a869a403-5912-49c8-952f-dec5f497aa98",
     "showTitle": false,
     "tableResultSettingsMap": {},
     "title": ""
    }
   },
   "source": [
    "### Save the data in the **Golden** Layer"
   ]
  },
  {
   "cell_type": "code",
   "execution_count": 0,
   "metadata": {
    "application/vnd.databricks.v1+cell": {
     "cellMetadata": {
      "byteLimit": 2048000,
      "rowLimit": 10000
     },
     "inputWidgets": {},
     "nuid": "9b673845-a7c2-45af-924b-2fa4e0aba867",
     "showTitle": false,
     "tableResultSettingsMap": {},
     "title": ""
    }
   },
   "outputs": [
    {
     "output_type": "execute_result",
     "data": {
      "text/plain": [
       "True"
      ]
     },
     "execution_count": 105,
     "metadata": {},
     "output_type": "execute_result"
    }
   ],
   "source": [
    "#Delete any residual data from prior executions for an idempotent run\n",
    "dbutils.fs.rm(f\"{destDataDirRoot}/aggregated_games_and_plays\",recurse=True)"
   ]
  },
  {
   "cell_type": "code",
   "execution_count": 0,
   "metadata": {
    "application/vnd.databricks.v1+cell": {
     "cellMetadata": {
      "byteLimit": 2048000,
      "rowLimit": 10000
     },
     "inputWidgets": {},
     "nuid": "7c5e4c75-4494-4d9c-8e0b-ccc728779c77",
     "showTitle": false,
     "tableResultSettingsMap": {},
     "title": ""
    }
   },
   "outputs": [],
   "source": [
    "#To make Hive Parquet format compatible with Spark Parquet format\n",
    "sqlContext.setConf(\"spark.sql.parquet.writeLegacyFormat\", \"true\")\n",
    "\n",
    "#Save the dataset\n",
    "gold_df_Plays_statistics_by_games.write.format(\"delta\").mode(\"overwrite\").partitionBy(\"season\",\"week\").save(f\"{destDataDirRoot}/aggregated_games_and_plays\")"
   ]
  },
  {
   "cell_type": "markdown",
   "metadata": {
    "application/vnd.databricks.v1+cell": {
     "cellMetadata": {
      "byteLimit": 2048000,
      "rowLimit": 10000
     },
     "inputWidgets": {},
     "nuid": "39e40ee8-e4b1-497f-9c94-d157a29c8397",
     "showTitle": false,
     "tableResultSettingsMap": {},
     "title": ""
    }
   },
   "source": [
    "### 2. `Player Performance and Participation Table`\n",
    "\n",
    "- **Description**: The `Player Performance and Participation Table` provides a comprehensive view of each player's performance within each game and season.\n",
    "- **Usefulness**: This table is valuable for assessing individual player impact in games, including performance metrics like speed and acceleration, as well as endurance measures through distance traveled. It is particularly useful for coaches, analysts, and scouts to evaluate player stamina, play style, and potential for improvement in real-time game scenarios.\n",
    "\n",
    "#### Dataset Columns\n",
    "\n",
    "#### `nflId`\n",
    "- **Description**: Unique identifier for each player across games.\n",
    "\n",
    "#### `gameId`\n",
    "- **Description**: Identifier for the game in which the player participated.\n",
    "\n",
    "#### `season`\n",
    "- **Description**: Season in which the game took place.\n",
    "\n",
    "#### `displayName`\n",
    "- **Description**: Full name of the player.\n",
    "\n",
    "#### `Position`\n",
    "- **Description**: Position played by the player in the team.\n",
    "\n",
    "#### `avg_speed`\n",
    "- **Description**: Average speed (yards/second) of the player throughout the game.\n",
    "\n",
    "#### `max_speed`\n",
    "- **Description**: Maximum speed reached by the player in the game.\n",
    "\n",
    "#### `avg_acceleration`\n",
    "- **Description**: Average acceleration (yards/second²) of the player during the game.\n",
    "\n",
    "#### `max_acceleration`\n",
    "- **Description**: Maximum acceleration achieved by the player throughout the game.\n",
    "\n",
    "#### `total_distance`\n",
    "- **Description**: Total distance (yards) traveled by the player during the game.\n",
    "\n",
    "#### `total_plays`\n",
    "- **Description**: Total number of plays in which the player participated during the game.\n"
   ]
  },
  {
   "cell_type": "markdown",
   "metadata": {
    "application/vnd.databricks.v1+cell": {
     "cellMetadata": {},
     "inputWidgets": {},
     "nuid": "34aa11dc-5770-4480-b787-136dd8d4dc15",
     "showTitle": false,
     "tableResultSettingsMap": {},
     "title": ""
    }
   },
   "source": [
    "**Join between the necessary tables**"
   ]
  },
  {
   "cell_type": "code",
   "execution_count": 0,
   "metadata": {
    "application/vnd.databricks.v1+cell": {
     "cellMetadata": {
      "byteLimit": 2048000,
      "rowLimit": 10000
     },
     "inputWidgets": {},
     "nuid": "37ac4085-4f9e-42c6-840a-90c14cfc2636",
     "showTitle": false,
     "tableResultSettingsMap": {},
     "title": ""
    }
   },
   "outputs": [],
   "source": [
    "# Join the tables of players, tracking, and PFFScoutingData on nflId and playId and select the columns needed\n",
    "gold_df_Players_Tracking_PFFScoutingData = nflTrackingSilver.join(\n",
    "  nflPlayersSilver, \n",
    "  nflTrackingSilver.nflId == nflPlayersSilver.nflId, \"left\"\n",
    "\n",
    ").join(\n",
    "  nflPFFScoutingDataSilver, \n",
    "  (nflTrackingSilver.playId == nflPFFScoutingDataSilver.playId) &\n",
    "  (nflTrackingSilver.gameId == nflPFFScoutingDataSilver.gameId), \"left\"\n",
    ").join(\n",
    "  nflGamesSilver,\n",
    "  nflTrackingSilver.gameId == nflGamesSilver.gameId\n",
    ").select(\n",
    "  nflTrackingSilver.nflId,nflPlayersSilver.displayName, nflPlayersSilver.Position,\n",
    "  nflTrackingSilver.gameId,nflGamesSilver.season, nflTrackingSilver.playId,\n",
    "  nflTrackingSilver.s, nflTrackingSilver.a, nflTrackingSilver.dis, \n",
    "  nflPFFScoutingDataSilver.is_kickDirection_correct_flag,\n",
    "  nflPFFScoutingDataSilver.TotalPlayTime, \n",
    "  nflPFFScoutingDataSilver.is_successfulTackle_flag\n",
    ")\n",
    "\n",
    "display(gold_df_Players_Tracking_PFFScoutingData)"
   ]
  },
  {
   "cell_type": "markdown",
   "metadata": {
    "application/vnd.databricks.v1+cell": {
     "cellMetadata": {},
     "inputWidgets": {},
     "nuid": "a146b867-192c-4516-bd69-eb2899256ee3",
     "showTitle": false,
     "tableResultSettingsMap": {},
     "title": ""
    }
   },
   "source": [
    "**Aggregations and transformations**"
   ]
  },
  {
   "cell_type": "code",
   "execution_count": 0,
   "metadata": {
    "application/vnd.databricks.v1+cell": {
     "cellMetadata": {
      "byteLimit": 2048000,
      "rowLimit": 10000
     },
     "inputWidgets": {},
     "nuid": "5d2eeb58-43b7-4360-b711-b60afe7f46a6",
     "showTitle": false,
     "tableResultSettingsMap": {},
     "title": ""
    }
   },
   "outputs": [],
   "source": [
    "# Create the Player Statistics table\n",
    "gold_df_Players_statistics = gold_df_Players_Tracking_PFFScoutingData.groupBy(\n",
    "    \"nflId\", \"gameid\",\"season\"\n",
    ").agg(\n",
    "    first(\"displayName\").alias(\"displayName\"),    # Player name\n",
    "    first(\"Position\").alias(\"Position\"),          # Player position\n",
    "    avg(\"s\").alias(\"avg_speed\"),                  # Average speed of the player\n",
    "    max(\"s\").alias(\"max_speed\"),                  # Max speed of the player\n",
    "    avg(\"a\").alias(\"avg_acceleration\"),           # Average acceleration of the player\n",
    "    max(\"a\").alias(\"max_acceleration\"),           # Max acceleration of the player\n",
    "    sum(\"dis\").alias(\"total_distance\"),           # Total distance traveled by the player\n",
    "    countDistinct(\"playid\").alias(\"total_plays\")  # Total number of plays\n",
    ").orderBy(\n",
    "    \"nflId\", \"gameid\",\"season\"\n",
    ")\n",
    "\n",
    "gold_df_Players_statistics = gold_df_Players_statistics.na.drop()\n",
    "\n",
    "display(gold_df_Players_statistics)"
   ]
  },
  {
   "cell_type": "markdown",
   "metadata": {
    "application/vnd.databricks.v1+cell": {
     "cellMetadata": {},
     "inputWidgets": {},
     "nuid": "a9ce4e3e-c577-4e8a-8833-f483a1f7d750",
     "showTitle": false,
     "tableResultSettingsMap": {},
     "title": ""
    }
   },
   "source": [
    "### Save the data in the **Golden** Layer"
   ]
  },
  {
   "cell_type": "code",
   "execution_count": 0,
   "metadata": {
    "application/vnd.databricks.v1+cell": {
     "cellMetadata": {
      "byteLimit": 2048000,
      "rowLimit": 10000
     },
     "inputWidgets": {},
     "nuid": "d4ba5b67-a56f-40da-8dbc-1c917cc93709",
     "showTitle": false,
     "tableResultSettingsMap": {},
     "title": ""
    }
   },
   "outputs": [
    {
     "output_type": "execute_result",
     "data": {
      "text/plain": [
       "True"
      ]
     },
     "execution_count": 129,
     "metadata": {},
     "output_type": "execute_result"
    }
   ],
   "source": [
    "#Delete any residual data from prior executions for an idempotent run\n",
    "dbutils.fs.rm(f\"{destDataDirRoot}/player_performance_participation_by_games\",recurse=True)"
   ]
  },
  {
   "cell_type": "code",
   "execution_count": 0,
   "metadata": {
    "application/vnd.databricks.v1+cell": {
     "cellMetadata": {
      "byteLimit": 2048000,
      "rowLimit": 10000
     },
     "inputWidgets": {},
     "nuid": "26387e67-31d1-4766-b386-fe5fd79f3a46",
     "showTitle": false,
     "tableResultSettingsMap": {},
     "title": ""
    }
   },
   "outputs": [],
   "source": [
    "#To make Hive Parquet format compatible with Spark Parquet format\n",
    "sqlContext.setConf(\"spark.sql.parquet.writeLegacyFormat\", \"true\")\n",
    "\n",
    "#Save the dataset\n",
    "gold_df_Players_statistics.write.format(\"delta\").mode(\"overwrite\").partitionBy(\"season\").save(f\"{destDataDirRoot}/player_performance_participation_by_games\")"
   ]
  },
  {
   "cell_type": "markdown",
   "metadata": {
    "application/vnd.databricks.v1+cell": {
     "cellMetadata": {
      "byteLimit": 2048000,
      "rowLimit": 10000
     },
     "inputWidgets": {},
     "nuid": "dd6f85bf-7c09-492e-990a-834f3e1da598",
     "showTitle": false,
     "tableResultSettingsMap": {},
     "title": ""
    }
   },
   "source": [
    "### 3. `Team Season Performance By Season Table`\n",
    "\n",
    "- **Description**: The `Team Season Performance Summary Table` aggregates performance metrics for each team across an entire season, focusing on offensive and defensive accomplishments, penalties, and success in gaining yards and scoring touchdowns. This table captures how each team performed cumulatively across games in various aspects such as yardage gained, penalties, and successful plays.\n",
    "- **Usefulness**: This table is critical for season-wide analysis, allowing for a thorough examination of team strengths, weaknesses, and consistency across different game metrics. It supports comparative analysis of team performance throughout a season, aiding analysts, coaches, and strategists in evaluating overall team effectiveness.\n",
    "\n",
    "#### Dataset Columns\n",
    "\n",
    "#### `possessionTeam`\n",
    "- **Description**: Abbreviation representing the team in possession during each play.\n",
    "\n",
    "#### `season`\n",
    "- **Description**: Season year for which the performance data is summarized.\n",
    "\n",
    "#### `total_games`\n",
    "- **Description**: Total number of games played by the team in the season.\n",
    "\n",
    "#### `total_yards_gain`\n",
    "- **Description**: Total yards gained by the team, including yards awarded from penalties.\n",
    "\n",
    "#### `total_penalty_yards`\n",
    "- **Description**: Sum of yards lost due to penalties committed by the team.\n",
    "\n",
    "#### `total_yards_gain_from_kick`\n",
    "- **Description**: Total yards gained through kicking plays.\n",
    "\n",
    "#### `total_yards_returned_from_kick`\n",
    "- **Description**: Total yards gained by the team through returns following opponent kicks.\n",
    "\n",
    "#### `total_successful_plays`\n",
    "- **Description**: Total number of plays deemed successful for the team.\n",
    "\n",
    "#### `total_touchdowns`\n",
    "- **Description**: Total touchdowns scored by the team throughout the season.\n",
    "\n",
    "#### `total_return_plays`\n",
    "- **Description**: Total number of plays where a return was attempted.\n",
    "\n",
    "#### `total_penalties`\n",
    "- **Description**: Total number of penalties committed by the team across all games."
   ]
  },
  {
   "cell_type": "markdown",
   "metadata": {
    "application/vnd.databricks.v1+cell": {
     "cellMetadata": {},
     "inputWidgets": {},
     "nuid": "e8c9ffcf-d417-44f7-b6f1-41419dbcde07",
     "showTitle": false,
     "tableResultSettingsMap": {},
     "title": ""
    }
   },
   "source": [
    "**Join between the necessary tables**"
   ]
  },
  {
   "cell_type": "code",
   "execution_count": 0,
   "metadata": {
    "application/vnd.databricks.v1+cell": {
     "cellMetadata": {
      "byteLimit": 2048000,
      "rowLimit": 10000
     },
     "inputWidgets": {},
     "nuid": "ba86f7f7-1615-4496-9fb1-86638618c3c1",
     "showTitle": false,
     "tableResultSettingsMap": {},
     "title": ""
    }
   },
   "outputs": [],
   "source": [
    "#join the tables on the gameId and select the columns needed\n",
    "gamesPlaysDataframe = nflPlaysSilver.join(\n",
    "  nflGamesSilver, \n",
    "  nflPlaysSilver.gameId == nflGamesSilver.gameId, \"left\"\n",
    "  ).select(\n",
    "    nflPlaysSilver.gameId,nflPlaysSilver.possessionTeam, nflGamesSilver.season,\n",
    "    nflPlaysSilver.playId,nflPlaysSilver.playResult,nflPlaysSilver.is_penalty_flag, \n",
    "    nflPlaysSilver.is_Touchdown_flag, nflPlaysSilver.is_ReturnPlay_flag,\n",
    "    nflPlaysSilver.penaltyYards, nflPlaysSilver.kickLength,\n",
    "    nflPlaysSilver.is_SuccessfulPlay_flag, nflPlaysSilver.kickReturnYardage,\n",
    "  )\n",
    "\n",
    "display(gamesPlaysDataframe)"
   ]
  },
  {
   "cell_type": "markdown",
   "metadata": {
    "application/vnd.databricks.v1+cell": {
     "cellMetadata": {},
     "inputWidgets": {},
     "nuid": "617769e6-c498-4074-b3a4-444cbc495896",
     "showTitle": false,
     "tableResultSettingsMap": {},
     "title": ""
    }
   },
   "source": [
    "**Aggregations and transformations**"
   ]
  },
  {
   "cell_type": "code",
   "execution_count": 0,
   "metadata": {
    "application/vnd.databricks.v1+cell": {
     "cellMetadata": {
      "byteLimit": 2048000,
      "rowLimit": 10000
     },
     "inputWidgets": {},
     "nuid": "391d0cfa-2e8a-4d8e-9421-b410359a7ad2",
     "showTitle": false,
     "tableResultSettingsMap": {},
     "title": ""
    }
   },
   "outputs": [
    {
     "output_type": "display_data",
     "data": {
      "text/html": [
       "<style scoped>\n",
       "  .table-result-container {\n",
       "    max-height: 300px;\n",
       "    overflow: auto;\n",
       "  }\n",
       "  table, th, td {\n",
       "    border: 1px solid black;\n",
       "    border-collapse: collapse;\n",
       "  }\n",
       "  th, td {\n",
       "    padding: 5px;\n",
       "  }\n",
       "  th {\n",
       "    text-align: left;\n",
       "  }\n",
       "</style><div class='table-result-container'><table class='table-result'><thead style='background-color: white'><tr><th>possessionTeam</th><th>season</th><th>total_games</th><th>total_yards_gain</th><th>total_penalty_yards</th><th>total_yards_gain_from_kick</th><th>total_yards_returned_from_kick</th><th>total_successful_plays</th><th>total_touchdowns</th><th>total_return_plays</th><th>total_penalties</th></tr></thead><tbody><tr><td>ARI</td><td>2018</td><td>16</td><td>6178</td><td>37</td><td>8850</td><td>994</td><td>172</td><td>1</td><td>58</td><td>13</td></tr><tr><td>ATL</td><td>2018</td><td>16</td><td>5905</td><td>18</td><td>9630</td><td>1002</td><td>191</td><td>0</td><td>58</td><td>12</td></tr><tr><td>BAL</td><td>2018</td><td>16</td><td>6027</td><td>49</td><td>10383</td><td>1060</td><td>189</td><td>1</td><td>59</td><td>11</td></tr><tr><td>BUF</td><td>2018</td><td>16</td><td>5453</td><td>23</td><td>8627</td><td>1051</td><td>165</td><td>0</td><td>59</td><td>19</td></tr><tr><td>CAR</td><td>2018</td><td>16</td><td>5351</td><td>32</td><td>8740</td><td>542</td><td>175</td><td>1</td><td>32</td><td>5</td></tr><tr><td>CHI</td><td>2018</td><td>16</td><td>5891</td><td>53</td><td>10026</td><td>698</td><td>194</td><td>2</td><td>39</td><td>7</td></tr><tr><td>CIN</td><td>2018</td><td>16</td><td>5878</td><td>-9</td><td>9160</td><td>925</td><td>186</td><td>1</td><td>53</td><td>17</td></tr><tr><td>CLE</td><td>2018</td><td>16</td><td>6327</td><td>100</td><td>9964</td><td>961</td><td>192</td><td>0</td><td>51</td><td>15</td></tr><tr><td>DAL</td><td>2018</td><td>16</td><td>5201</td><td>1</td><td>9195</td><td>924</td><td>167</td><td>1</td><td>49</td><td>7</td></tr><tr><td>DEN</td><td>2018</td><td>15</td><td>5537</td><td>32</td><td>8636</td><td>899</td><td>174</td><td>1</td><td>51</td><td>13</td></tr><tr><td>DET</td><td>2018</td><td>16</td><td>6004</td><td>138</td><td>9424</td><td>1171</td><td>183</td><td>3</td><td>61</td><td>18</td></tr><tr><td>GB</td><td>2018</td><td>16</td><td>5886</td><td>-30</td><td>10132</td><td>1228</td><td>187</td><td>1</td><td>53</td><td>14</td></tr><tr><td>HOU</td><td>2018</td><td>16</td><td>6539</td><td>57</td><td>11001</td><td>920</td><td>204</td><td>0</td><td>53</td><td>18</td></tr><tr><td>IND</td><td>2018</td><td>16</td><td>5549</td><td>35</td><td>9031</td><td>647</td><td>184</td><td>0</td><td>39</td><td>13</td></tr><tr><td>JAX</td><td>2018</td><td>16</td><td>5848</td><td>28</td><td>8899</td><td>543</td><td>169</td><td>0</td><td>46</td><td>17</td></tr><tr><td>KC</td><td>2018</td><td>15</td><td>5621</td><td>74</td><td>9574</td><td>850</td><td>200</td><td>0</td><td>45</td><td>11</td></tr><tr><td>LA</td><td>2018</td><td>16</td><td>6029</td><td>-17</td><td>10827</td><td>756</td><td>203</td><td>0</td><td>38</td><td>7</td></tr><tr><td>LAC</td><td>2018</td><td>15</td><td>5433</td><td>41</td><td>8641</td><td>1451</td><td>179</td><td>1</td><td>76</td><td>22</td></tr><tr><td>MIA</td><td>2018</td><td>16</td><td>5814</td><td>113</td><td>9012</td><td>686</td><td>178</td><td>1</td><td>38</td><td>20</td></tr><tr><td>MIN</td><td>2018</td><td>15</td><td>5448</td><td>133</td><td>8768</td><td>875</td><td>170</td><td>1</td><td>46</td><td>16</td></tr><tr><td>NE</td><td>2018</td><td>16</td><td>5843</td><td>37</td><td>9955</td><td>1258</td><td>198</td><td>0</td><td>61</td><td>15</td></tr><tr><td>NO</td><td>2018</td><td>16</td><td>5955</td><td>67</td><td>9951</td><td>945</td><td>197</td><td>0</td><td>47</td><td>17</td></tr><tr><td>NYG</td><td>2018</td><td>16</td><td>6331</td><td>83</td><td>9829</td><td>749</td><td>188</td><td>0</td><td>46</td><td>14</td></tr><tr><td>NYJ</td><td>2018</td><td>16</td><td>6552</td><td>86</td><td>10823</td><td>835</td><td>196</td><td>0</td><td>53</td><td>15</td></tr><tr><td>OAK</td><td>2018</td><td>16</td><td>5464</td><td>100</td><td>8696</td><td>1163</td><td>168</td><td>1</td><td>62</td><td>26</td></tr><tr><td>PHI</td><td>2018</td><td>16</td><td>5810</td><td>61</td><td>9700</td><td>728</td><td>173</td><td>0</td><td>46</td><td>13</td></tr><tr><td>PIT</td><td>2018</td><td>16</td><td>5756</td><td>73</td><td>9168</td><td>906</td><td>193</td><td>2</td><td>47</td><td>22</td></tr><tr><td>SEA</td><td>2018</td><td>15</td><td>5890</td><td>106</td><td>9338</td><td>1199</td><td>192</td><td>2</td><td>65</td><td>16</td></tr><tr><td>SF</td><td>2018</td><td>15</td><td>5402</td><td>108</td><td>8914</td><td>823</td><td>163</td><td>1</td><td>37</td><td>16</td></tr><tr><td>TB</td><td>2018</td><td>16</td><td>5527</td><td>65</td><td>9192</td><td>924</td><td>186</td><td>0</td><td>51</td><td>13</td></tr><tr><td>TEN</td><td>2018</td><td>16</td><td>5800</td><td>113</td><td>9232</td><td>992</td><td>171</td><td>2</td><td>50</td><td>13</td></tr><tr><td>WAS</td><td>2018</td><td>16</td><td>5781</td><td>35</td><td>9237</td><td>583</td><td>165</td><td>1</td><td>38</td><td>12</td></tr><tr><td>ARI</td><td>2019</td><td>16</td><td>6074</td><td>64</td><td>9635</td><td>999</td><td>181</td><td>2</td><td>61</td><td>18</td></tr><tr><td>ATL</td><td>2019</td><td>16</td><td>5098</td><td>38</td><td>8832</td><td>792</td><td>163</td><td>1</td><td>44</td><td>13</td></tr><tr><td>BAL</td><td>2019</td><td>16</td><td>5845</td><td>13</td><td>10014</td><td>1173</td><td>202</td><td>2</td><td>60</td><td>10</td></tr><tr><td>BUF</td><td>2019</td><td>16</td><td>5638</td><td>24</td><td>9122</td><td>848</td><td>176</td><td>3</td><td>44</td><td>6</td></tr><tr><td>CAR</td><td>2019</td><td>16</td><td>5458</td><td>52</td><td>9459</td><td>564</td><td>173</td><td>3</td><td>34</td><td>15</td></tr><tr><td>CHI</td><td>2019</td><td>15</td><td>5111</td><td>5</td><td>7982</td><td>900</td><td>159</td><td>1</td><td>49</td><td>11</td></tr><tr><td>CIN</td><td>2019</td><td>16</td><td>5533</td><td>113</td><td>8710</td><td>537</td><td>157</td><td>0</td><td>38</td><td>15</td></tr><tr><td>CLE</td><td>2019</td><td>16</td><td>5675</td><td>96</td><td>8695</td><td>1057</td><td>169</td><td>0</td><td>57</td><td>12</td></tr><tr><td>DAL</td><td>2019</td><td>16</td><td>5074</td><td>75</td><td>9076</td><td>937</td><td>178</td><td>0</td><td>49</td><td>8</td></tr><tr><td>DEN</td><td>2019</td><td>16</td><td>5539</td><td>62</td><td>9477</td><td>746</td><td>162</td><td>2</td><td>38</td><td>18</td></tr><tr><td>DET</td><td>2019</td><td>16</td><td>5833</td><td>91</td><td>9038</td><td>1399</td><td>180</td><td>1</td><td>70</td><td>19</td></tr><tr><td>GB</td><td>2019</td><td>16</td><td>6138</td><td>46</td><td>9466</td><td>923</td><td>187</td><td>0</td><td>49</td><td>15</td></tr><tr><td>HOU</td><td>2019</td><td>16</td><td>5832</td><td>73</td><td>8947</td><td>807</td><td>175</td><td>0</td><td>54</td><td>15</td></tr><tr><td>IND</td><td>2019</td><td>16</td><td>5358</td><td>49</td><td>9057</td><td>635</td><td>172</td><td>1</td><td>41</td><td>14</td></tr><tr><td>JAX</td><td>2019</td><td>16</td><td>6056</td><td>12</td><td>9304</td><td>817</td><td>168</td><td>0</td><td>49</td><td>10</td></tr><tr><td>KC</td><td>2019</td><td>16</td><td>5496</td><td>-4</td><td>9638</td><td>752</td><td>184</td><td>0</td><td>47</td><td>9</td></tr><tr><td>LA</td><td>2019</td><td>16</td><td>6030</td><td>53</td><td>9925</td><td>640</td><td>189</td><td>1</td><td>33</td><td>8</td></tr><tr><td>LAC</td><td>2019</td><td>16</td><td>4809</td><td>118</td><td>8303</td><td>1129</td><td>153</td><td>1</td><td>62</td><td>12</td></tr><tr><td>MIA</td><td>2019</td><td>16</td><td>5356</td><td>72</td><td>8811</td><td>769</td><td>168</td><td>2</td><td>45</td><td>9</td></tr><tr><td>MIN</td><td>2019</td><td>15</td><td>5564</td><td>-8</td><td>9309</td><td>669</td><td>178</td><td>0</td><td>35</td><td>7</td></tr><tr><td>NE</td><td>2019</td><td>16</td><td>6718</td><td>39</td><td>10547</td><td>775</td><td>208</td><td>0</td><td>49</td><td>9</td></tr><tr><td>NO</td><td>2019</td><td>16</td><td>5962</td><td>23</td><td>10269</td><td>695</td><td>191</td><td>1</td><td>36</td><td>7</td></tr><tr><td>NYG</td><td>2019</td><td>16</td><td>5609</td><td>49</td><td>8273</td><td>493</td><td>171</td><td>1</td><td>35</td><td>13</td></tr><tr><td>NYJ</td><td>2019</td><td>16</td><td>6133</td><td>15</td><td>9120</td><td>923</td><td>177</td><td>1</td><td>67</td><td>9</td></tr><tr><td>OAK</td><td>2019</td><td>16</td><td>5415</td><td>42</td><td>8742</td><td>1002</td><td>166</td><td>0</td><td>57</td><td>14</td></tr><tr><td>PHI</td><td>2019</td><td>16</td><td>5684</td><td>38</td><td>9102</td><td>828</td><td>173</td><td>1</td><td>45</td><td>9</td></tr><tr><td>PIT</td><td>2019</td><td>16</td><td>5855</td><td>45</td><td>9119</td><td>1154</td><td>171</td><td>1</td><td>65</td><td>9</td></tr><tr><td>SEA</td><td>2019</td><td>16</td><td>6031</td><td>43</td><td>9640</td><td>733</td><td>189</td><td>1</td><td>45</td><td>8</td></tr><tr><td>SF</td><td>2019</td><td>16</td><td>5642</td><td>51</td><td>9404</td><td>1071</td><td>178</td><td>0</td><td>56</td><td>14</td></tr><tr><td>TB</td><td>2019</td><td>16</td><td>5774</td><td>64</td><td>10431</td><td>419</td><td>194</td><td>0</td><td>25</td><td>13</td></tr><tr><td>TEN</td><td>2019</td><td>16</td><td>6295</td><td>111</td><td>9157</td><td>1137</td><td>202</td><td>0</td><td>59</td><td>11</td></tr><tr><td>WAS</td><td>2019</td><td>16</td><td>5950</td><td>49</td><td>9289</td><td>776</td><td>163</td><td>0</td><td>47</td><td>10</td></tr><tr><td>ARI</td><td>2020</td><td>16</td><td>5764</td><td>69</td><td>9226</td><td>1072</td><td>186</td><td>1</td><td>64</td><td>10</td></tr><tr><td>ATL</td><td>2020</td><td>16</td><td>5456</td><td>-21</td><td>9293</td><td>1097</td><td>170</td><td>0</td><td>57</td><td>12</td></tr><tr><td>BAL</td><td>2020</td><td>16</td><td>6064</td><td>18</td><td>10024</td><td>742</td><td>193</td><td>0</td><td>45</td><td>11</td></tr><tr><td>BUF</td><td>2020</td><td>16</td><td>5901</td><td>61</td><td>10169</td><td>675</td><td>194</td><td>0</td><td>41</td><td>7</td></tr><tr><td>CAR</td><td>2020</td><td>16</td><td>4881</td><td>-37</td><td>8692</td><td>328</td><td>158</td><td>2</td><td>19</td><td>7</td></tr><tr><td>CHI</td><td>2020</td><td>16</td><td>5740</td><td>-28</td><td>9373</td><td>1117</td><td>177</td><td>0</td><td>63</td><td>8</td></tr><tr><td>CIN</td><td>2020</td><td>16</td><td>5704</td><td>19</td><td>9494</td><td>521</td><td>170</td><td>0</td><td>36</td><td>5</td></tr><tr><td>CLE</td><td>2020</td><td>16</td><td>4857</td><td>0</td><td>8319</td><td>1196</td><td>170</td><td>1</td><td>58</td><td>7</td></tr><tr><td>DAL</td><td>2020</td><td>15</td><td>4975</td><td>10</td><td>9003</td><td>710</td><td>157</td><td>0</td><td>37</td><td>1</td></tr><tr><td>DEN</td><td>2020</td><td>16</td><td>5441</td><td>70</td><td>9555</td><td>853</td><td>167</td><td>3</td><td>41</td><td>13</td></tr><tr><td>DET</td><td>2020</td><td>16</td><td>5474</td><td>15</td><td>8568</td><td>1131</td><td>172</td><td>0</td><td>61</td><td>8</td></tr><tr><td>GB</td><td>2020</td><td>16</td><td>5441</td><td>37</td><td>9007</td><td>1318</td><td>196</td><td>2</td><td>59</td><td>8</td></tr><tr><td>HOU</td><td>2020</td><td>16</td><td>5553</td><td>76</td><td>9062</td><td>806</td><td>172</td><td>0</td><td>48</td><td>8</td></tr><tr><td>IND</td><td>2020</td><td>16</td><td>5701</td><td>51</td><td>9814</td><td>1241</td><td>187</td><td>1</td><td>71</td><td>13</td></tr><tr><td>JAX</td><td>2020</td><td>16</td><td>5336</td><td>-10</td><td>8328</td><td>659</td><td>160</td><td>0</td><td>46</td><td>10</td></tr><tr><td>KC</td><td>2020</td><td>16</td><td>5415</td><td>-6</td><td>9346</td><td>634</td><td>183</td><td>1</td><td>33</td><td>5</td></tr><tr><td>LA</td><td>2020</td><td>16</td><td>5788</td><td>25</td><td>9506</td><td>1034</td><td>184</td><td>1</td><td>46</td><td>4</td></tr><tr><td>LAC</td><td>2020</td><td>16</td><td>5048</td><td>28</td><td>9529</td><td>1461</td><td>176</td><td>3</td><td>69</td><td>9</td></tr><tr><td>LV</td><td>2020</td><td>16</td><td>5466</td><td>106</td><td>9371</td><td>862</td><td>180</td><td>0</td><td>40</td><td>12</td></tr><tr><td>MIA</td><td>2020</td><td>16</td><td>6293</td><td>86</td><td>10444</td><td>629</td><td>186</td><td>2</td><td>36</td><td>11</td></tr><tr><td>MIN</td><td>2020</td><td>16</td><td>4550</td><td>58</td><td>7710</td><td>849</td><td>155</td><td>1</td><td>45</td><td>8</td></tr><tr><td>NE</td><td>2020</td><td>16</td><td>5307</td><td>27</td><td>8387</td><td>753</td><td>155</td><td>0</td><td>41</td><td>4</td></tr><tr><td>NO</td><td>2020</td><td>16</td><td>6213</td><td>-30</td><td>10107</td><td>425</td><td>203</td><td>0</td><td>32</td><td>2</td></tr><tr><td>NYG</td><td>2020</td><td>16</td><td>5157</td><td>6</td><td>8564</td><td>1138</td><td>154</td><td>1</td><td>62</td><td>11</td></tr><tr><td>NYJ</td><td>2020</td><td>16</td><td>5148</td><td>56</td><td>8396</td><td>1074</td><td>154</td><td>0</td><td>58</td><td>17</td></tr><tr><td>PHI</td><td>2020</td><td>16</td><td>5353</td><td>-10</td><td>8301</td><td>822</td><td>161</td><td>0</td><td>56</td><td>4</td></tr><tr><td>PIT</td><td>2020</td><td>16</td><td>6211</td><td>50</td><td>9588</td><td>1121</td><td>195</td><td>0</td><td>64</td><td>11</td></tr><tr><td>SEA</td><td>2020</td><td>16</td><td>6170</td><td>42</td><td>9689</td><td>997</td><td>190</td><td>0</td><td>58</td><td>9</td></tr><tr><td>SF</td><td>2020</td><td>16</td><td>5440</td><td>0</td><td>8786</td><td>915</td><td>173</td><td>1</td><td>47</td><td>4</td></tr><tr><td>TB</td><td>2020</td><td>16</td><td>6005</td><td>46</td><td>10648</td><td>707</td><td>201</td><td>1</td><td>34</td><td>7</td></tr><tr><td>TEN</td><td>2020</td><td>16</td><td>5467</td><td>44</td><td>9436</td><td>968</td><td>186</td><td>1</td><td>50</td><td>10</td></tr><tr><td>WAS</td><td>2020</td><td>16</td><td>5811</td><td>5</td><td>9625</td><td>439</td><td>166</td><td>0</td><td>36</td><td>9</td></tr></tbody></table></div>"
      ]
     },
     "metadata": {
      "application/vnd.databricks.v1+output": {
       "addedWidgets": {},
       "aggData": [],
       "aggError": "",
       "aggOverflow": false,
       "aggSchema": [],
       "aggSeriesLimitReached": false,
       "aggType": "",
       "arguments": {},
       "columnCustomDisplayInfos": {},
       "data": [
        [
         "ARI",
         2018,
         16,
         6178,
         37,
         8850,
         994,
         172,
         1,
         58,
         13
        ],
        [
         "ATL",
         2018,
         16,
         5905,
         18,
         9630,
         1002,
         191,
         0,
         58,
         12
        ],
        [
         "BAL",
         2018,
         16,
         6027,
         49,
         10383,
         1060,
         189,
         1,
         59,
         11
        ],
        [
         "BUF",
         2018,
         16,
         5453,
         23,
         8627,
         1051,
         165,
         0,
         59,
         19
        ],
        [
         "CAR",
         2018,
         16,
         5351,
         32,
         8740,
         542,
         175,
         1,
         32,
         5
        ],
        [
         "CHI",
         2018,
         16,
         5891,
         53,
         10026,
         698,
         194,
         2,
         39,
         7
        ],
        [
         "CIN",
         2018,
         16,
         5878,
         -9,
         9160,
         925,
         186,
         1,
         53,
         17
        ],
        [
         "CLE",
         2018,
         16,
         6327,
         100,
         9964,
         961,
         192,
         0,
         51,
         15
        ],
        [
         "DAL",
         2018,
         16,
         5201,
         1,
         9195,
         924,
         167,
         1,
         49,
         7
        ],
        [
         "DEN",
         2018,
         15,
         5537,
         32,
         8636,
         899,
         174,
         1,
         51,
         13
        ],
        [
         "DET",
         2018,
         16,
         6004,
         138,
         9424,
         1171,
         183,
         3,
         61,
         18
        ],
        [
         "GB",
         2018,
         16,
         5886,
         -30,
         10132,
         1228,
         187,
         1,
         53,
         14
        ],
        [
         "HOU",
         2018,
         16,
         6539,
         57,
         11001,
         920,
         204,
         0,
         53,
         18
        ],
        [
         "IND",
         2018,
         16,
         5549,
         35,
         9031,
         647,
         184,
         0,
         39,
         13
        ],
        [
         "JAX",
         2018,
         16,
         5848,
         28,
         8899,
         543,
         169,
         0,
         46,
         17
        ],
        [
         "KC",
         2018,
         15,
         5621,
         74,
         9574,
         850,
         200,
         0,
         45,
         11
        ],
        [
         "LA",
         2018,
         16,
         6029,
         -17,
         10827,
         756,
         203,
         0,
         38,
         7
        ],
        [
         "LAC",
         2018,
         15,
         5433,
         41,
         8641,
         1451,
         179,
         1,
         76,
         22
        ],
        [
         "MIA",
         2018,
         16,
         5814,
         113,
         9012,
         686,
         178,
         1,
         38,
         20
        ],
        [
         "MIN",
         2018,
         15,
         5448,
         133,
         8768,
         875,
         170,
         1,
         46,
         16
        ],
        [
         "NE",
         2018,
         16,
         5843,
         37,
         9955,
         1258,
         198,
         0,
         61,
         15
        ],
        [
         "NO",
         2018,
         16,
         5955,
         67,
         9951,
         945,
         197,
         0,
         47,
         17
        ],
        [
         "NYG",
         2018,
         16,
         6331,
         83,
         9829,
         749,
         188,
         0,
         46,
         14
        ],
        [
         "NYJ",
         2018,
         16,
         6552,
         86,
         10823,
         835,
         196,
         0,
         53,
         15
        ],
        [
         "OAK",
         2018,
         16,
         5464,
         100,
         8696,
         1163,
         168,
         1,
         62,
         26
        ],
        [
         "PHI",
         2018,
         16,
         5810,
         61,
         9700,
         728,
         173,
         0,
         46,
         13
        ],
        [
         "PIT",
         2018,
         16,
         5756,
         73,
         9168,
         906,
         193,
         2,
         47,
         22
        ],
        [
         "SEA",
         2018,
         15,
         5890,
         106,
         9338,
         1199,
         192,
         2,
         65,
         16
        ],
        [
         "SF",
         2018,
         15,
         5402,
         108,
         8914,
         823,
         163,
         1,
         37,
         16
        ],
        [
         "TB",
         2018,
         16,
         5527,
         65,
         9192,
         924,
         186,
         0,
         51,
         13
        ],
        [
         "TEN",
         2018,
         16,
         5800,
         113,
         9232,
         992,
         171,
         2,
         50,
         13
        ],
        [
         "WAS",
         2018,
         16,
         5781,
         35,
         9237,
         583,
         165,
         1,
         38,
         12
        ],
        [
         "ARI",
         2019,
         16,
         6074,
         64,
         9635,
         999,
         181,
         2,
         61,
         18
        ],
        [
         "ATL",
         2019,
         16,
         5098,
         38,
         8832,
         792,
         163,
         1,
         44,
         13
        ],
        [
         "BAL",
         2019,
         16,
         5845,
         13,
         10014,
         1173,
         202,
         2,
         60,
         10
        ],
        [
         "BUF",
         2019,
         16,
         5638,
         24,
         9122,
         848,
         176,
         3,
         44,
         6
        ],
        [
         "CAR",
         2019,
         16,
         5458,
         52,
         9459,
         564,
         173,
         3,
         34,
         15
        ],
        [
         "CHI",
         2019,
         15,
         5111,
         5,
         7982,
         900,
         159,
         1,
         49,
         11
        ],
        [
         "CIN",
         2019,
         16,
         5533,
         113,
         8710,
         537,
         157,
         0,
         38,
         15
        ],
        [
         "CLE",
         2019,
         16,
         5675,
         96,
         8695,
         1057,
         169,
         0,
         57,
         12
        ],
        [
         "DAL",
         2019,
         16,
         5074,
         75,
         9076,
         937,
         178,
         0,
         49,
         8
        ],
        [
         "DEN",
         2019,
         16,
         5539,
         62,
         9477,
         746,
         162,
         2,
         38,
         18
        ],
        [
         "DET",
         2019,
         16,
         5833,
         91,
         9038,
         1399,
         180,
         1,
         70,
         19
        ],
        [
         "GB",
         2019,
         16,
         6138,
         46,
         9466,
         923,
         187,
         0,
         49,
         15
        ],
        [
         "HOU",
         2019,
         16,
         5832,
         73,
         8947,
         807,
         175,
         0,
         54,
         15
        ],
        [
         "IND",
         2019,
         16,
         5358,
         49,
         9057,
         635,
         172,
         1,
         41,
         14
        ],
        [
         "JAX",
         2019,
         16,
         6056,
         12,
         9304,
         817,
         168,
         0,
         49,
         10
        ],
        [
         "KC",
         2019,
         16,
         5496,
         -4,
         9638,
         752,
         184,
         0,
         47,
         9
        ],
        [
         "LA",
         2019,
         16,
         6030,
         53,
         9925,
         640,
         189,
         1,
         33,
         8
        ],
        [
         "LAC",
         2019,
         16,
         4809,
         118,
         8303,
         1129,
         153,
         1,
         62,
         12
        ],
        [
         "MIA",
         2019,
         16,
         5356,
         72,
         8811,
         769,
         168,
         2,
         45,
         9
        ],
        [
         "MIN",
         2019,
         15,
         5564,
         -8,
         9309,
         669,
         178,
         0,
         35,
         7
        ],
        [
         "NE",
         2019,
         16,
         6718,
         39,
         10547,
         775,
         208,
         0,
         49,
         9
        ],
        [
         "NO",
         2019,
         16,
         5962,
         23,
         10269,
         695,
         191,
         1,
         36,
         7
        ],
        [
         "NYG",
         2019,
         16,
         5609,
         49,
         8273,
         493,
         171,
         1,
         35,
         13
        ],
        [
         "NYJ",
         2019,
         16,
         6133,
         15,
         9120,
         923,
         177,
         1,
         67,
         9
        ],
        [
         "OAK",
         2019,
         16,
         5415,
         42,
         8742,
         1002,
         166,
         0,
         57,
         14
        ],
        [
         "PHI",
         2019,
         16,
         5684,
         38,
         9102,
         828,
         173,
         1,
         45,
         9
        ],
        [
         "PIT",
         2019,
         16,
         5855,
         45,
         9119,
         1154,
         171,
         1,
         65,
         9
        ],
        [
         "SEA",
         2019,
         16,
         6031,
         43,
         9640,
         733,
         189,
         1,
         45,
         8
        ],
        [
         "SF",
         2019,
         16,
         5642,
         51,
         9404,
         1071,
         178,
         0,
         56,
         14
        ],
        [
         "TB",
         2019,
         16,
         5774,
         64,
         10431,
         419,
         194,
         0,
         25,
         13
        ],
        [
         "TEN",
         2019,
         16,
         6295,
         111,
         9157,
         1137,
         202,
         0,
         59,
         11
        ],
        [
         "WAS",
         2019,
         16,
         5950,
         49,
         9289,
         776,
         163,
         0,
         47,
         10
        ],
        [
         "ARI",
         2020,
         16,
         5764,
         69,
         9226,
         1072,
         186,
         1,
         64,
         10
        ],
        [
         "ATL",
         2020,
         16,
         5456,
         -21,
         9293,
         1097,
         170,
         0,
         57,
         12
        ],
        [
         "BAL",
         2020,
         16,
         6064,
         18,
         10024,
         742,
         193,
         0,
         45,
         11
        ],
        [
         "BUF",
         2020,
         16,
         5901,
         61,
         10169,
         675,
         194,
         0,
         41,
         7
        ],
        [
         "CAR",
         2020,
         16,
         4881,
         -37,
         8692,
         328,
         158,
         2,
         19,
         7
        ],
        [
         "CHI",
         2020,
         16,
         5740,
         -28,
         9373,
         1117,
         177,
         0,
         63,
         8
        ],
        [
         "CIN",
         2020,
         16,
         5704,
         19,
         9494,
         521,
         170,
         0,
         36,
         5
        ],
        [
         "CLE",
         2020,
         16,
         4857,
         0,
         8319,
         1196,
         170,
         1,
         58,
         7
        ],
        [
         "DAL",
         2020,
         15,
         4975,
         10,
         9003,
         710,
         157,
         0,
         37,
         1
        ],
        [
         "DEN",
         2020,
         16,
         5441,
         70,
         9555,
         853,
         167,
         3,
         41,
         13
        ],
        [
         "DET",
         2020,
         16,
         5474,
         15,
         8568,
         1131,
         172,
         0,
         61,
         8
        ],
        [
         "GB",
         2020,
         16,
         5441,
         37,
         9007,
         1318,
         196,
         2,
         59,
         8
        ],
        [
         "HOU",
         2020,
         16,
         5553,
         76,
         9062,
         806,
         172,
         0,
         48,
         8
        ],
        [
         "IND",
         2020,
         16,
         5701,
         51,
         9814,
         1241,
         187,
         1,
         71,
         13
        ],
        [
         "JAX",
         2020,
         16,
         5336,
         -10,
         8328,
         659,
         160,
         0,
         46,
         10
        ],
        [
         "KC",
         2020,
         16,
         5415,
         -6,
         9346,
         634,
         183,
         1,
         33,
         5
        ],
        [
         "LA",
         2020,
         16,
         5788,
         25,
         9506,
         1034,
         184,
         1,
         46,
         4
        ],
        [
         "LAC",
         2020,
         16,
         5048,
         28,
         9529,
         1461,
         176,
         3,
         69,
         9
        ],
        [
         "LV",
         2020,
         16,
         5466,
         106,
         9371,
         862,
         180,
         0,
         40,
         12
        ],
        [
         "MIA",
         2020,
         16,
         6293,
         86,
         10444,
         629,
         186,
         2,
         36,
         11
        ],
        [
         "MIN",
         2020,
         16,
         4550,
         58,
         7710,
         849,
         155,
         1,
         45,
         8
        ],
        [
         "NE",
         2020,
         16,
         5307,
         27,
         8387,
         753,
         155,
         0,
         41,
         4
        ],
        [
         "NO",
         2020,
         16,
         6213,
         -30,
         10107,
         425,
         203,
         0,
         32,
         2
        ],
        [
         "NYG",
         2020,
         16,
         5157,
         6,
         8564,
         1138,
         154,
         1,
         62,
         11
        ],
        [
         "NYJ",
         2020,
         16,
         5148,
         56,
         8396,
         1074,
         154,
         0,
         58,
         17
        ],
        [
         "PHI",
         2020,
         16,
         5353,
         -10,
         8301,
         822,
         161,
         0,
         56,
         4
        ],
        [
         "PIT",
         2020,
         16,
         6211,
         50,
         9588,
         1121,
         195,
         0,
         64,
         11
        ],
        [
         "SEA",
         2020,
         16,
         6170,
         42,
         9689,
         997,
         190,
         0,
         58,
         9
        ],
        [
         "SF",
         2020,
         16,
         5440,
         0,
         8786,
         915,
         173,
         1,
         47,
         4
        ],
        [
         "TB",
         2020,
         16,
         6005,
         46,
         10648,
         707,
         201,
         1,
         34,
         7
        ],
        [
         "TEN",
         2020,
         16,
         5467,
         44,
         9436,
         968,
         186,
         1,
         50,
         10
        ],
        [
         "WAS",
         2020,
         16,
         5811,
         5,
         9625,
         439,
         166,
         0,
         36,
         9
        ]
       ],
       "datasetInfos": [],
       "dbfsResultPath": null,
       "isJsonSchema": true,
       "metadata": {},
       "overflow": false,
       "plotOptions": {
        "customPlotOptions": {},
        "displayType": "table",
        "pivotAggregation": null,
        "pivotColumns": null,
        "xColumns": null,
        "yColumns": null
       },
       "removedWidgets": [],
       "schema": [
        {
         "metadata": "{}",
         "name": "possessionTeam",
         "type": "\"string\""
        },
        {
         "metadata": "{}",
         "name": "season",
         "type": "\"integer\""
        },
        {
         "metadata": "{}",
         "name": "total_games",
         "type": "\"long\""
        },
        {
         "metadata": "{}",
         "name": "total_yards_gain",
         "type": "\"long\""
        },
        {
         "metadata": "{}",
         "name": "total_penalty_yards",
         "type": "\"long\""
        },
        {
         "metadata": "{}",
         "name": "total_yards_gain_from_kick",
         "type": "\"long\""
        },
        {
         "metadata": "{}",
         "name": "total_yards_returned_from_kick",
         "type": "\"long\""
        },
        {
         "metadata": "{}",
         "name": "total_successful_plays",
         "type": "\"long\""
        },
        {
         "metadata": "{}",
         "name": "total_touchdowns",
         "type": "\"long\""
        },
        {
         "metadata": "{}",
         "name": "total_return_plays",
         "type": "\"long\""
        },
        {
         "metadata": "{}",
         "name": "total_penalties",
         "type": "\"long\""
        }
       ],
       "type": "table"
      }
     },
     "output_type": "display_data"
    }
   ],
   "source": [
    "# Create the Player Statistics table\n",
    "gold_df_TeamsData_by_season = gamesPlaysDataframe.groupBy(\n",
    "    \"possessionTeam\",\"season\"\n",
    ").agg(\n",
    "    countDistinct(\"gameId\").alias(\"total_games\"),                     # Total number of games\n",
    "    sum(\"playResult\").alias(\"total_yards_gain\"),                      # Total yards gained with penties\n",
    "    sum(\"penaltyYards\").alias(\"total_penalty_yards\"),                 # Total penalty yards\n",
    "    sum(\"kickLength\").alias(\"total_yards_gain_from_kick\"),            # Total yards from kicking\n",
    "    sum(\"kickReturnYardage\").alias(\"total_yards_returned_from_kick\"), # Total yards returned from kicking\n",
    "    sum(\"is_SuccessfulPlay_flag\").alias(\"total_successful_plays\"),    # Total successful plays\n",
    "    sum(\"is_Touchdown_flag\").alias(\"total_touchdowns\"),               # Total touchdowns\n",
    "    sum(\"is_ReturnPlay_flag\").alias(\"total_return_plays\"),            # Total return plays\n",
    "    sum(\"is_penalty_flag\").alias(\"total_penalties\")                   # Total penalties\n",
    "\n",
    ").orderBy(\n",
    "    gamesPlaysDataframe.season, gamesPlaysDataframe.possessionTeam\n",
    "    )\n",
    "\n",
    "display(gold_df_TeamsData_by_season)"
   ]
  },
  {
   "cell_type": "markdown",
   "metadata": {
    "application/vnd.databricks.v1+cell": {
     "cellMetadata": {},
     "inputWidgets": {},
     "nuid": "7da01eda-82b5-479d-b0d6-efc87cc08e17",
     "showTitle": false,
     "tableResultSettingsMap": {},
     "title": ""
    }
   },
   "source": [
    "### Save the data in the **Golden** Layer"
   ]
  },
  {
   "cell_type": "code",
   "execution_count": 0,
   "metadata": {
    "application/vnd.databricks.v1+cell": {
     "cellMetadata": {
      "byteLimit": 2048000,
      "rowLimit": 10000
     },
     "inputWidgets": {},
     "nuid": "7ba97be2-140b-4450-bcce-1d741c02d534",
     "showTitle": false,
     "tableResultSettingsMap": {},
     "title": ""
    }
   },
   "outputs": [
    {
     "output_type": "execute_result",
     "data": {
      "text/plain": [
       "False"
      ]
     },
     "execution_count": 112,
     "metadata": {},
     "output_type": "execute_result"
    }
   ],
   "source": [
    "#Delete any residual data from prior executions for an idempotent run\n",
    "dbutils.fs.rm(f\"{destDataDirRoot}/team_performance_by_season\",recurse=True)"
   ]
  },
  {
   "cell_type": "code",
   "execution_count": 0,
   "metadata": {
    "application/vnd.databricks.v1+cell": {
     "cellMetadata": {
      "byteLimit": 2048000,
      "rowLimit": 10000
     },
     "inputWidgets": {},
     "nuid": "bd19a7a4-7393-4bbf-9dd2-6a48bbb9cabf",
     "showTitle": false,
     "tableResultSettingsMap": {},
     "title": ""
    }
   },
   "outputs": [],
   "source": [
    "#To make Hive Parquet format compatible with Spark Parquet format\n",
    "sqlContext.setConf(\"spark.sql.parquet.writeLegacyFormat\", \"true\")\n",
    "\n",
    "#Save the dataset\n",
    "gold_df_TeamsData_by_season.write.format(\"delta\").mode(\"overwrite\").partitionBy(\"season\").save(f\"{destDataDirRoot}/team_performance_by_season\")"
   ]
  },
  {
   "cell_type": "markdown",
   "metadata": {
    "application/vnd.databricks.v1+cell": {
     "cellMetadata": {},
     "inputWidgets": {},
     "nuid": "cda62272-ac1a-431b-8b24-15e7d9a14730",
     "showTitle": false,
     "tableResultSettingsMap": {},
     "title": ""
    }
   },
   "source": [
    "### 4. `Special Team Plays Performance by Game and Team`\n",
    "\n",
    "- **Description**: The `Special Team Plays Performance by Game and Team` aggregates key statistics related to special teams' plays, such as kickoffs, punts, and return attempts, for each team in every game. This table provides insights into specific aspects of special teams' performance, like kick accuracy, return accuracy, and efficiency in gaining yards through kicks.\n",
    "- **Usefulness**: This table is essential for evaluating the effectiveness of special teams' strategies and execution in each game. By tracking metrics such as kick length, operation time, and hang time, teams can refine special teams' tactics and address areas for improvement. It enables both game-level and team-level analysis, aiding in adjustments for future games and highlighting consistent strengths or weaknesses.\n",
    "\n",
    "#### Dataset Columns\n",
    "\n",
    "#### `gameId`\n",
    "- **Description**: Unique identifier for the game.\n",
    "\n",
    "#### `possessionTeam`\n",
    "- **Description**: Abbreviation for the team that possessed the ball during the special team's play.\n",
    "\n",
    "#### `Total_Special_Team_Plays`\n",
    "- **Description**: Total number of special teams plays conducted by the possession team in the game.\n",
    "\n",
    "#### `total_yards_returned_from_kick`\n",
    "- **Description**: Total yards gained by the possession team from returns on kicks.\n",
    "\n",
    "#### `Total_Operation_Time`\n",
    "- **Description**: Cumulative time taken from the snap to kick across all special teams plays.\n",
    "\n",
    "#### `Total_Hang_Time`\n",
    "- **Description**: Cumulative hang time for all special teams kicks made by the possession team.\n",
    "\n",
    "#### `total_succesfull_kick_direction`\n",
    "- **Description**: Total count of kicks executed in the intended direction.\n",
    "\n",
    "#### `total_succesfull_return_direction`\n",
    "- **Description**: Total count of returns made in the intended direction.\n",
    "\n",
    "#### `total_kick_length`\n",
    "- **Description**: Total distance of all kicks made by the possession team during the game.\n",
    "\n",
    "#### `total_successful_plays`\n",
    "- **Description**: Total number of special teams plays considered successful for the possession team.\n",
    "\n",
    "\n",
    "\n",
    "\n",
    "\n"
   ]
  },
  {
   "cell_type": "markdown",
   "metadata": {
    "application/vnd.databricks.v1+cell": {
     "cellMetadata": {},
     "inputWidgets": {},
     "nuid": "bc8ff4fb-8b90-4f3a-8b72-85b80d56c57c",
     "showTitle": false,
     "tableResultSettingsMap": {},
     "title": ""
    }
   },
   "source": [
    "**Join between the necessary tables**"
   ]
  },
  {
   "cell_type": "code",
   "execution_count": 0,
   "metadata": {
    "application/vnd.databricks.v1+cell": {
     "cellMetadata": {
      "byteLimit": 2048000,
      "rowLimit": 10000
     },
     "inputWidgets": {},
     "nuid": "6584c1bb-1c58-4597-a721-bc4fa673d3be",
     "showTitle": false,
     "tableResultSettingsMap": {},
     "title": ""
    }
   },
   "outputs": [],
   "source": [
    "PlaysPFFScoutingDataframe = nflPFFScoutingDataSilver.join(\n",
    "  nflPlaysSilver,\n",
    "  (nflPFFScoutingDataSilver.gameId == nflPlaysSilver.gameId) & \n",
    "  (nflPFFScoutingDataSilver.playId == nflPlaysSilver.playId),\n",
    ").select(\n",
    "  nflPlaysSilver.gameId, nflPlaysSilver.playId,nflPlaysSilver.possessionTeam,\n",
    "  nflPlaysSilver.kickReturnYardage,nflPlaysSilver.is_SuccessfulPlay_flag,\n",
    "  nflPlaysSilver.kickLength,nflPFFScoutingDataSilver.operationTime, \n",
    "  nflPFFScoutingDataSilver.is_kickDirection_correct_flag,\n",
    "  nflPFFScoutingDataSilver.is_ReturnDirection_correct_flag,\n",
    "  nflPFFScoutingDataSilver.hangTime\n",
    ")\n",
    "\n",
    "display(PlaysPFFScoutingDataframe)"
   ]
  },
  {
   "cell_type": "markdown",
   "metadata": {
    "application/vnd.databricks.v1+cell": {
     "cellMetadata": {},
     "inputWidgets": {},
     "nuid": "aa1ab516-1244-4188-bb10-aec6fab78d84",
     "showTitle": false,
     "tableResultSettingsMap": {},
     "title": ""
    }
   },
   "source": [
    "**Aggregations and transformations**"
   ]
  },
  {
   "cell_type": "code",
   "execution_count": 0,
   "metadata": {
    "application/vnd.databricks.v1+cell": {
     "cellMetadata": {
      "byteLimit": 2048000,
      "rowLimit": 10000
     },
     "inputWidgets": {},
     "nuid": "acb81a7f-a49f-4cc3-9b99-95461c2939d6",
     "showTitle": false,
     "tableResultSettingsMap": {},
     "title": ""
    }
   },
   "outputs": [],
   "source": [
    "gold_df_SpecialTeamPlays_by_games_and_teams = PlaysPFFScoutingDataframe.groupBy(\n",
    "    \"gameId\", \"possessionTeam\"\n",
    ").agg(\n",
    "    countDistinct(\"playId\").alias(\"Total_Special_Team_Plays\"),                         # Total Special Team Plays\n",
    "    sum(\"kickReturnYardage\").alias(\"total_yards_returned_from_kick\"),                  # Total yards returned from kick\n",
    "    sum(\"operationTime\").alias(\"Total_Operation_Time\"),                                # Total operation time\n",
    "    sum(\"hangTime\").alias(\"Total_Hang_Time\"),                                          # Total hang time\n",
    "    sum(\"is_kickDirection_correct_flag\").alias(\"total_succesfull_kick_direction\"),     # Count of succesfull kick direction\n",
    "    sum(\"is_ReturnDirection_correct_flag\").alias(\"total_succesfull_return_direction\"), # Count of succesfull return direction\n",
    "    sum(\"kickLength\").alias(\"total_kick_length\"),                                      # Total kick length\n",
    "    sum(\"is_SuccessfulPlay_flag\").alias(\"total_successful_plays\")                      # Total successful plays\n",
    ").orderBy(\n",
    "    PlaysPFFScoutingDataframe.gameId, PlaysPFFScoutingDataframe.possessionTeam\n",
    ")\n",
    "display(gold_df_SpecialTeamPlays_by_games_and_teams)\n"
   ]
  },
  {
   "cell_type": "markdown",
   "metadata": {
    "application/vnd.databricks.v1+cell": {
     "cellMetadata": {},
     "inputWidgets": {},
     "nuid": "b15bbf81-c86f-4322-abf5-a6f7b5fb774e",
     "showTitle": false,
     "tableResultSettingsMap": {},
     "title": ""
    }
   },
   "source": [
    "### Save the data in the **Golden** Layer"
   ]
  },
  {
   "cell_type": "code",
   "execution_count": 0,
   "metadata": {
    "application/vnd.databricks.v1+cell": {
     "cellMetadata": {
      "byteLimit": 2048000,
      "rowLimit": 10000
     },
     "inputWidgets": {},
     "nuid": "1b92cca1-d1e2-4c80-9241-c8c994cd9dd2",
     "showTitle": false,
     "tableResultSettingsMap": {},
     "title": ""
    }
   },
   "outputs": [
    {
     "output_type": "execute_result",
     "data": {
      "text/plain": [
       "False"
      ]
     },
     "execution_count": 121,
     "metadata": {},
     "output_type": "execute_result"
    }
   ],
   "source": [
    "#Delete any residual data from prior executions for an idempotent run\n",
    "dbutils.fs.rm(f\"{destDataDirRoot}/specialteamplays_by_games_and_teams\",recurse=True)"
   ]
  },
  {
   "cell_type": "code",
   "execution_count": 0,
   "metadata": {
    "application/vnd.databricks.v1+cell": {
     "cellMetadata": {
      "byteLimit": 2048000,
      "rowLimit": 10000
     },
     "inputWidgets": {},
     "nuid": "0739a6c8-718b-4731-a816-693855ebf7cb",
     "showTitle": false,
     "tableResultSettingsMap": {},
     "title": ""
    }
   },
   "outputs": [],
   "source": [
    "#To make Hive Parquet format compatible with Spark Parquet format\n",
    "sqlContext.setConf(\"spark.sql.parquet.writeLegacyFormat\", \"true\")\n",
    "\n",
    "#Save the dataset\n",
    "gold_df_TeamsData_by_season.write.format(\"delta\").mode(\"overwrite\").partitionBy(\"season\").save(f\"{destDataDirRoot}/specialteamplays_by_games_and_teams\")"
   ]
  }
 ],
 "metadata": {
  "application/vnd.databricks.v1+notebook": {
   "computePreferences": null,
   "dashboards": [],
   "environmentMetadata": null,
   "language": "python",
   "notebookMetadata": {
    "mostRecentlyExecutedCommandWithImplicitDF": {
     "commandId": 4415626438822318,
     "dataframes": [
      "_sqldf"
     ]
    },
    "pythonIndentUnit": 4
   },
   "notebookName": "01-ExploreData-Nfl",
   "widgets": {}
  },
  "language_info": {
   "name": "python"
  }
 },
 "nbformat": 4,
 "nbformat_minor": 0
}