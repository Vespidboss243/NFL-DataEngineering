{
 "cells": [
  {
   "cell_type": "markdown",
   "metadata": {
    "application/vnd.databricks.v1+cell": {
     "cellMetadata": {},
     "inputWidgets": {},
     "nuid": "2d4c0b40-d32b-4adc-aba0-071add8ed13d",
     "showTitle": false,
     "tableResultSettingsMap": {},
     "title": ""
    }
   },
   "source": [
    "### **Import Libraries**"
   ]
  },
  {
   "cell_type": "code",
   "execution_count": 0,
   "metadata": {
    "application/vnd.databricks.v1+cell": {
     "cellMetadata": {
      "byteLimit": 2048000,
      "rowLimit": 10000
     },
     "inputWidgets": {},
     "nuid": "c34c39c8-4b8a-4554-8226-bedef9eb24b8",
     "showTitle": false,
     "tableResultSettingsMap": {},
     "title": ""
    }
   },
   "outputs": [],
   "source": [
    "from pyspark.sql.types import StructType, StructField, StringType, IntegerType,LongType,FloatType,DoubleType, TimestampType, DateType\n",
    "from pyspark.sql.functions import *"
   ]
  },
  {
   "cell_type": "markdown",
   "metadata": {
    "application/vnd.databricks.v1+cell": {
     "cellMetadata": {},
     "inputWidgets": {},
     "nuid": "045287bf-98a8-4351-8b85-f60fae72c545",
     "showTitle": false,
     "tableResultSettingsMap": {},
     "title": ""
    }
   },
   "source": [
    "### Execute notebook with common/reusable functions "
   ]
  },
  {
   "cell_type": "code",
   "execution_count": 0,
   "metadata": {
    "application/vnd.databricks.v1+cell": {
     "cellMetadata": {
      "byteLimit": 2048000,
      "rowLimit": 10000
     },
     "inputWidgets": {},
     "nuid": "0f2f7c2e-f2a6-41a4-a8a6-f40d0d639d41",
     "showTitle": false,
     "tableResultSettingsMap": {},
     "title": ""
    }
   },
   "outputs": [],
   "source": [
    "%run \"../01-General/02-CommonFunctions\""
   ]
  },
  {
   "cell_type": "markdown",
   "metadata": {
    "application/vnd.databricks.v1+cell": {
     "cellMetadata": {},
     "inputWidgets": {},
     "nuid": "c1b8a8eb-3971-45d4-9ccf-caba3ec776a9",
     "showTitle": false,
     "tableResultSettingsMap": {},
     "title": ""
    }
   },
   "source": [
    "### Connect to the storage"
   ]
  },
  {
   "cell_type": "code",
   "execution_count": 0,
   "metadata": {
    "application/vnd.databricks.v1+cell": {
     "cellMetadata": {
      "byteLimit": 2048000,
      "rowLimit": 10000
     },
     "inputWidgets": {},
     "nuid": "0c6290fb-ed9b-4e9b-8ae2-573867d1a15d",
     "showTitle": false,
     "tableResultSettingsMap": {},
     "title": ""
    }
   },
   "outputs": [
    {
     "output_type": "stream",
     "name": "stdout",
     "output_type": "stream",
     "text": [
      "Remote blob path: wasbs://nfl@bgupb202402juanbarriento.blob.core.windows.net/\n"
     ]
    }
   ],
   "source": [
    "wasbs_path = connect()"
   ]
  },
  {
   "cell_type": "code",
   "execution_count": 0,
   "metadata": {
    "application/vnd.databricks.v1+cell": {
     "cellMetadata": {
      "byteLimit": 2048000,
      "rowLimit": 10000
     },
     "inputWidgets": {},
     "nuid": "a0258992-5d7b-4aba-ae00-32f2caf1836c",
     "showTitle": false,
     "tableResultSettingsMap": {},
     "title": ""
    }
   },
   "outputs": [
    {
     "output_type": "display_data",
     "data": {
      "text/html": [
       "<style scoped>\n",
       "  .table-result-container {\n",
       "    max-height: 300px;\n",
       "    overflow: auto;\n",
       "  }\n",
       "  table, th, td {\n",
       "    border: 1px solid black;\n",
       "    border-collapse: collapse;\n",
       "  }\n",
       "  th, td {\n",
       "    padding: 5px;\n",
       "  }\n",
       "  th {\n",
       "    text-align: left;\n",
       "  }\n",
       "</style><div class='table-result-container'><table class='table-result'><thead style='background-color: white'><tr><th>path</th><th>name</th><th>size</th><th>modificationTime</th></tr></thead><tbody><tr><td>wasbs://nfl@bgupb202402juanbarriento.blob.core.windows.net/raw/nfl-2022/PFFScoutingData.csv</td><td>PFFScoutingData.csv</td><td>2056451</td><td>1728705562000</td></tr><tr><td>wasbs://nfl@bgupb202402juanbarriento.blob.core.windows.net/raw/nfl-2022/games.csv</td><td>games.csv</td><td>40596</td><td>1728705558000</td></tr><tr><td>wasbs://nfl@bgupb202402juanbarriento.blob.core.windows.net/raw/nfl-2022/players.csv</td><td>players.csv</td><td>175869</td><td>1728705559000</td></tr><tr><td>wasbs://nfl@bgupb202402juanbarriento.blob.core.windows.net/raw/nfl-2022/plays.csv</td><td>plays.csv</td><td>4040236</td><td>1728705564000</td></tr><tr><td>wasbs://nfl@bgupb202402juanbarriento.blob.core.windows.net/raw/nfl-2022/tracking2018.csv</td><td>tracking2018.csv</td><td>1736922582</td><td>1728706731000</td></tr><tr><td>wasbs://nfl@bgupb202402juanbarriento.blob.core.windows.net/raw/nfl-2022/tracking2019.csv</td><td>tracking2019.csv</td><td>1653130011</td><td>1728706711000</td></tr><tr><td>wasbs://nfl@bgupb202402juanbarriento.blob.core.windows.net/raw/nfl-2022/tracking2020.csv</td><td>tracking2020.csv</td><td>1607558364</td><td>1728706700000</td></tr></tbody></table></div>"
      ]
     },
     "metadata": {
      "application/vnd.databricks.v1+output": {
       "addedWidgets": {},
       "aggData": [],
       "aggError": "",
       "aggOverflow": false,
       "aggSchema": [],
       "aggSeriesLimitReached": false,
       "aggType": "",
       "arguments": {},
       "columnCustomDisplayInfos": {},
       "data": [
        [
         "wasbs://nfl@bgupb202402juanbarriento.blob.core.windows.net/raw/nfl-2022/PFFScoutingData.csv",
         "PFFScoutingData.csv",
         2056451,
         1728705562000
        ],
        [
         "wasbs://nfl@bgupb202402juanbarriento.blob.core.windows.net/raw/nfl-2022/games.csv",
         "games.csv",
         40596,
         1728705558000
        ],
        [
         "wasbs://nfl@bgupb202402juanbarriento.blob.core.windows.net/raw/nfl-2022/players.csv",
         "players.csv",
         175869,
         1728705559000
        ],
        [
         "wasbs://nfl@bgupb202402juanbarriento.blob.core.windows.net/raw/nfl-2022/plays.csv",
         "plays.csv",
         4040236,
         1728705564000
        ],
        [
         "wasbs://nfl@bgupb202402juanbarriento.blob.core.windows.net/raw/nfl-2022/tracking2018.csv",
         "tracking2018.csv",
         1736922582,
         1728706731000
        ],
        [
         "wasbs://nfl@bgupb202402juanbarriento.blob.core.windows.net/raw/nfl-2022/tracking2019.csv",
         "tracking2019.csv",
         1653130011,
         1728706711000
        ],
        [
         "wasbs://nfl@bgupb202402juanbarriento.blob.core.windows.net/raw/nfl-2022/tracking2020.csv",
         "tracking2020.csv",
         1607558364,
         1728706700000
        ]
       ],
       "datasetInfos": [],
       "dbfsResultPath": null,
       "isJsonSchema": true,
       "metadata": {},
       "overflow": false,
       "plotOptions": {
        "customPlotOptions": {},
        "displayType": "table",
        "pivotAggregation": null,
        "pivotColumns": null,
        "xColumns": null,
        "yColumns": null
       },
       "removedWidgets": [],
       "schema": [
        {
         "metadata": "{}",
         "name": "path",
         "type": "\"string\""
        },
        {
         "metadata": "{}",
         "name": "name",
         "type": "\"string\""
        },
        {
         "metadata": "{}",
         "name": "size",
         "type": "\"long\""
        },
        {
         "metadata": "{}",
         "name": "modificationTime",
         "type": "\"long\""
        }
       ],
       "type": "table"
      }
     },
     "output_type": "display_data"
    }
   ],
   "source": [
    "# Check the connection\n",
    "display(\n",
    "    dbutils.fs.ls(\n",
    "        f\"{wasbs_path}/raw/nfl-2022/\"\n",
    "    )\n",
    ")"
   ]
  },
  {
   "cell_type": "markdown",
   "metadata": {
    "application/vnd.databricks.v1+cell": {
     "cellMetadata": {},
     "inputWidgets": {},
     "nuid": "eef8c3c5-7c2d-436f-914a-73797d6cd9f4",
     "showTitle": false,
     "tableResultSettingsMap": {},
     "title": ""
    }
   },
   "source": [
    "### Create Paths"
   ]
  },
  {
   "cell_type": "code",
   "execution_count": 0,
   "metadata": {
    "application/vnd.databricks.v1+cell": {
     "cellMetadata": {
      "byteLimit": 2048000,
      "rowLimit": 10000
     },
     "inputWidgets": {},
     "nuid": "e2b64b1e-1709-4a12-a19d-c4424a1e6ca3",
     "showTitle": false,
     "tableResultSettingsMap": {},
     "title": ""
    }
   },
   "outputs": [
    {
     "output_type": "stream",
     "name": "stdout",
     "output_type": "stream",
     "text": [
      "Source data dir: wasbs://nfl@bgupb202402juanbarriento.blob.core.windows.net/raw/nfl-2022/\nDestination data dir: wasbs://nfl@bgupb202402juanbarriento.blob.core.windows.net/bronze/nfl-2022/plays/\n"
     ]
    }
   ],
   "source": [
    "# Define source and destination directories\n",
    "srcDataDirRoot,destDataDirRoot = route(wasbs_path,\"plays\",\"raw\",\"bronze\")\n",
    "print(f\"Source data dir: {srcDataDirRoot}\")\n",
    "print(f\"Destination data dir: {destDataDirRoot}\")"
   ]
  },
  {
   "cell_type": "markdown",
   "metadata": {
    "application/vnd.databricks.v1+cell": {
     "cellMetadata": {},
     "inputWidgets": {},
     "nuid": "58e5f06e-de29-43c4-8e94-8723d839e81f",
     "showTitle": false,
     "tableResultSettingsMap": {},
     "title": ""
    }
   },
   "source": [
    "### Create Schema for Games files"
   ]
  },
  {
   "cell_type": "markdown",
   "metadata": {
    "application/vnd.databricks.v1+cell": {
     "cellMetadata": {},
     "inputWidgets": {},
     "nuid": "6c07348c-63d7-47f2-9eca-a702c1fe1d64",
     "showTitle": false,
     "tableResultSettingsMap": {},
     "title": ""
    }
   },
   "source": [
    "## Plays Dataset\n",
    "\n",
    "This dataset provides detailed information about NFL plays, including identifiers, descriptions, and various statistics related to the plays of the games.\n",
    "\n",
    "| Column Name              | Description                                                                                               |\n",
    "|--------------------------|-----------------------------------------------------------------------------------------------------------|\n",
    "| `gameId`                 | Unique identifier for each game (numeric).                                                                |\n",
    "| `playId`                 | Unique identifier for each play, not unique across games (numeric).                                        |\n",
    "| `playDescription`        | A textual description of the play (text).                                                                 |\n",
    "| `quarter`                | The quarter in which the play took place (numeric).                                                       |\n",
    "| `down`                   | The down (1st, 2nd, 3rd, or 4th) when the play was executed (numeric).                                    |\n",
    "| `yardsToGo`              | The number of yards needed for a first down (numeric).                                                    |\n",
    "| `possessionTeam`         | The team in possession of the ball during the play (text).                                                |\n",
    "| `specialTeamsPlayType`    | The type of special teams formation: Extra Point, Field Goal, Kickoff, Punt (text).                      |\n",
    "| `specialTeamsResult`     | The result of the special teams play (Blocked Punt, Return, Touchback, etc.) (text).                      |\n",
    "| `kickerId`               | NFL ID of the placekicker, punter, or kickoff specialist on the play (numeric).                           |\n",
    "| `returnerId`             | NFL ID(s) of returner(s) if there was a special teams return, separated by `;` (text).                    |\n",
    "| `kickBlockerId`          | NFL ID of the player who blocked a field goal or punt (numeric).                                          |\n",
    "| `yardlineSide`           | 3-letter team code representing the line-of-scrimmage (text).                                             |\n",
    "| `yardlineNumber`         | Yard line at the line-of-scrimmage (numeric).                                                             |\n",
    "| `gameClock`              | Time on the clock during the play in `MM:SS` format (time).                                               |\n",
    "| `penaltyCodes`           | Codes indicating the penalties that occurred during the play, separated by `;` (text).                    |\n",
    "| `penaltyJerseyNumber`    | Jersey number of the player committing the penalty, with team code (text).                                |\n",
    "| `penaltyYards`           | The number of yards gained by the possession team due to the penalty (numeric).                           |\n",
    "| `preSnapHomeScore`       | Home team score before the play occurred (numeric).                                                       |\n",
    "| `preSnapVisitorScore`    | Visiting team score before the play occurred (numeric).                                                   |\n",
    "| `passResult`             | Outcome of the scrimmage play, if applicable: Complete, Incomplete, Sack, Interception, etc. (text).       |\n",
    "| `kickLength`             | Length of the kick in air during a kickoff, field goal, or punt (numeric).                                |\n",
    "| `kickReturnYardage`      | Yards gained by the return team if there was a return on a kickoff or punt (numeric).                     |\n",
    "| `playResult`             | Net yards gained by the kicking team, including penalty yardage (numeric).                                |\n",
    "| `absoluteYardlineNumber` | Location of the ball downfield in tracking data coordinates (numeric).                                     |"
   ]
  },
  {
   "cell_type": "code",
   "execution_count": 0,
   "metadata": {
    "application/vnd.databricks.v1+cell": {
     "cellMetadata": {
      "byteLimit": 2048000,
      "rowLimit": 10000
     },
     "inputWidgets": {},
     "nuid": "f7510027-076c-4e1b-9bd4-5d6476cf19ec",
     "showTitle": false,
     "tableResultSettingsMap": {},
     "title": ""
    }
   },
   "outputs": [],
   "source": [
    "#Canonical ordered column list \n",
    "canonicalTripSchemaColList = [\"gameId\",\"playId\",\"playDescription\",\"quarter\",\"down\",\"yardsToGo\",\"possessionTeam\",\"specialTeamsPlayType\",\"specialTeamsResult\",\"kickerId\",\"returnerId\",\"kickBlockerId\",\"yardlineSide\",\"yardlineNumber\",\"gameClock\",\"penaltyCodes\",\"penaltyJerseyNumbers\",\"penaltyYards\",\"preSnapHomeScore\",\"preSnapVisitorScore\",\"passResult\",\"kickLength\",\"kickReturnYardage\",\"playResult\",\"absoluteYardlineNumber\"]"
   ]
  },
  {
   "cell_type": "code",
   "execution_count": 0,
   "metadata": {
    "application/vnd.databricks.v1+cell": {
     "cellMetadata": {
      "byteLimit": 2048000,
      "rowLimit": 10000
     },
     "inputWidgets": {},
     "nuid": "adde6c47-2481-4831-b79a-ad47c584f919",
     "showTitle": false,
     "tableResultSettingsMap": {},
     "title": ""
    }
   },
   "outputs": [],
   "source": [
    "#Schema for plays files\n",
    "nflPlaysschema = StructType([\n",
    "    StructField('gameId', IntegerType(), True),\n",
    "    StructField('playId', IntegerType(), True), \n",
    "    StructField('playDescription', StringType(), True), \n",
    "    StructField('quarter', IntegerType(), True), \n",
    "    StructField('down', IntegerType(), True), \n",
    "    StructField('yardsToGo', IntegerType(), True), \n",
    "    StructField('possessionTeam', StringType(), True), \n",
    "    StructField('specialTeamsPlayType', StringType(), True), \n",
    "    StructField('specialTeamsResult', StringType(), True), \n",
    "    StructField('kickerId', IntegerType(), True), \n",
    "    StructField('returnerId', IntegerType(), True), \n",
    "    StructField('kickBlockerId', IntegerType(), True), \n",
    "    StructField('yardlineSide', StringType(), True), \n",
    "    StructField('yardlineNumber', IntegerType(), True), \n",
    "    StructField('gameClock', StringType(), True), \n",
    "    StructField('penaltyCodes', StringType(), True), \n",
    "    StructField('penaltyJerseyNumbers', StringType(), True), \n",
    "    StructField('penaltyYards', IntegerType(), True), \n",
    "    StructField('preSnapHomeScore', IntegerType(), True), \n",
    "    StructField('preSnapVisitorScore', IntegerType(), True), \n",
    "    StructField('passResult', StringType(), True), \n",
    "    StructField('kickLength', IntegerType(), True), \n",
    "    StructField('kickReturnYardage', IntegerType(), True), \n",
    "    StructField('playResult', IntegerType(), True), \n",
    "    StructField('absoluteYardlineNumber', IntegerType(), True)])\n"
   ]
  },
  {
   "cell_type": "code",
   "execution_count": 0,
   "metadata": {
    "application/vnd.databricks.v1+cell": {
     "cellMetadata": {
      "byteLimit": 2048000,
      "rowLimit": 10000
     },
     "inputWidgets": {},
     "nuid": "889b5ede-9a8d-4c4b-ad60-54190a060af6",
     "showTitle": false,
     "tableResultSettingsMap": {},
     "title": ""
    }
   },
   "outputs": [
    {
     "output_type": "display_data",
     "data": {
      "text/plain": [
       "StructType([StructField('gameId', IntegerType(), True), StructField('playId', IntegerType(), True), StructField('playDescription', StringType(), True), StructField('quarter', IntegerType(), True), StructField('down', IntegerType(), True), StructField('yardsToGo', IntegerType(), True), StructField('possessionTeam', StringType(), True), StructField('specialTeamsPlayType', StringType(), True), StructField('specialTeamsResult', StringType(), True), StructField('kickerId', IntegerType(), True), StructField('returnerId', IntegerType(), True), StructField('kickBlockerId', IntegerType(), True), StructField('yardlineSide', StringType(), True), StructField('yardlineNumber', IntegerType(), True), StructField('gameClock', StringType(), True), StructField('penaltyCodes', StringType(), True), StructField('penaltyJerseyNumbers', StringType(), True), StructField('penaltyYards', IntegerType(), True), StructField('preSnapHomeScore', IntegerType(), True), StructField('preSnapVisitorScore', IntegerType(), True), StructField('passResult', StringType(), True), StructField('kickLength', IntegerType(), True), StructField('kickReturnYardage', IntegerType(), True), StructField('playResult', IntegerType(), True), StructField('absoluteYardlineNumber', IntegerType(), True)])"
      ]
     },
     "metadata": {},
     "output_type": "display_data"
    }
   ],
   "source": [
    "#Check Schema\n",
    "display(nflPlaysschema)"
   ]
  },
  {
   "cell_type": "markdown",
   "metadata": {
    "application/vnd.databricks.v1+cell": {
     "cellMetadata": {},
     "inputWidgets": {},
     "nuid": "5ad9862b-8156-496a-8d78-822597d24361",
     "showTitle": false,
     "tableResultSettingsMap": {},
     "title": ""
    }
   },
   "source": [
    "### Storage in Bronze layer"
   ]
  },
  {
   "cell_type": "code",
   "execution_count": 0,
   "metadata": {
    "application/vnd.databricks.v1+cell": {
     "cellMetadata": {
      "byteLimit": 2048000,
      "rowLimit": 10000
     },
     "inputWidgets": {},
     "nuid": "97a5f9e7-6109-439e-9ed1-9a5318f4cabb",
     "showTitle": false,
     "tableResultSettingsMap": {},
     "title": ""
    }
   },
   "outputs": [
    {
     "output_type": "execute_result",
     "data": {
      "text/plain": [
       "False"
      ]
     },
     "execution_count": 12,
     "metadata": {},
     "output_type": "execute_result"
    }
   ],
   "source": [
    "#Delete any residual data from prior executions for an idempotent run\n",
    "dbutils.fs.rm(destDataDirRoot,recurse=True)"
   ]
  },
  {
   "cell_type": "code",
   "execution_count": 0,
   "metadata": {
    "application/vnd.databricks.v1+cell": {
     "cellMetadata": {
      "byteLimit": 2048000,
      "rowLimit": 10000
     },
     "inputWidgets": {},
     "nuid": "8a1c9eaf-d5e2-45a5-8cc7-49fd764087a2",
     "showTitle": false,
     "tableResultSettingsMap": {},
     "title": ""
    }
   },
   "outputs": [],
   "source": [
    "\n",
    "#Read de csv from the raw data source using the schema and the path defined above \n",
    "nflPlaysDf = (spark.read.format(\"csv\")\n",
    "                .option(\"header\", True)\n",
    "                .schema(nflPlaysschema)\n",
    "                .option(\"delimiter\",\",\")\n",
    "                .load(f\"{srcDataDirRoot}/plays.csv\").cache())\n",
    "\n",
    "# Change the \"NA\" Values for Null\n",
    "nflPlaysDf = nflPlaysDf.na.replace(\"NA\", None)\n",
    "\n",
    "#Order all columns to align with the canonical schema \n",
    "nflPlaysDfCanocical = nflPlaysDf.select(*canonicalTripSchemaColList)\n",
    "\n",
    "display(nflPlaysDfCanocical)\n",
    "\n",
    "#To make Hive Parquet format compatible with Spark Parquet format\n",
    "sqlContext.setConf(\"spark.sql.parquet.writeLegacyFormat\", \"true\")\n",
    "\n",
    "# Save the files in the bronze directory\n",
    "nflPlaysDfCanocical.write.format(\"delta\").mode(\"append\").save(destDataDirRoot) "
   ]
  }
 ],
 "metadata": {
  "application/vnd.databricks.v1+notebook": {
   "computePreferences": null,
   "dashboards": [],
   "environmentMetadata": null,
   "language": "python",
   "notebookMetadata": {
    "mostRecentlyExecutedCommandWithImplicitDF": {
     "commandId": 4042335137613493,
     "dataframes": [
      "_sqldf"
     ]
    },
    "pythonIndentUnit": 4
   },
   "notebookName": "02-LoadData-Plays",
   "widgets": {}
  },
  "language_info": {
   "name": "python"
  }
 },
 "nbformat": 4,
 "nbformat_minor": 0
}