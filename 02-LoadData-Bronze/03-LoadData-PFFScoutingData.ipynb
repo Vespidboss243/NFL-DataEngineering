{
 "cells": [
  {
   "cell_type": "markdown",
   "metadata": {
    "application/vnd.databricks.v1+cell": {
     "cellMetadata": {},
     "inputWidgets": {},
     "nuid": "3b26d279-1752-469b-bbbb-9e0e95e44a63",
     "showTitle": false,
     "tableResultSettingsMap": {},
     "title": ""
    }
   },
   "source": [
    "### **Import Libraries**\n"
   ]
  },
  {
   "cell_type": "code",
   "execution_count": 0,
   "metadata": {
    "application/vnd.databricks.v1+cell": {
     "cellMetadata": {
      "byteLimit": 2048000,
      "rowLimit": 10000
     },
     "inputWidgets": {},
     "nuid": "c34c39c8-4b8a-4554-8226-bedef9eb24b8",
     "showTitle": false,
     "tableResultSettingsMap": {},
     "title": ""
    }
   },
   "outputs": [],
   "source": [
    "from pyspark.sql.types import StructType, StructField, StringType, IntegerType,LongType,FloatType,DoubleType, TimestampType, DateType\n",
    "from pyspark.sql.functions import *"
   ]
  },
  {
   "cell_type": "markdown",
   "metadata": {
    "application/vnd.databricks.v1+cell": {
     "cellMetadata": {},
     "inputWidgets": {},
     "nuid": "35315646-fa4d-4571-94e1-7d0aea9e0fca",
     "showTitle": false,
     "tableResultSettingsMap": {},
     "title": ""
    }
   },
   "source": [
    "### Execute notebook with common/reusable functions "
   ]
  },
  {
   "cell_type": "code",
   "execution_count": 0,
   "metadata": {
    "application/vnd.databricks.v1+cell": {
     "cellMetadata": {
      "byteLimit": 2048000,
      "rowLimit": 10000
     },
     "inputWidgets": {},
     "nuid": "0f2f7c2e-f2a6-41a4-a8a6-f40d0d639d41",
     "showTitle": false,
     "tableResultSettingsMap": {},
     "title": ""
    }
   },
   "outputs": [],
   "source": [
    "%run \"../01-General/02-CommonFunctions\""
   ]
  },
  {
   "cell_type": "markdown",
   "metadata": {
    "application/vnd.databricks.v1+cell": {
     "cellMetadata": {},
     "inputWidgets": {},
     "nuid": "516c6a6d-0a6a-497d-9933-52c49c6f707b",
     "showTitle": false,
     "tableResultSettingsMap": {},
     "title": ""
    }
   },
   "source": [
    "### Connect to the storage"
   ]
  },
  {
   "cell_type": "code",
   "execution_count": 0,
   "metadata": {
    "application/vnd.databricks.v1+cell": {
     "cellMetadata": {
      "byteLimit": 2048000,
      "rowLimit": 10000
     },
     "inputWidgets": {},
     "nuid": "0c6290fb-ed9b-4e9b-8ae2-573867d1a15d",
     "showTitle": false,
     "tableResultSettingsMap": {},
     "title": ""
    }
   },
   "outputs": [
    {
     "output_type": "stream",
     "name": "stdout",
     "output_type": "stream",
     "text": [
      "Remote blob path: wasbs://nfl@bgupb202402juanbarriento.blob.core.windows.net/\n"
     ]
    }
   ],
   "source": [
    "wasbs_path = connect()"
   ]
  },
  {
   "cell_type": "code",
   "execution_count": 0,
   "metadata": {
    "application/vnd.databricks.v1+cell": {
     "cellMetadata": {
      "byteLimit": 2048000,
      "rowLimit": 10000
     },
     "inputWidgets": {},
     "nuid": "a0258992-5d7b-4aba-ae00-32f2caf1836c",
     "showTitle": false,
     "tableResultSettingsMap": {},
     "title": ""
    }
   },
   "outputs": [
    {
     "output_type": "display_data",
     "data": {
      "text/html": [
       "<style scoped>\n",
       "  .table-result-container {\n",
       "    max-height: 300px;\n",
       "    overflow: auto;\n",
       "  }\n",
       "  table, th, td {\n",
       "    border: 1px solid black;\n",
       "    border-collapse: collapse;\n",
       "  }\n",
       "  th, td {\n",
       "    padding: 5px;\n",
       "  }\n",
       "  th {\n",
       "    text-align: left;\n",
       "  }\n",
       "</style><div class='table-result-container'><table class='table-result'><thead style='background-color: white'><tr><th>path</th><th>name</th><th>size</th><th>modificationTime</th></tr></thead><tbody><tr><td>wasbs://nfl@bgupb202402juanbarriento.blob.core.windows.net/raw/nfl-2022/PFFScoutingData.csv</td><td>PFFScoutingData.csv</td><td>2056451</td><td>1728705562000</td></tr><tr><td>wasbs://nfl@bgupb202402juanbarriento.blob.core.windows.net/raw/nfl-2022/games.csv</td><td>games.csv</td><td>40596</td><td>1728705558000</td></tr><tr><td>wasbs://nfl@bgupb202402juanbarriento.blob.core.windows.net/raw/nfl-2022/players.csv</td><td>players.csv</td><td>175869</td><td>1728705559000</td></tr><tr><td>wasbs://nfl@bgupb202402juanbarriento.blob.core.windows.net/raw/nfl-2022/plays.csv</td><td>plays.csv</td><td>4040236</td><td>1728705564000</td></tr><tr><td>wasbs://nfl@bgupb202402juanbarriento.blob.core.windows.net/raw/nfl-2022/tracking2018.csv</td><td>tracking2018.csv</td><td>1736922582</td><td>1728706731000</td></tr><tr><td>wasbs://nfl@bgupb202402juanbarriento.blob.core.windows.net/raw/nfl-2022/tracking2019.csv</td><td>tracking2019.csv</td><td>1653130011</td><td>1728706711000</td></tr><tr><td>wasbs://nfl@bgupb202402juanbarriento.blob.core.windows.net/raw/nfl-2022/tracking2020.csv</td><td>tracking2020.csv</td><td>1607558364</td><td>1728706700000</td></tr></tbody></table></div>"
      ]
     },
     "metadata": {
      "application/vnd.databricks.v1+output": {
       "addedWidgets": {},
       "aggData": [],
       "aggError": "",
       "aggOverflow": false,
       "aggSchema": [],
       "aggSeriesLimitReached": false,
       "aggType": "",
       "arguments": {},
       "columnCustomDisplayInfos": {},
       "data": [
        [
         "wasbs://nfl@bgupb202402juanbarriento.blob.core.windows.net/raw/nfl-2022/PFFScoutingData.csv",
         "PFFScoutingData.csv",
         2056451,
         1728705562000
        ],
        [
         "wasbs://nfl@bgupb202402juanbarriento.blob.core.windows.net/raw/nfl-2022/games.csv",
         "games.csv",
         40596,
         1728705558000
        ],
        [
         "wasbs://nfl@bgupb202402juanbarriento.blob.core.windows.net/raw/nfl-2022/players.csv",
         "players.csv",
         175869,
         1728705559000
        ],
        [
         "wasbs://nfl@bgupb202402juanbarriento.blob.core.windows.net/raw/nfl-2022/plays.csv",
         "plays.csv",
         4040236,
         1728705564000
        ],
        [
         "wasbs://nfl@bgupb202402juanbarriento.blob.core.windows.net/raw/nfl-2022/tracking2018.csv",
         "tracking2018.csv",
         1736922582,
         1728706731000
        ],
        [
         "wasbs://nfl@bgupb202402juanbarriento.blob.core.windows.net/raw/nfl-2022/tracking2019.csv",
         "tracking2019.csv",
         1653130011,
         1728706711000
        ],
        [
         "wasbs://nfl@bgupb202402juanbarriento.blob.core.windows.net/raw/nfl-2022/tracking2020.csv",
         "tracking2020.csv",
         1607558364,
         1728706700000
        ]
       ],
       "datasetInfos": [],
       "dbfsResultPath": null,
       "isJsonSchema": true,
       "metadata": {},
       "overflow": false,
       "plotOptions": {
        "customPlotOptions": {},
        "displayType": "table",
        "pivotAggregation": null,
        "pivotColumns": null,
        "xColumns": null,
        "yColumns": null
       },
       "removedWidgets": [],
       "schema": [
        {
         "metadata": "{}",
         "name": "path",
         "type": "\"string\""
        },
        {
         "metadata": "{}",
         "name": "name",
         "type": "\"string\""
        },
        {
         "metadata": "{}",
         "name": "size",
         "type": "\"long\""
        },
        {
         "metadata": "{}",
         "name": "modificationTime",
         "type": "\"long\""
        }
       ],
       "type": "table"
      }
     },
     "output_type": "display_data"
    }
   ],
   "source": [
    "# Check the connection\n",
    "display(\n",
    "    dbutils.fs.ls(\n",
    "        f\"{wasbs_path}/raw/nfl-2022/\"\n",
    "    )\n",
    ")"
   ]
  },
  {
   "cell_type": "markdown",
   "metadata": {
    "application/vnd.databricks.v1+cell": {
     "cellMetadata": {},
     "inputWidgets": {},
     "nuid": "37b57439-a70f-4c75-a70d-138a66858268",
     "showTitle": false,
     "tableResultSettingsMap": {},
     "title": ""
    }
   },
   "source": [
    "### Create Paths"
   ]
  },
  {
   "cell_type": "code",
   "execution_count": 0,
   "metadata": {
    "application/vnd.databricks.v1+cell": {
     "cellMetadata": {
      "byteLimit": 2048000,
      "rowLimit": 10000
     },
     "inputWidgets": {},
     "nuid": "4aa03f32-eb91-427f-aaa4-138fd15e269b",
     "showTitle": false,
     "tableResultSettingsMap": {},
     "title": ""
    }
   },
   "outputs": [
    {
     "output_type": "stream",
     "name": "stdout",
     "output_type": "stream",
     "text": [
      "Source data dir: wasbs://nfl@bgupb202402juanbarriento.blob.core.windows.net/raw/nfl-2022/\nDestination data dir: wasbs://nfl@bgupb202402juanbarriento.blob.core.windows.net/bronze/nfl-2022/PFFScoutingData/\n"
     ]
    }
   ],
   "source": [
    "# Define source and destination directories\n",
    "srcDataDirRoot,destDataDirRoot = route(wasbs_path,\"PFFScoutingData\",\"raw\",\"bronze\")\n",
    "print(f\"Source data dir: {srcDataDirRoot}\")\n",
    "print(f\"Destination data dir: {destDataDirRoot}\")"
   ]
  },
  {
   "cell_type": "markdown",
   "metadata": {
    "application/vnd.databricks.v1+cell": {
     "cellMetadata": {},
     "inputWidgets": {},
     "nuid": "c89050fa-6a7a-4d6f-a97f-e81aeaef704e",
     "showTitle": false,
     "tableResultSettingsMap": {},
     "title": ""
    }
   },
   "source": [
    "### Create Schema for Games files"
   ]
  },
  {
   "cell_type": "markdown",
   "metadata": {
    "application/vnd.databricks.v1+cell": {
     "cellMetadata": {},
     "inputWidgets": {},
     "nuid": "e7dc9038-48d9-4738-ab7d-d1ca5942a93e",
     "showTitle": false,
     "tableResultSettingsMap": {},
     "title": ""
    }
   },
   "source": [
    "## PFF Scouting Data Dataset\n",
    "\n",
    "This dataset contains detailed scouting data regarding special teams plays, including snap details, kick types, directions of kicks, and player roles.\n",
    "\n",
    "| Column Name               | Description                                                                                                                                             |\n",
    "|---------------------------|---------------------------------------------------------------------------------------------------------------------------------------------------------|\n",
    "| `gameId`                  | Unique identifier for each game (numeric).                                                                                                              |\n",
    "| `playId`                  | Unique identifier for each play, not unique across games (numeric).                                                                                      |\n",
    "| `snapDetail`              | Information about whether the snap was on target during punts, with details like High, Low, Left, Right, or OK for an accurate snap (text).               |\n",
    "| `snapTime`                | Time from the star of the event to the snap, in seconds                                                                           (numeric).            |\n",
    "| `operationTime`           | Time from snap to kick on punt plays, in seconds (numeric).                                                                                              |\n",
    "| `hangTime`                | Time the ball is in the air from the punt or kickoff, measured in seconds (numeric).                                                                     |\n",
    "| `kickType`                | Type of kick or punt, with values like Deep (D), Flat (F), Free Kick (K), Pooch Kick (P), Rugby style punt (R), etc. (text).                             |\n",
    "| `kickDirectionIntended`   | Intended direction of the kick from the kicking team's perspective (Left, Right, Center) (text).                                                         |\n",
    "| `kickDirectionActual`     | Actual direction of the kick from the kicking team's perspective (Left, Right, Center) (text).                                                           |\n",
    "| `returnDirectionIntended` | Intended return direction from the return team's perspective (Left, Right, Center) (text).                                                               |\n",
    "| `returnDirectionActual`   | Actual return direction from the return team's perspective (Left, Right, Center) (text).                                                                 |\n",
    "| `missedTacklers`          | List of players (jersey number and team code) who missed tackles, separated by `;` if multiple (text).                                                   |\n",
    "| `assistTacklers`          | List of players (jersey number and team code) who assisted in tackles, separated by `;` if multiple (text).                                              |\n",
    "| `tacklers`                | List of players (jersey number and team code) who made the tackle (text).                                                                                |\n",
    "| `kickoffReturnFormation`  | 3-digit code indicating the number of players in the Front Wall, Mid Wall, and Back Wall (text).                                                         |\n",
    "| `gunners`                 | List of players (jersey number and team code) acting as gunners on the punt unit, separated by `;` if multiple (text).                                   |\n",
    "| `puntRushers`             | List of players (jersey number and team code) on the punt return unit with the \"Punt Rush\" role (text).                                                  |\n",
    "| `specialTeamsSafeties`    | List of players (jersey number and team code) acting as safeties on special teams, separated by `;` if multiple (text).                                  |\n",
    "| `vises`                   | List of players (jersey number and team code) acting as vises on the punt return unit, separated by `;` if multiple (text).                              |\n",
    "| `kickContactType`         | Details on how a punt was fielded, with values such as Clean Catch (CC), Muffed by Returner (MBDR), Bounced Forwards (BF), and Directly Out Of Bounds (OOB) (text). |"
   ]
  },
  {
   "cell_type": "code",
   "execution_count": 0,
   "metadata": {
    "application/vnd.databricks.v1+cell": {
     "cellMetadata": {
      "byteLimit": 2048000,
      "rowLimit": 10000
     },
     "inputWidgets": {},
     "nuid": "f7510027-076c-4e1b-9bd4-5d6476cf19ec",
     "showTitle": false,
     "tableResultSettingsMap": {},
     "title": ""
    }
   },
   "outputs": [],
   "source": [
    "#Canonical ordered column list for the PFF Scouting data\n",
    "canonicalTripSchemaColList = [\"gameId\",\"playId\",\"snapDetail\",\"snapTime\",\"operationTime\",\"hangTime\",\"kickType\",\"kickDirectionIntended\",\"kickDirectionActual\",\"returnDirectionIntended\",\"returnDirectionActual\",\"missedTackler\",\"assistTackler\",\"tackler\",\"kickoffReturnFormation\",\"gunners\",\"puntRushers\",\"specialTeamsSafeties\",\"vises\",\"kickContactType\"]"
   ]
  },
  {
   "cell_type": "code",
   "execution_count": 0,
   "metadata": {
    "application/vnd.databricks.v1+cell": {
     "cellMetadata": {
      "byteLimit": 2048000,
      "rowLimit": 10000
     },
     "inputWidgets": {},
     "nuid": "adde6c47-2481-4831-b79a-ad47c584f919",
     "showTitle": false,
     "tableResultSettingsMap": {},
     "title": ""
    }
   },
   "outputs": [],
   "source": [
    "#Schema for the PFF Scouting data files\n",
    "nflPFFScoutingDataschema = StructType([\n",
    "    StructField(\"gameId\", IntegerType(), True),\n",
    "    StructField(\"playId\", IntegerType(), True),\n",
    "    StructField(\"snapDetail\", StringType(), True),\n",
    "    StructField(\"snapTime\", FloatType(), True),\n",
    "    StructField(\"operationTime\", FloatType(), True),\n",
    "    StructField(\"hangTime\", FloatType(), True),\n",
    "    StructField(\"kickType\", StringType(), True),\n",
    "    StructField(\"kickDirectionIntended\", StringType(), True),\n",
    "    StructField(\"kickDirectionActual\", StringType(), True),\n",
    "    StructField(\"returnDirectionIntended\", StringType(), True),\n",
    "    StructField(\"returnDirectionActual\", StringType(), True),\n",
    "    StructField(\"missedTackler\", StringType(), True),\n",
    "    StructField(\"assistTackler\", StringType(), True),\n",
    "    StructField(\"tackler\", StringType(), True),\n",
    "    StructField(\"kickoffReturnFormation\", StringType(), True),\n",
    "    StructField(\"gunners\", StringType(), True),\n",
    "    StructField(\"puntRushers\", StringType(), True),\n",
    "    StructField(\"specialTeamsSafeties\", StringType(), True),\n",
    "    StructField(\"vises\", StringType(), True),\n",
    "    StructField(\"kickContactType\", StringType(), True)\n",
    "])\n"
   ]
  },
  {
   "cell_type": "code",
   "execution_count": 0,
   "metadata": {
    "application/vnd.databricks.v1+cell": {
     "cellMetadata": {
      "byteLimit": 2048000,
      "rowLimit": 10000
     },
     "inputWidgets": {},
     "nuid": "889b5ede-9a8d-4c4b-ad60-54190a060af6",
     "showTitle": false,
     "tableResultSettingsMap": {},
     "title": ""
    }
   },
   "outputs": [
    {
     "output_type": "display_data",
     "data": {
      "text/plain": [
       "StructType([StructField('gameId', IntegerType(), True), StructField('playId', IntegerType(), True), StructField('snapDetail', StringType(), True), StructField('snapTime', FloatType(), True), StructField('operationTime', FloatType(), True), StructField('hangTime', FloatType(), True), StructField('kickType', StringType(), True), StructField('kickDirectionIntended', StringType(), True), StructField('kickDirectionActual', StringType(), True), StructField('returnDirectionIntended', StringType(), True), StructField('returnDirectionActual', StringType(), True), StructField('missedTackler', StringType(), True), StructField('assistTackler', StringType(), True), StructField('tackler', StringType(), True), StructField('kickoffReturnFormation', StringType(), True), StructField('gunners', StringType(), True), StructField('puntRushers', StringType(), True), StructField('specialTeamsSafeties', StringType(), True), StructField('vises', StringType(), True), StructField('kickContactType', StringType(), True)])"
      ]
     },
     "metadata": {},
     "output_type": "display_data"
    }
   ],
   "source": [
    "display(nflPFFScoutingDataschema)"
   ]
  },
  {
   "cell_type": "code",
   "execution_count": 0,
   "metadata": {
    "application/vnd.databricks.v1+cell": {
     "cellMetadata": {
      "byteLimit": 2048000,
      "rowLimit": 10000
     },
     "inputWidgets": {},
     "nuid": "97a5f9e7-6109-439e-9ed1-9a5318f4cabb",
     "showTitle": false,
     "tableResultSettingsMap": {},
     "title": ""
    }
   },
   "outputs": [
    {
     "output_type": "execute_result",
     "data": {
      "text/plain": [
       "True"
      ]
     },
     "execution_count": 10,
     "metadata": {},
     "output_type": "execute_result"
    }
   ],
   "source": [
    "#Delete any residual data from prior executions for an idempotent run\n",
    "dbutils.fs.rm(destDataDirRoot,recurse=True)"
   ]
  },
  {
   "cell_type": "markdown",
   "metadata": {
    "application/vnd.databricks.v1+cell": {
     "cellMetadata": {},
     "inputWidgets": {},
     "nuid": "289e4337-e60c-45ef-aafe-02edc28b3eb1",
     "showTitle": false,
     "tableResultSettingsMap": {},
     "title": ""
    }
   },
   "source": [
    "### Storage in Bronze layer"
   ]
  },
  {
   "cell_type": "code",
   "execution_count": 0,
   "metadata": {
    "application/vnd.databricks.v1+cell": {
     "cellMetadata": {
      "byteLimit": 2048000,
      "rowLimit": 10000
     },
     "inputWidgets": {},
     "nuid": "8a1c9eaf-d5e2-45a5-8cc7-49fd764087a2",
     "showTitle": false,
     "tableResultSettingsMap": {},
     "title": ""
    }
   },
   "outputs": [],
   "source": [
    "\n",
    "#Read de csv from the raw data source using the schema and the path defined above \n",
    "nflPFFScoutingDataDf = (spark.read.format(\"csv\")\n",
    "                .option(\"header\", True)\n",
    "                .schema(nflPFFScoutingDataschema)\n",
    "                .option(\"delimiter\",\",\")\n",
    "                .load(f\"{srcDataDirRoot}/PFFScoutingData.csv\").cache())\n",
    "\n",
    "# Change the \"NA\" Values for Null\n",
    "nflPFFScoutingDataDf = nflPFFScoutingDataDf.na.replace(\"NA\", None)\n",
    "\n",
    "#Order all columns to align with the canonical schema \n",
    "nflPFFScoutingDataDfCanocical = nflPFFScoutingDataDf.select(*canonicalTripSchemaColList)\n",
    "\n",
    "display(nflPFFScoutingDataDfCanocical)\n",
    "\n",
    "#To make Hive Parquet format compatible with Spark Parquet format\n",
    "sqlContext.setConf(\"spark.sql.parquet.writeLegacyFormat\", \"true\")\n",
    "\n",
    "# Save the files in the bronze directory\n",
    "nflPFFScoutingDataDfCanocical.write.format(\"delta\").mode(\"append\").save(destDataDirRoot) "
   ]
  }
 ],
 "metadata": {
  "application/vnd.databricks.v1+notebook": {
   "computePreferences": null,
   "dashboards": [],
   "environmentMetadata": null,
   "language": "python",
   "notebookMetadata": {
    "mostRecentlyExecutedCommandWithImplicitDF": {
     "commandId": 4042335137613493,
     "dataframes": [
      "_sqldf"
     ]
    },
    "pythonIndentUnit": 4
   },
   "notebookName": "03-LoadData-PFFScoutingData",
   "widgets": {}
  },
  "language_info": {
   "name": "python"
  }
 },
 "nbformat": 4,
 "nbformat_minor": 0
}