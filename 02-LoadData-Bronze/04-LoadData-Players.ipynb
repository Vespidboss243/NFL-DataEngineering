{
 "cells": [
  {
   "cell_type": "markdown",
   "metadata": {
    "application/vnd.databricks.v1+cell": {
     "cellMetadata": {},
     "inputWidgets": {},
     "nuid": "c84c32ad-0c32-4038-8129-5cdae9a99c08",
     "showTitle": false,
     "tableResultSettingsMap": {},
     "title": ""
    }
   },
   "source": [
    "### **Import Libraries**"
   ]
  },
  {
   "cell_type": "code",
   "execution_count": 0,
   "metadata": {
    "application/vnd.databricks.v1+cell": {
     "cellMetadata": {
      "byteLimit": 2048000,
      "rowLimit": 10000
     },
     "inputWidgets": {},
     "nuid": "c34c39c8-4b8a-4554-8226-bedef9eb24b8",
     "showTitle": false,
     "tableResultSettingsMap": {},
     "title": ""
    }
   },
   "outputs": [],
   "source": [
    "from pyspark.sql.types import StructType, StructField, StringType, IntegerType,LongType,FloatType,DoubleType, TimestampType, DateType\n",
    "from pyspark.sql.functions import *"
   ]
  },
  {
   "cell_type": "markdown",
   "metadata": {
    "application/vnd.databricks.v1+cell": {
     "cellMetadata": {},
     "inputWidgets": {},
     "nuid": "7e0aebcd-0837-4c4a-979b-b6260c0861ca",
     "showTitle": false,
     "tableResultSettingsMap": {},
     "title": ""
    }
   },
   "source": [
    "### Execute notebook with common/reusable functions "
   ]
  },
  {
   "cell_type": "code",
   "execution_count": 0,
   "metadata": {
    "application/vnd.databricks.v1+cell": {
     "cellMetadata": {
      "byteLimit": 2048000,
      "rowLimit": 10000
     },
     "inputWidgets": {},
     "nuid": "0f2f7c2e-f2a6-41a4-a8a6-f40d0d639d41",
     "showTitle": false,
     "tableResultSettingsMap": {},
     "title": ""
    }
   },
   "outputs": [],
   "source": [
    "%run \"../01-General/02-CommonFunctions\""
   ]
  },
  {
   "cell_type": "markdown",
   "metadata": {
    "application/vnd.databricks.v1+cell": {
     "cellMetadata": {},
     "inputWidgets": {},
     "nuid": "b36aba48-16e1-4b78-9e53-3d86ed372a29",
     "showTitle": false,
     "tableResultSettingsMap": {},
     "title": ""
    }
   },
   "source": [
    "### Connect to the storage"
   ]
  },
  {
   "cell_type": "code",
   "execution_count": 0,
   "metadata": {
    "application/vnd.databricks.v1+cell": {
     "cellMetadata": {
      "byteLimit": 2048000,
      "rowLimit": 10000
     },
     "inputWidgets": {},
     "nuid": "0c6290fb-ed9b-4e9b-8ae2-573867d1a15d",
     "showTitle": false,
     "tableResultSettingsMap": {},
     "title": ""
    }
   },
   "outputs": [
    {
     "output_type": "stream",
     "name": "stdout",
     "output_type": "stream",
     "text": [
      "Remote blob path: wasbs://nfl@bgupb202402juanbarriento.blob.core.windows.net/\n"
     ]
    }
   ],
   "source": [
    "wasbs_path = connect()"
   ]
  },
  {
   "cell_type": "code",
   "execution_count": 0,
   "metadata": {
    "application/vnd.databricks.v1+cell": {
     "cellMetadata": {
      "byteLimit": 2048000,
      "rowLimit": 10000
     },
     "inputWidgets": {},
     "nuid": "a0258992-5d7b-4aba-ae00-32f2caf1836c",
     "showTitle": false,
     "tableResultSettingsMap": {},
     "title": ""
    }
   },
   "outputs": [
    {
     "output_type": "display_data",
     "data": {
      "text/html": [
       "<style scoped>\n",
       "  .table-result-container {\n",
       "    max-height: 300px;\n",
       "    overflow: auto;\n",
       "  }\n",
       "  table, th, td {\n",
       "    border: 1px solid black;\n",
       "    border-collapse: collapse;\n",
       "  }\n",
       "  th, td {\n",
       "    padding: 5px;\n",
       "  }\n",
       "  th {\n",
       "    text-align: left;\n",
       "  }\n",
       "</style><div class='table-result-container'><table class='table-result'><thead style='background-color: white'><tr><th>path</th><th>name</th><th>size</th><th>modificationTime</th></tr></thead><tbody><tr><td>wasbs://nfl@bgupb202402juanbarriento.blob.core.windows.net/raw/nfl-2022/PFFScoutingData.csv</td><td>PFFScoutingData.csv</td><td>2056451</td><td>1728705562000</td></tr><tr><td>wasbs://nfl@bgupb202402juanbarriento.blob.core.windows.net/raw/nfl-2022/games.csv</td><td>games.csv</td><td>40596</td><td>1728705558000</td></tr><tr><td>wasbs://nfl@bgupb202402juanbarriento.blob.core.windows.net/raw/nfl-2022/players.csv</td><td>players.csv</td><td>175869</td><td>1728705559000</td></tr><tr><td>wasbs://nfl@bgupb202402juanbarriento.blob.core.windows.net/raw/nfl-2022/plays.csv</td><td>plays.csv</td><td>4040236</td><td>1728705564000</td></tr><tr><td>wasbs://nfl@bgupb202402juanbarriento.blob.core.windows.net/raw/nfl-2022/tracking2018.csv</td><td>tracking2018.csv</td><td>1736922582</td><td>1728706731000</td></tr><tr><td>wasbs://nfl@bgupb202402juanbarriento.blob.core.windows.net/raw/nfl-2022/tracking2019.csv</td><td>tracking2019.csv</td><td>1653130011</td><td>1728706711000</td></tr><tr><td>wasbs://nfl@bgupb202402juanbarriento.blob.core.windows.net/raw/nfl-2022/tracking2020.csv</td><td>tracking2020.csv</td><td>1607558364</td><td>1728706700000</td></tr></tbody></table></div>"
      ]
     },
     "metadata": {
      "application/vnd.databricks.v1+output": {
       "addedWidgets": {},
       "aggData": [],
       "aggError": "",
       "aggOverflow": false,
       "aggSchema": [],
       "aggSeriesLimitReached": false,
       "aggType": "",
       "arguments": {},
       "columnCustomDisplayInfos": {},
       "data": [
        [
         "wasbs://nfl@bgupb202402juanbarriento.blob.core.windows.net/raw/nfl-2022/PFFScoutingData.csv",
         "PFFScoutingData.csv",
         2056451,
         1728705562000
        ],
        [
         "wasbs://nfl@bgupb202402juanbarriento.blob.core.windows.net/raw/nfl-2022/games.csv",
         "games.csv",
         40596,
         1728705558000
        ],
        [
         "wasbs://nfl@bgupb202402juanbarriento.blob.core.windows.net/raw/nfl-2022/players.csv",
         "players.csv",
         175869,
         1728705559000
        ],
        [
         "wasbs://nfl@bgupb202402juanbarriento.blob.core.windows.net/raw/nfl-2022/plays.csv",
         "plays.csv",
         4040236,
         1728705564000
        ],
        [
         "wasbs://nfl@bgupb202402juanbarriento.blob.core.windows.net/raw/nfl-2022/tracking2018.csv",
         "tracking2018.csv",
         1736922582,
         1728706731000
        ],
        [
         "wasbs://nfl@bgupb202402juanbarriento.blob.core.windows.net/raw/nfl-2022/tracking2019.csv",
         "tracking2019.csv",
         1653130011,
         1728706711000
        ],
        [
         "wasbs://nfl@bgupb202402juanbarriento.blob.core.windows.net/raw/nfl-2022/tracking2020.csv",
         "tracking2020.csv",
         1607558364,
         1728706700000
        ]
       ],
       "datasetInfos": [],
       "dbfsResultPath": null,
       "isJsonSchema": true,
       "metadata": {},
       "overflow": false,
       "plotOptions": {
        "customPlotOptions": {},
        "displayType": "table",
        "pivotAggregation": null,
        "pivotColumns": null,
        "xColumns": null,
        "yColumns": null
       },
       "removedWidgets": [],
       "schema": [
        {
         "metadata": "{}",
         "name": "path",
         "type": "\"string\""
        },
        {
         "metadata": "{}",
         "name": "name",
         "type": "\"string\""
        },
        {
         "metadata": "{}",
         "name": "size",
         "type": "\"long\""
        },
        {
         "metadata": "{}",
         "name": "modificationTime",
         "type": "\"long\""
        }
       ],
       "type": "table"
      }
     },
     "output_type": "display_data"
    }
   ],
   "source": [
    "# Check the connection\n",
    "display(\n",
    "    dbutils.fs.ls(\n",
    "        f\"{wasbs_path}/raw/nfl-2022/\"\n",
    "    )\n",
    ")"
   ]
  },
  {
   "cell_type": "markdown",
   "metadata": {
    "application/vnd.databricks.v1+cell": {
     "cellMetadata": {},
     "inputWidgets": {},
     "nuid": "ace37318-bdd2-4616-a3be-5d849a3d3500",
     "showTitle": false,
     "tableResultSettingsMap": {},
     "title": ""
    }
   },
   "source": [
    "### Create Paths"
   ]
  },
  {
   "cell_type": "code",
   "execution_count": 0,
   "metadata": {
    "application/vnd.databricks.v1+cell": {
     "cellMetadata": {
      "byteLimit": 2048000,
      "rowLimit": 10000
     },
     "inputWidgets": {},
     "nuid": "e2b64b1e-1709-4a12-a19d-c4424a1e6ca3",
     "showTitle": false,
     "tableResultSettingsMap": {},
     "title": ""
    }
   },
   "outputs": [
    {
     "output_type": "stream",
     "name": "stdout",
     "output_type": "stream",
     "text": [
      "Source data dir: wasbs://nfl@bgupb202402juanbarriento.blob.core.windows.net/raw/nfl-2022/\nDestination data dir: wasbs://nfl@bgupb202402juanbarriento.blob.core.windows.net/bronze/nfl-2022/players/\n"
     ]
    }
   ],
   "source": [
    "# Define source and destination directories\n",
    "srcDataDirRoot,destDataDirRoot = route(wasbs_path,\"players\",\"raw\",\"bronze\")\n",
    "print(f\"Source data dir: {srcDataDirRoot}\")\n",
    "print(f\"Destination data dir: {destDataDirRoot}\")"
   ]
  },
  {
   "cell_type": "markdown",
   "metadata": {
    "application/vnd.databricks.v1+cell": {
     "cellMetadata": {},
     "inputWidgets": {},
     "nuid": "90d5a617-4bee-402f-8adf-f5ea4f1eebf1",
     "showTitle": false,
     "tableResultSettingsMap": {},
     "title": ""
    }
   },
   "source": [
    "### Create Schema for Games files"
   ]
  },
  {
   "cell_type": "markdown",
   "metadata": {
    "application/vnd.databricks.v1+cell": {
     "cellMetadata": {},
     "inputWidgets": {},
     "nuid": "55426622-32f4-42f9-8d86-52a9f3396662",
     "showTitle": false,
     "tableResultSettingsMap": {},
     "title": ""
    }
   },
   "source": [
    "## Players Dataset\n",
    "\n",
    "This dataset contains player-specific information, including identification number, physical attributes, college details, and position.\n",
    "\n",
    "| Column Name     | Description                                                   |\n",
    "|-----------------|---------------------------------------------------------------|\n",
    "| `nflId`         | Unique identification number for each player (numeric).       |\n",
    "| `Height`        | Height of the player (text).                                   |\n",
    "| `Weight`        | Weight of the player in pounds (numeric).                     |\n",
    "| `birthDate`     | Date of birth in format YYYY-MM-DD (date).                    |\n",
    "| `collegeName`   | College that the player attended (text).                      |\n",
    "| `Position`      | Player's position on the field (text).                        |\n",
    "| `displayName`   | Full name of the player (text).   "
   ]
  },
  {
   "cell_type": "code",
   "execution_count": 0,
   "metadata": {
    "application/vnd.databricks.v1+cell": {
     "cellMetadata": {
      "byteLimit": 2048000,
      "rowLimit": 10000
     },
     "inputWidgets": {},
     "nuid": "f7510027-076c-4e1b-9bd4-5d6476cf19ec",
     "showTitle": false,
     "tableResultSettingsMap": {},
     "title": ""
    }
   },
   "outputs": [],
   "source": [
    "#Canonical ordered column listo for players\n",
    "canonicalTripSchemaColList = [\"nflId\",\"height\",\"weight\",\"birthDate\",\"collegeName\",\"Position\",\"displayName\"]"
   ]
  },
  {
   "cell_type": "code",
   "execution_count": 0,
   "metadata": {
    "application/vnd.databricks.v1+cell": {
     "cellMetadata": {
      "byteLimit": 2048000,
      "rowLimit": 10000
     },
     "inputWidgets": {},
     "nuid": "adde6c47-2481-4831-b79a-ad47c584f919",
     "showTitle": false,
     "tableResultSettingsMap": {},
     "title": ""
    }
   },
   "outputs": [],
   "source": [
    "#Schema for players files\n",
    "nflPlayersSchema = StructType([\n",
    "    StructField('nflId', IntegerType(), True), \n",
    "    StructField('height', StringType(), True),\n",
    "    StructField('weight', IntegerType(), True),\n",
    "    StructField('birthDate', TimestampType(), True),\n",
    "    StructField('collegeName', StringType(), True),\n",
    "    StructField('Position', StringType(), True),\n",
    "    StructField('displayName', StringType(), True)])\n"
   ]
  },
  {
   "cell_type": "code",
   "execution_count": 0,
   "metadata": {
    "application/vnd.databricks.v1+cell": {
     "cellMetadata": {
      "byteLimit": 2048000,
      "rowLimit": 10000
     },
     "inputWidgets": {},
     "nuid": "889b5ede-9a8d-4c4b-ad60-54190a060af6",
     "showTitle": false,
     "tableResultSettingsMap": {},
     "title": ""
    }
   },
   "outputs": [
    {
     "output_type": "display_data",
     "data": {
      "text/plain": [
       "StructType([StructField('nflId', IntegerType(), True), StructField('height', StringType(), True), StructField('weight', IntegerType(), True), StructField('birthDate', TimestampType(), True), StructField('collegeName', StringType(), True), StructField('Position', StringType(), True), StructField('displayName', StringType(), True)])"
      ]
     },
     "metadata": {},
     "output_type": "display_data"
    }
   ],
   "source": [
    "display(nflPlayersSchema)"
   ]
  },
  {
   "cell_type": "markdown",
   "metadata": {
    "application/vnd.databricks.v1+cell": {
     "cellMetadata": {},
     "inputWidgets": {},
     "nuid": "aa37660f-fd96-4e29-be21-4bc03896dda8",
     "showTitle": false,
     "tableResultSettingsMap": {},
     "title": ""
    }
   },
   "source": [
    "### Storage in Bronze layer"
   ]
  },
  {
   "cell_type": "code",
   "execution_count": 0,
   "metadata": {
    "application/vnd.databricks.v1+cell": {
     "cellMetadata": {
      "byteLimit": 2048000,
      "rowLimit": 10000
     },
     "inputWidgets": {},
     "nuid": "97a5f9e7-6109-439e-9ed1-9a5318f4cabb",
     "showTitle": false,
     "tableResultSettingsMap": {},
     "title": ""
    }
   },
   "outputs": [
    {
     "output_type": "execute_result",
     "data": {
      "text/plain": [
       "False"
      ]
     },
     "execution_count": 26,
     "metadata": {},
     "output_type": "execute_result"
    }
   ],
   "source": [
    "#Delete any residual data from prior executions for an idempotent run\n",
    "dbutils.fs.rm(destDataDirRoot,recurse=True)"
   ]
  },
  {
   "cell_type": "code",
   "execution_count": 0,
   "metadata": {
    "application/vnd.databricks.v1+cell": {
     "cellMetadata": {
      "byteLimit": 2048000,
      "rowLimit": 10000
     },
     "inputWidgets": {},
     "nuid": "8a1c9eaf-d5e2-45a5-8cc7-49fd764087a2",
     "showTitle": false,
     "tableResultSettingsMap": {},
     "title": ""
    }
   },
   "outputs": [],
   "source": [
    "#Read de csv from the raw data source using the schema and the path defined above\n",
    "nflPlayersDf = (spark.read.format(\"csv\")\n",
    "                .option(\"header\", True)\n",
    "                .schema(nflPlayersSchema)\n",
    "                .option(\"delimiter\",\",\")\n",
    "                .load(f\"{srcDataDirRoot}/players.csv\").cache())\n",
    "\n",
    "\n",
    "# Change the \"NA\" Values for Null\n",
    "nflPlayersDf = nflPlayersDf.na.replace(\"NA\", None)\n",
    "\n",
    "#Order all columns to align with the canonical schema \n",
    "nflPlayersDfCanocical = nflPlayersDf.select(*canonicalTripSchemaColList)\n",
    "\n",
    "display(nflPlayersDfCanocical)\n",
    "\n",
    "#To make Hive Parquet format compatible with Spark Parquet format\n",
    "sqlContext.setConf(\"spark.sql.parquet.writeLegacyFormat\", \"true\")\n",
    "\n",
    "# Save the files in the bronze directory\n",
    "nflPlayersDfCanocical.write.format(\"delta\").mode(\"append\").save(destDataDirRoot) "
   ]
  }
 ],
 "metadata": {
  "application/vnd.databricks.v1+notebook": {
   "computePreferences": null,
   "dashboards": [],
   "environmentMetadata": null,
   "language": "python",
   "notebookMetadata": {
    "mostRecentlyExecutedCommandWithImplicitDF": {
     "commandId": 4042335137613493,
     "dataframes": [
      "_sqldf"
     ]
    },
    "pythonIndentUnit": 4
   },
   "notebookName": "04-LoadData-Players",
   "widgets": {}
  },
  "language_info": {
   "name": "python"
  }
 },
 "nbformat": 4,
 "nbformat_minor": 0
}