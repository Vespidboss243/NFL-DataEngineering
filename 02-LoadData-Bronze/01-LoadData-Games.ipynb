{
 "cells": [
  {
   "cell_type": "markdown",
   "metadata": {
    "application/vnd.databricks.v1+cell": {
     "cellMetadata": {},
     "inputWidgets": {},
     "nuid": "d6d4ea29-1cec-4ef2-b124-6a541f108aaa",
     "showTitle": false,
     "tableResultSettingsMap": {},
     "title": ""
    }
   },
   "source": [
    "### **Import Libraries**\n"
   ]
  },
  {
   "cell_type": "code",
   "execution_count": 0,
   "metadata": {
    "application/vnd.databricks.v1+cell": {
     "cellMetadata": {
      "byteLimit": 2048000,
      "rowLimit": 10000
     },
     "inputWidgets": {},
     "nuid": "c34c39c8-4b8a-4554-8226-bedef9eb24b8",
     "showTitle": false,
     "tableResultSettingsMap": {},
     "title": ""
    }
   },
   "outputs": [],
   "source": [
    "from pyspark.sql.types import StructType, StructField, StringType, IntegerType,LongType,FloatType,DoubleType, TimestampType, DateType\n",
    "from pyspark.sql.functions import *"
   ]
  },
  {
   "cell_type": "markdown",
   "metadata": {
    "application/vnd.databricks.v1+cell": {
     "cellMetadata": {},
     "inputWidgets": {},
     "nuid": "20bd42ed-ade9-4855-9544-3290d40a8a1b",
     "showTitle": false,
     "tableResultSettingsMap": {},
     "title": ""
    }
   },
   "source": [
    "### Execute notebook with common/reusable functions "
   ]
  },
  {
   "cell_type": "code",
   "execution_count": 0,
   "metadata": {
    "application/vnd.databricks.v1+cell": {
     "cellMetadata": {
      "byteLimit": 2048000,
      "rowLimit": 10000
     },
     "inputWidgets": {},
     "nuid": "b26a7d18-664a-401f-83ad-2e9f12189924",
     "showTitle": false,
     "tableResultSettingsMap": {},
     "title": ""
    }
   },
   "outputs": [],
   "source": [
    "%run \"../01-General/02-CommonFunctions\""
   ]
  },
  {
   "cell_type": "markdown",
   "metadata": {
    "application/vnd.databricks.v1+cell": {
     "cellMetadata": {},
     "inputWidgets": {},
     "nuid": "523d23dd-75f1-4ac8-940f-efa1ae9d2f1b",
     "showTitle": false,
     "tableResultSettingsMap": {},
     "title": ""
    }
   },
   "source": [
    "### Connect to the storage"
   ]
  },
  {
   "cell_type": "code",
   "execution_count": 0,
   "metadata": {
    "application/vnd.databricks.v1+cell": {
     "cellMetadata": {
      "byteLimit": 2048000,
      "rowLimit": 10000
     },
     "inputWidgets": {},
     "nuid": "42d562f8-3267-4122-9e77-560045c7fc69",
     "showTitle": false,
     "tableResultSettingsMap": {},
     "title": ""
    }
   },
   "outputs": [
    {
     "output_type": "stream",
     "name": "stdout",
     "output_type": "stream",
     "text": [
      "Remote blob path: wasbs://nfl@bgupb202402juanbarriento.blob.core.windows.net/\n"
     ]
    }
   ],
   "source": [
    "wasbs_path = connect()"
   ]
  },
  {
   "cell_type": "code",
   "execution_count": 0,
   "metadata": {
    "application/vnd.databricks.v1+cell": {
     "cellMetadata": {
      "byteLimit": 2048000,
      "rowLimit": 10000
     },
     "inputWidgets": {},
     "nuid": "a0258992-5d7b-4aba-ae00-32f2caf1836c",
     "showTitle": false,
     "tableResultSettingsMap": {},
     "title": ""
    }
   },
   "outputs": [
    {
     "output_type": "display_data",
     "data": {
      "text/html": [
       "<style scoped>\n",
       "  .table-result-container {\n",
       "    max-height: 300px;\n",
       "    overflow: auto;\n",
       "  }\n",
       "  table, th, td {\n",
       "    border: 1px solid black;\n",
       "    border-collapse: collapse;\n",
       "  }\n",
       "  th, td {\n",
       "    padding: 5px;\n",
       "  }\n",
       "  th {\n",
       "    text-align: left;\n",
       "  }\n",
       "</style><div class='table-result-container'><table class='table-result'><thead style='background-color: white'><tr><th>path</th><th>name</th><th>size</th><th>modificationTime</th></tr></thead><tbody><tr><td>wasbs://nfl@bgupb202402juanbarriento.blob.core.windows.net/raw/nfl-2022/PFFScoutingData.csv</td><td>PFFScoutingData.csv</td><td>2056451</td><td>1728705562000</td></tr><tr><td>wasbs://nfl@bgupb202402juanbarriento.blob.core.windows.net/raw/nfl-2022/games.csv</td><td>games.csv</td><td>40596</td><td>1728705558000</td></tr><tr><td>wasbs://nfl@bgupb202402juanbarriento.blob.core.windows.net/raw/nfl-2022/players.csv</td><td>players.csv</td><td>175869</td><td>1728705559000</td></tr><tr><td>wasbs://nfl@bgupb202402juanbarriento.blob.core.windows.net/raw/nfl-2022/plays.csv</td><td>plays.csv</td><td>4040236</td><td>1728705564000</td></tr><tr><td>wasbs://nfl@bgupb202402juanbarriento.blob.core.windows.net/raw/nfl-2022/tracking2018.csv</td><td>tracking2018.csv</td><td>1736922582</td><td>1728706731000</td></tr><tr><td>wasbs://nfl@bgupb202402juanbarriento.blob.core.windows.net/raw/nfl-2022/tracking2019.csv</td><td>tracking2019.csv</td><td>1653130011</td><td>1728706711000</td></tr><tr><td>wasbs://nfl@bgupb202402juanbarriento.blob.core.windows.net/raw/nfl-2022/tracking2020.csv</td><td>tracking2020.csv</td><td>1607558364</td><td>1728706700000</td></tr></tbody></table></div>"
      ]
     },
     "metadata": {
      "application/vnd.databricks.v1+output": {
       "addedWidgets": {},
       "aggData": [],
       "aggError": "",
       "aggOverflow": false,
       "aggSchema": [],
       "aggSeriesLimitReached": false,
       "aggType": "",
       "arguments": {},
       "columnCustomDisplayInfos": {},
       "data": [
        [
         "wasbs://nfl@bgupb202402juanbarriento.blob.core.windows.net/raw/nfl-2022/PFFScoutingData.csv",
         "PFFScoutingData.csv",
         2056451,
         1728705562000
        ],
        [
         "wasbs://nfl@bgupb202402juanbarriento.blob.core.windows.net/raw/nfl-2022/games.csv",
         "games.csv",
         40596,
         1728705558000
        ],
        [
         "wasbs://nfl@bgupb202402juanbarriento.blob.core.windows.net/raw/nfl-2022/players.csv",
         "players.csv",
         175869,
         1728705559000
        ],
        [
         "wasbs://nfl@bgupb202402juanbarriento.blob.core.windows.net/raw/nfl-2022/plays.csv",
         "plays.csv",
         4040236,
         1728705564000
        ],
        [
         "wasbs://nfl@bgupb202402juanbarriento.blob.core.windows.net/raw/nfl-2022/tracking2018.csv",
         "tracking2018.csv",
         1736922582,
         1728706731000
        ],
        [
         "wasbs://nfl@bgupb202402juanbarriento.blob.core.windows.net/raw/nfl-2022/tracking2019.csv",
         "tracking2019.csv",
         1653130011,
         1728706711000
        ],
        [
         "wasbs://nfl@bgupb202402juanbarriento.blob.core.windows.net/raw/nfl-2022/tracking2020.csv",
         "tracking2020.csv",
         1607558364,
         1728706700000
        ]
       ],
       "datasetInfos": [],
       "dbfsResultPath": null,
       "isJsonSchema": true,
       "metadata": {},
       "overflow": false,
       "plotOptions": {
        "customPlotOptions": {},
        "displayType": "table",
        "pivotAggregation": null,
        "pivotColumns": null,
        "xColumns": null,
        "yColumns": null
       },
       "removedWidgets": [],
       "schema": [
        {
         "metadata": "{}",
         "name": "path",
         "type": "\"string\""
        },
        {
         "metadata": "{}",
         "name": "name",
         "type": "\"string\""
        },
        {
         "metadata": "{}",
         "name": "size",
         "type": "\"long\""
        },
        {
         "metadata": "{}",
         "name": "modificationTime",
         "type": "\"long\""
        }
       ],
       "type": "table"
      }
     },
     "output_type": "display_data"
    }
   ],
   "source": [
    "# Check the connection\n",
    "display(\n",
    "    dbutils.fs.ls(\n",
    "        f\"{wasbs_path}/raw/nfl-2022/\"\n",
    "    )\n",
    ")"
   ]
  },
  {
   "cell_type": "markdown",
   "metadata": {
    "application/vnd.databricks.v1+cell": {
     "cellMetadata": {},
     "inputWidgets": {},
     "nuid": "26a4ed71-fcc9-4f4d-8cf4-ebf3603d92ee",
     "showTitle": false,
     "tableResultSettingsMap": {},
     "title": ""
    }
   },
   "source": [
    "### Create Paths"
   ]
  },
  {
   "cell_type": "code",
   "execution_count": 0,
   "metadata": {
    "application/vnd.databricks.v1+cell": {
     "cellMetadata": {
      "byteLimit": 2048000,
      "rowLimit": 10000
     },
     "inputWidgets": {},
     "nuid": "4aa03f32-eb91-427f-aaa4-138fd15e269b",
     "showTitle": false,
     "tableResultSettingsMap": {},
     "title": ""
    }
   },
   "outputs": [
    {
     "output_type": "stream",
     "name": "stdout",
     "output_type": "stream",
     "text": [
      "Source data dir: wasbs://nfl@bgupb202402juanbarriento.blob.core.windows.net/raw/nfl-2022/\nDestination data dir: wasbs://nfl@bgupb202402juanbarriento.blob.core.windows.net/bronze/nfl-2022/games/\n"
     ]
    }
   ],
   "source": [
    "# Define source and destination directories\n",
    "srcDataDirRoot,destDataDirRoot = route(wasbs_path,\"games\",\"raw\",\"bronze\")\n",
    "print(f\"Source data dir: {srcDataDirRoot}\")\n",
    "print(f\"Destination data dir: {destDataDirRoot}\")"
   ]
  },
  {
   "cell_type": "markdown",
   "metadata": {
    "application/vnd.databricks.v1+cell": {
     "cellMetadata": {},
     "inputWidgets": {},
     "nuid": "d73ab68c-ba70-43ba-9e33-aa7bd590a346",
     "showTitle": false,
     "tableResultSettingsMap": {},
     "title": ""
    }
   },
   "source": [
    "### Create Schema for Games files"
   ]
  },
  {
   "cell_type": "markdown",
   "metadata": {
    "application/vnd.databricks.v1+cell": {
     "cellMetadata": {},
     "inputWidgets": {},
     "nuid": "4a9be9fb-7ad7-4e61-ae08-bf479ebb8435",
     "showTitle": false,
     "tableResultSettingsMap": {},
     "title": ""
    }
   },
   "source": [
    "## Games Dataset\n",
    "\n",
    "This dataset contains information about NFL games, including game identifiers, season details, and team abbreviations.\n",
    "\n",
    "| Column Name         | Description                                                                 |\n",
    "|---------------------|-----------------------------------------------------------------------------|\n",
    "| `gameId`            | Unique identifier for each game (numeric).                                   |\n",
    "| `season`            | The season in which the game was played (numeric).                           |\n",
    "| `week`              | The week of the season in which the game took place (numeric).               |\n",
    "| `gameDate`          | The date of the game in `MM/DD/YYYY` format (date).                     |\n",
    "| `gameTimeEastern`    | The start time of the game in Eastern Standard Time (EST), `HH:MM:SS` format (time).|\n",
    "| `homeTeamAbbr`      | The three-letter abbreviation for the home team (text).                      |\n",
    "| `visitorTeamAbbr`   | The three-letter abbreviation for the visiting team (text).                  |"
   ]
  },
  {
   "cell_type": "code",
   "execution_count": 0,
   "metadata": {
    "application/vnd.databricks.v1+cell": {
     "cellMetadata": {
      "byteLimit": 2048000,
      "rowLimit": 10000
     },
     "inputWidgets": {},
     "nuid": "f7510027-076c-4e1b-9bd4-5d6476cf19ec",
     "showTitle": false,
     "tableResultSettingsMap": {},
     "title": ""
    }
   },
   "outputs": [],
   "source": [
    "#Canonical ordered column list for games\n",
    "canonicalTripSchemaColList = [\"gameId\",\"season\",\"week\",\"gameDate\",\"gameTimeEastern\",\"homeTeamAbbr\",\"visitorTeamAbbr\"]"
   ]
  },
  {
   "cell_type": "code",
   "execution_count": 0,
   "metadata": {
    "application/vnd.databricks.v1+cell": {
     "cellMetadata": {
      "byteLimit": 2048000,
      "rowLimit": 10000
     },
     "inputWidgets": {},
     "nuid": "adde6c47-2481-4831-b79a-ad47c584f919",
     "showTitle": false,
     "tableResultSettingsMap": {},
     "title": ""
    }
   },
   "outputs": [],
   "source": [
    "#Schema for games files\n",
    "nlfGamesSchema = StructType([\n",
    "    StructField(\"gameId\", IntegerType(), True),\n",
    "    StructField(\"season\", IntegerType(), True),\n",
    "    StructField(\"week\", IntegerType(), True),\n",
    "    StructField(\"gameDate\", StringType(), True),\n",
    "    StructField(\"gameTimeEastern\", StringType(), True),\n",
    "    StructField(\"homeTeamAbbr\", StringType(), True),\n",
    "    StructField(\"visitorTeamAbbr\", StringType(), True)])\n"
   ]
  },
  {
   "cell_type": "code",
   "execution_count": 0,
   "metadata": {
    "application/vnd.databricks.v1+cell": {
     "cellMetadata": {
      "byteLimit": 2048000,
      "rowLimit": 10000
     },
     "inputWidgets": {},
     "nuid": "889b5ede-9a8d-4c4b-ad60-54190a060af6",
     "showTitle": false,
     "tableResultSettingsMap": {},
     "title": ""
    }
   },
   "outputs": [
    {
     "output_type": "display_data",
     "data": {
      "text/plain": [
       "StructType([StructField('gameId', IntegerType(), True), StructField('season', IntegerType(), True), StructField('week', IntegerType(), True), StructField('gameDate', StringType(), True), StructField('gameTimeEastern', StringType(), True), StructField('homeTeamAbbr', StringType(), True), StructField('visitorTeamAbbr', StringType(), True)])"
      ]
     },
     "metadata": {},
     "output_type": "display_data"
    }
   ],
   "source": [
    "#Check Schema\n",
    "display(nlfGamesSchema)"
   ]
  },
  {
   "cell_type": "markdown",
   "metadata": {
    "application/vnd.databricks.v1+cell": {
     "cellMetadata": {},
     "inputWidgets": {},
     "nuid": "326260d0-4ce3-435b-a20f-3ce29443b658",
     "showTitle": false,
     "tableResultSettingsMap": {},
     "title": ""
    }
   },
   "source": [
    "### Storage in Bronze layer"
   ]
  },
  {
   "cell_type": "code",
   "execution_count": 0,
   "metadata": {
    "application/vnd.databricks.v1+cell": {
     "cellMetadata": {
      "byteLimit": 2048000,
      "rowLimit": 10000
     },
     "inputWidgets": {},
     "nuid": "97a5f9e7-6109-439e-9ed1-9a5318f4cabb",
     "showTitle": false,
     "tableResultSettingsMap": {},
     "title": ""
    }
   },
   "outputs": [
    {
     "output_type": "execute_result",
     "data": {
      "text/plain": [
       "True"
      ]
     },
     "execution_count": 18,
     "metadata": {},
     "output_type": "execute_result"
    }
   ],
   "source": [
    "#Delete any residual data from prior executions for an idempotent run\n",
    "dbutils.fs.rm(destDataDirRoot,recurse=True)"
   ]
  },
  {
   "cell_type": "code",
   "execution_count": 0,
   "metadata": {
    "application/vnd.databricks.v1+cell": {
     "cellMetadata": {
      "byteLimit": 2048000,
      "rowLimit": 10000
     },
     "inputWidgets": {},
     "nuid": "8a1c9eaf-d5e2-45a5-8cc7-49fd764087a2",
     "showTitle": false,
     "tableResultSettingsMap": {},
     "title": ""
    }
   },
   "outputs": [],
   "source": [
    "\n",
    "#Read de csv from the raw data source using the schema and the path defined above \n",
    "nflGamesDf = (spark.read.format(\"csv\")\n",
    "                .option(\"header\", True)\n",
    "                .schema(nlfGamesSchema)\n",
    "                .option(\"delimiter\",\",\")\n",
    "                .load(f\"{srcDataDirRoot}/games.csv\").cache())\n",
    "\n",
    "\n",
    "# Change the \"NA\" Values for Null\n",
    "nflGamesDf = nflGamesDf.na.replace(\"NA\", None)\n",
    "\n",
    "#Order all columns to align with the canonical schema \n",
    "nflGamesDfCanocical = nflGamesDf.select(*canonicalTripSchemaColList)\n",
    "\n",
    "#Convert the date column to a date type\n",
    "nflGamesDfCanocical = nflGamesDfCanocical.withColumn(\"gameDate\", to_date(col(\"gameDate\"), \"MM/dd/yyyy\"))\n",
    "\n",
    "display(nflGamesDfCanocical)\n",
    "\n",
    "#To make Hive Parquet format compatible with Spark Parquet format\n",
    "sqlContext.setConf(\"spark.sql.parquet.writeLegacyFormat\", \"true\")\n",
    "\n",
    "# Save the files in the bronze directory\n",
    "nflGamesDfCanocical.write.format(\"delta\").mode(\"append\").partitionBy(\"season\").save(destDataDirRoot) "
   ]
  }
 ],
 "metadata": {
  "application/vnd.databricks.v1+notebook": {
   "computePreferences": null,
   "dashboards": [],
   "environmentMetadata": null,
   "language": "python",
   "notebookMetadata": {
    "mostRecentlyExecutedCommandWithImplicitDF": {
     "commandId": 4042335137613493,
     "dataframes": [
      "_sqldf"
     ]
    },
    "pythonIndentUnit": 4
   },
   "notebookName": "01-LoadData-Games",
   "widgets": {}
  },
  "language_info": {
   "name": "python"
  }
 },
 "nbformat": 4,
 "nbformat_minor": 0
}