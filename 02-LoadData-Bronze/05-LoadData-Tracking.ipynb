{
 "cells": [
  {
   "cell_type": "markdown",
   "metadata": {
    "application/vnd.databricks.v1+cell": {
     "cellMetadata": {},
     "inputWidgets": {},
     "nuid": "86b4da73-ab23-4c6c-9c08-e890217b9f07",
     "showTitle": false,
     "tableResultSettingsMap": {},
     "title": ""
    }
   },
   "source": [
    "### **Import Libraries**"
   ]
  },
  {
   "cell_type": "code",
   "execution_count": 0,
   "metadata": {
    "application/vnd.databricks.v1+cell": {
     "cellMetadata": {
      "byteLimit": 2048000,
      "rowLimit": 10000
     },
     "inputWidgets": {},
     "nuid": "c34c39c8-4b8a-4554-8226-bedef9eb24b8",
     "showTitle": false,
     "tableResultSettingsMap": {},
     "title": ""
    }
   },
   "outputs": [],
   "source": [
    "from pyspark.sql.types import StructType, StructField, StringType, IntegerType,LongType,FloatType,DoubleType, TimestampType, DateType\n",
    "from pyspark.sql.functions import *"
   ]
  },
  {
   "cell_type": "markdown",
   "metadata": {
    "application/vnd.databricks.v1+cell": {
     "cellMetadata": {},
     "inputWidgets": {},
     "nuid": "cc3ba103-9d53-4bac-95bd-0d6c7c0ad999",
     "showTitle": false,
     "tableResultSettingsMap": {},
     "title": ""
    }
   },
   "source": [
    "### Execute notebook with common/reusable functions "
   ]
  },
  {
   "cell_type": "code",
   "execution_count": 0,
   "metadata": {
    "application/vnd.databricks.v1+cell": {
     "cellMetadata": {
      "byteLimit": 2048000,
      "rowLimit": 10000
     },
     "inputWidgets": {},
     "nuid": "0f2f7c2e-f2a6-41a4-a8a6-f40d0d639d41",
     "showTitle": false,
     "tableResultSettingsMap": {},
     "title": ""
    }
   },
   "outputs": [],
   "source": [
    "%run \"../01-General/02-CommonFunctions\""
   ]
  },
  {
   "cell_type": "markdown",
   "metadata": {
    "application/vnd.databricks.v1+cell": {
     "cellMetadata": {},
     "inputWidgets": {},
     "nuid": "ca8ed550-830c-421d-a8e6-e738891c2be7",
     "showTitle": false,
     "tableResultSettingsMap": {},
     "title": ""
    }
   },
   "source": [
    "### Connect to the storage"
   ]
  },
  {
   "cell_type": "code",
   "execution_count": 0,
   "metadata": {
    "application/vnd.databricks.v1+cell": {
     "cellMetadata": {
      "byteLimit": 2048000,
      "rowLimit": 10000
     },
     "inputWidgets": {},
     "nuid": "0c6290fb-ed9b-4e9b-8ae2-573867d1a15d",
     "showTitle": false,
     "tableResultSettingsMap": {},
     "title": ""
    }
   },
   "outputs": [
    {
     "output_type": "stream",
     "name": "stdout",
     "output_type": "stream",
     "text": [
      "Remote blob path: wasbs://nfl@bgupb202402juanbarriento.blob.core.windows.net/\n"
     ]
    }
   ],
   "source": [
    "wasbs_path = connect()"
   ]
  },
  {
   "cell_type": "code",
   "execution_count": 0,
   "metadata": {
    "application/vnd.databricks.v1+cell": {
     "cellMetadata": {
      "byteLimit": 2048000,
      "rowLimit": 10000
     },
     "inputWidgets": {},
     "nuid": "a0258992-5d7b-4aba-ae00-32f2caf1836c",
     "showTitle": false,
     "tableResultSettingsMap": {},
     "title": ""
    }
   },
   "outputs": [
    {
     "output_type": "display_data",
     "data": {
      "text/html": [
       "<style scoped>\n",
       "  .table-result-container {\n",
       "    max-height: 300px;\n",
       "    overflow: auto;\n",
       "  }\n",
       "  table, th, td {\n",
       "    border: 1px solid black;\n",
       "    border-collapse: collapse;\n",
       "  }\n",
       "  th, td {\n",
       "    padding: 5px;\n",
       "  }\n",
       "  th {\n",
       "    text-align: left;\n",
       "  }\n",
       "</style><div class='table-result-container'><table class='table-result'><thead style='background-color: white'><tr><th>path</th><th>name</th><th>size</th><th>modificationTime</th></tr></thead><tbody><tr><td>wasbs://nfl@bgupb202402juanbarriento.blob.core.windows.net/raw/nfl-2022/PFFScoutingData.csv</td><td>PFFScoutingData.csv</td><td>2056451</td><td>1728705562000</td></tr><tr><td>wasbs://nfl@bgupb202402juanbarriento.blob.core.windows.net/raw/nfl-2022/games.csv</td><td>games.csv</td><td>40596</td><td>1728705558000</td></tr><tr><td>wasbs://nfl@bgupb202402juanbarriento.blob.core.windows.net/raw/nfl-2022/players.csv</td><td>players.csv</td><td>175869</td><td>1728705559000</td></tr><tr><td>wasbs://nfl@bgupb202402juanbarriento.blob.core.windows.net/raw/nfl-2022/plays.csv</td><td>plays.csv</td><td>4040236</td><td>1728705564000</td></tr><tr><td>wasbs://nfl@bgupb202402juanbarriento.blob.core.windows.net/raw/nfl-2022/tracking2018.csv</td><td>tracking2018.csv</td><td>1736922582</td><td>1728706731000</td></tr><tr><td>wasbs://nfl@bgupb202402juanbarriento.blob.core.windows.net/raw/nfl-2022/tracking2019.csv</td><td>tracking2019.csv</td><td>1653130011</td><td>1728706711000</td></tr><tr><td>wasbs://nfl@bgupb202402juanbarriento.blob.core.windows.net/raw/nfl-2022/tracking2020.csv</td><td>tracking2020.csv</td><td>1607558364</td><td>1728706700000</td></tr></tbody></table></div>"
      ]
     },
     "metadata": {
      "application/vnd.databricks.v1+output": {
       "addedWidgets": {},
       "aggData": [],
       "aggError": "",
       "aggOverflow": false,
       "aggSchema": [],
       "aggSeriesLimitReached": false,
       "aggType": "",
       "arguments": {},
       "columnCustomDisplayInfos": {},
       "data": [
        [
         "wasbs://nfl@bgupb202402juanbarriento.blob.core.windows.net/raw/nfl-2022/PFFScoutingData.csv",
         "PFFScoutingData.csv",
         2056451,
         1728705562000
        ],
        [
         "wasbs://nfl@bgupb202402juanbarriento.blob.core.windows.net/raw/nfl-2022/games.csv",
         "games.csv",
         40596,
         1728705558000
        ],
        [
         "wasbs://nfl@bgupb202402juanbarriento.blob.core.windows.net/raw/nfl-2022/players.csv",
         "players.csv",
         175869,
         1728705559000
        ],
        [
         "wasbs://nfl@bgupb202402juanbarriento.blob.core.windows.net/raw/nfl-2022/plays.csv",
         "plays.csv",
         4040236,
         1728705564000
        ],
        [
         "wasbs://nfl@bgupb202402juanbarriento.blob.core.windows.net/raw/nfl-2022/tracking2018.csv",
         "tracking2018.csv",
         1736922582,
         1728706731000
        ],
        [
         "wasbs://nfl@bgupb202402juanbarriento.blob.core.windows.net/raw/nfl-2022/tracking2019.csv",
         "tracking2019.csv",
         1653130011,
         1728706711000
        ],
        [
         "wasbs://nfl@bgupb202402juanbarriento.blob.core.windows.net/raw/nfl-2022/tracking2020.csv",
         "tracking2020.csv",
         1607558364,
         1728706700000
        ]
       ],
       "datasetInfos": [],
       "dbfsResultPath": null,
       "isJsonSchema": true,
       "metadata": {},
       "overflow": false,
       "plotOptions": {
        "customPlotOptions": {},
        "displayType": "table",
        "pivotAggregation": null,
        "pivotColumns": null,
        "xColumns": null,
        "yColumns": null
       },
       "removedWidgets": [],
       "schema": [
        {
         "metadata": "{}",
         "name": "path",
         "type": "\"string\""
        },
        {
         "metadata": "{}",
         "name": "name",
         "type": "\"string\""
        },
        {
         "metadata": "{}",
         "name": "size",
         "type": "\"long\""
        },
        {
         "metadata": "{}",
         "name": "modificationTime",
         "type": "\"long\""
        }
       ],
       "type": "table"
      }
     },
     "output_type": "display_data"
    }
   ],
   "source": [
    "# Check the connection\n",
    "display(\n",
    "    dbutils.fs.ls(\n",
    "        f\"{wasbs_path}/raw/nfl-2022/\"\n",
    "    )\n",
    ")"
   ]
  },
  {
   "cell_type": "markdown",
   "metadata": {
    "application/vnd.databricks.v1+cell": {
     "cellMetadata": {},
     "inputWidgets": {},
     "nuid": "77ff9f6e-0164-483e-ac14-7569780291f1",
     "showTitle": false,
     "tableResultSettingsMap": {},
     "title": ""
    }
   },
   "source": [
    "### Create Paths"
   ]
  },
  {
   "cell_type": "code",
   "execution_count": 0,
   "metadata": {
    "application/vnd.databricks.v1+cell": {
     "cellMetadata": {
      "byteLimit": 2048000,
      "rowLimit": 10000
     },
     "inputWidgets": {},
     "nuid": "e2b64b1e-1709-4a12-a19d-c4424a1e6ca3",
     "showTitle": false,
     "tableResultSettingsMap": {},
     "title": ""
    }
   },
   "outputs": [
    {
     "output_type": "stream",
     "name": "stdout",
     "output_type": "stream",
     "text": [
      "Source data dir: wasbs://nfl@bgupb202402juanbarriento.blob.core.windows.net/raw/nfl-2022/\nDestination data dir: wasbs://nfl@bgupb202402juanbarriento.blob.core.windows.net/bronze/nfl-2022/tracking/\n"
     ]
    }
   ],
   "source": [
    "# Define source and destination directories\n",
    "srcDataDirRoot,destDataDirRoot = route(wasbs_path,\"tracking\",\"raw\",\"bronze\")\n",
    "print(f\"Source data dir: {srcDataDirRoot}\")\n",
    "print(f\"Destination data dir: {destDataDirRoot}\")"
   ]
  },
  {
   "cell_type": "markdown",
   "metadata": {
    "application/vnd.databricks.v1+cell": {
     "cellMetadata": {},
     "inputWidgets": {},
     "nuid": "55c4647a-cc6b-40ce-815e-b43471b7b3f0",
     "showTitle": false,
     "tableResultSettingsMap": {},
     "title": ""
    }
   },
   "source": [
    "### Create Schema for Games files"
   ]
  },
  {
   "cell_type": "markdown",
   "metadata": {
    "application/vnd.databricks.v1+cell": {
     "cellMetadata": {},
     "inputWidgets": {},
     "nuid": "6e73aedb-df94-41cc-9670-4e8963e773bb",
     "showTitle": false,
     "tableResultSettingsMap": {},
     "title": ""
    }
   },
   "source": [
    "## Tracking Dataset\n",
    "\n",
    "This dataset contains player tracking data from NFL games, including time-stamped positional and movement details of each player on the field.\n",
    "\n",
    "| Column Name      | Description                                                                               |\n",
    "|------------------|-------------------------------------------------------------------------------------------|\n",
    "| `time`           | Time stamp of play (yyyy-mm-dd, hh:mm:ss).                                                |\n",
    "| `x`              | Player position along the long axis of the field, from 0 to 120 yards (numeric).           |\n",
    "| `y`              | Player position along the short axis of the field, from 0 to 53.3 yards (numeric).         |\n",
    "| `s`              | Player speed in yards per second (numeric).                                               |\n",
    "| `a`              | Player acceleration in yards per second squared (numeric).                                |\n",
    "| `dis`            | Distance traveled from prior time point in yards (numeric).                                |\n",
    "| `o`              | Player orientation in degrees (0 - 360) (numeric).                                        |\n",
    "| `dir`            | Angle of player motion in degrees (0 - 360) (numeric).                                    |\n",
    "| `event`          | Details of tagged events during play (e.g., ball snap, pass release, etc.) (text).         |\n",
    "| `nflId`          | Unique player identification number (numeric).                                            |\n",
    "| `displayName`    | Player name (text).                                                                       |\n",
    "| `jerseyNumber`   | Player's jersey number (numeric).                                                         |\n",
    "| `position`       | Player's position group (text).                                                           |\n",
    "| `team`           | Team designation, either \"home\" or \"away\" (text).                                         |\n",
    "| `frameId`        | Frame identifier for each play (numeric).                                                 |\n",
    "| `gameId`         | Unique game identifier (numeric).                                                         |\n",
    "| `playId`         | Play identifier, not unique across games (numeric).                                       |\n",
    "| `playDirection`  | Direction in which the offense is moving (left or right) (text).                          |"
   ]
  },
  {
   "cell_type": "code",
   "execution_count": 0,
   "metadata": {
    "application/vnd.databricks.v1+cell": {
     "cellMetadata": {
      "byteLimit": 2048000,
      "rowLimit": 10000
     },
     "inputWidgets": {},
     "nuid": "f7510027-076c-4e1b-9bd4-5d6476cf19ec",
     "showTitle": false,
     "tableResultSettingsMap": {},
     "title": ""
    }
   },
   "outputs": [],
   "source": [
    "#Canonical ordered column list for tracking files\n",
    "canonicalTripSchemaColList = [\n",
    "    \"time\",\"x\",\"y\",\"s\",\"a\",\"dis\",\"o\",\"dir\",\"event\",\"nflId\",\"displayName\",\n",
    "    \"jerseyNumber\",\"position\",\"team\",\"frameId\",\"gameId\",\"playId\",\"playDirection\"\n",
    "]"
   ]
  },
  {
   "cell_type": "code",
   "execution_count": 0,
   "metadata": {
    "application/vnd.databricks.v1+cell": {
     "cellMetadata": {
      "byteLimit": 2048000,
      "rowLimit": 10000
     },
     "inputWidgets": {},
     "nuid": "adde6c47-2481-4831-b79a-ad47c584f919",
     "showTitle": false,
     "tableResultSettingsMap": {},
     "title": ""
    }
   },
   "outputs": [],
   "source": [
    "#Schema for tracking files\n",
    "nflTrackingSchema = StructType([\n",
    "    StructField('time', TimestampType(), True), \n",
    "    StructField('x', DoubleType(), True), \n",
    "    StructField('y', DoubleType(), True), \n",
    "    StructField('s', DoubleType(), True), \n",
    "    StructField('a', DoubleType(), True), \n",
    "    StructField('dis', DoubleType(), True), \n",
    "    StructField('o', DoubleType(), True), \n",
    "    StructField('dir', DoubleType(), True), \n",
    "    StructField('event', StringType(), True), \n",
    "    StructField('nflId', IntegerType(), True), \n",
    "    StructField('displayName', StringType(), True), \n",
    "    StructField('jerseyNumber', IntegerType(), True), \n",
    "    StructField('position', StringType(), True),\n",
    "    StructField('team', StringType(), True), \n",
    "    StructField('frameId', StringType(), True), \n",
    "    StructField('gameId', IntegerType(), True), \n",
    "    StructField('playId', IntegerType(), True), \n",
    "    StructField('playDirection', StringType(), True)])\n"
   ]
  },
  {
   "cell_type": "code",
   "execution_count": 0,
   "metadata": {
    "application/vnd.databricks.v1+cell": {
     "cellMetadata": {
      "byteLimit": 2048000,
      "rowLimit": 10000
     },
     "inputWidgets": {},
     "nuid": "889b5ede-9a8d-4c4b-ad60-54190a060af6",
     "showTitle": false,
     "tableResultSettingsMap": {},
     "title": ""
    }
   },
   "outputs": [
    {
     "output_type": "display_data",
     "data": {
      "text/plain": [
       "StructType([StructField('time', TimestampType(), True), StructField('x', DoubleType(), True), StructField('y', DoubleType(), True), StructField('s', DoubleType(), True), StructField('a', DoubleType(), True), StructField('dis', DoubleType(), True), StructField('o', DoubleType(), True), StructField('dir', DoubleType(), True), StructField('event', StringType(), True), StructField('nflId', IntegerType(), True), StructField('displayName', StringType(), True), StructField('jerseyNumber', IntegerType(), True), StructField('position', StringType(), True), StructField('team', StringType(), True), StructField('frameId', StringType(), True), StructField('gameId', IntegerType(), True), StructField('playId', IntegerType(), True), StructField('playDirection', StringType(), True)])"
      ]
     },
     "metadata": {},
     "output_type": "display_data"
    }
   ],
   "source": [
    "display(nflTrackingSchema)"
   ]
  },
  {
   "cell_type": "markdown",
   "metadata": {
    "application/vnd.databricks.v1+cell": {
     "cellMetadata": {},
     "inputWidgets": {},
     "nuid": "0fc6c3db-cdeb-4b97-bc97-089e5b51ed6a",
     "showTitle": false,
     "tableResultSettingsMap": {},
     "title": ""
    }
   },
   "source": [
    "### Storage in Bronze layer"
   ]
  },
  {
   "cell_type": "code",
   "execution_count": 0,
   "metadata": {
    "application/vnd.databricks.v1+cell": {
     "cellMetadata": {
      "byteLimit": 2048000,
      "rowLimit": 10000
     },
     "inputWidgets": {},
     "nuid": "97a5f9e7-6109-439e-9ed1-9a5318f4cabb",
     "showTitle": false,
     "tableResultSettingsMap": {},
     "title": ""
    }
   },
   "outputs": [
    {
     "output_type": "execute_result",
     "data": {
      "text/plain": [
       "True"
      ]
     },
     "execution_count": 40,
     "metadata": {},
     "output_type": "execute_result"
    }
   ],
   "source": [
    "#Delete any residual data from prior executions for an idempotent run\n",
    "dbutils.fs.rm(destDataDirRoot,recurse=True)"
   ]
  },
  {
   "cell_type": "code",
   "execution_count": 0,
   "metadata": {
    "application/vnd.databricks.v1+cell": {
     "cellMetadata": {
      "byteLimit": 2048000,
      "rowLimit": 10000
     },
     "inputWidgets": {},
     "nuid": "003d309b-5bfb-450c-9ad5-2097e57e25fc",
     "showTitle": false,
     "tableResultSettingsMap": {},
     "title": ""
    }
   },
   "outputs": [],
   "source": [
    "# Create a column of year so it can be partitione by year\n",
    "def getSchemaHomogenizedDataframe(sourceDF):              \n",
    "    sourceDF = (sourceDF.withColumn(\"year\",substring(col(\"time\"),0, 4)))\n",
    "    return sourceDF                      "
   ]
  },
  {
   "cell_type": "code",
   "execution_count": 0,
   "metadata": {
    "application/vnd.databricks.v1+cell": {
     "cellMetadata": {
      "byteLimit": 2048000,
      "rowLimit": 10000
     },
     "inputWidgets": {},
     "nuid": "8a1c9eaf-d5e2-45a5-8cc7-49fd764087a2",
     "showTitle": false,
     "tableResultSettingsMap": {},
     "title": ""
    }
   },
   "outputs": [],
   "source": [
    "# Iterate over the years\n",
    "for i in range(2018,2021):\n",
    "  #Read de csv from the raw data source using the schema and the path defined above \n",
    "  nfltrackingDf = (spark.read.format(\"csv\")\n",
    "                  .option(\"header\", True)\n",
    "                  .schema(nflPlayersSchema)\n",
    "                  .option(\"delimiter\",\",\")\n",
    "                  .load(f\"{srcDataDirRoot}/tracking{i}.csv\").cache())\n",
    "\n",
    "  # Change the \"NA\" Values for Null\n",
    "  nfltrackingDf = nfltrackingDf.na.replace(\"NA\", None)\n",
    "\n",
    "  #Order all columns to align with the canonical schema\n",
    "  nfltrackingDfCanocical = nfltrackingDf.select(*canonicalTripSchemaColList)\n",
    "  \n",
    "  #Create the year column\n",
    "  nfltrackingDfFormatted = getSchemaHomogenizedDataframe(nfltrackingDfCanocical)\n",
    "\n",
    "  display(nfltrackingDfFormatted)\n",
    "  \n",
    "  #To make Hive Parquet format compatible with Spark Parquet format\n",
    "  sqlContext.setConf(\"spark.sql.parquet.writeLegacyFormat\", \"true\")\n",
    "  \n",
    "  # Save the files in the bronze directory\n",
    "  nfltrackingDfFormatted.write.format(\"delta\").mode(\"append\").partitionBy(\"year\").save(destDataDirRoot) "
   ]
  }
 ],
 "metadata": {
  "application/vnd.databricks.v1+notebook": {
   "computePreferences": null,
   "dashboards": [],
   "environmentMetadata": null,
   "language": "python",
   "notebookMetadata": {
    "mostRecentlyExecutedCommandWithImplicitDF": {
     "commandId": 4042335137613493,
     "dataframes": [
      "_sqldf"
     ]
    },
    "pythonIndentUnit": 4
   },
   "notebookName": "05-LoadData-Tracking",
   "widgets": {}
  },
  "language_info": {
   "name": "python"
  }
 },
 "nbformat": 4,
 "nbformat_minor": 0
}