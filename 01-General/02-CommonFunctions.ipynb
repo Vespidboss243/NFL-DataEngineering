{
 "cells": [
  {
   "cell_type": "markdown",
   "metadata": {
    "application/vnd.databricks.v1+cell": {
     "cellMetadata": {},
     "inputWidgets": {},
     "nuid": "660ddfc6-1e7f-46a5-bb6e-506f3389ebc0",
     "showTitle": false,
     "tableResultSettingsMap": {},
     "title": ""
    }
   },
   "source": [
    "## **Connect to the Azure Storage**"
   ]
  },
  {
   "cell_type": "markdown",
   "metadata": {
    "application/vnd.databricks.v1+cell": {
     "cellMetadata": {},
     "inputWidgets": {},
     "nuid": "ff007696-e6c7-4a00-b838-c576973409fb",
     "showTitle": false,
     "tableResultSettingsMap": {},
     "title": ""
    }
   },
   "source": [
    "Configure Spark to connect to the storage using the following data:\n",
    "\n",
    "- **The storage account name**: `blob_account_name`\n",
    "- **The container name**: `blob_container_name`\n",
    "- **The SAS token**: `blob_sas_token`\n",
    "\n",
    "Then, return a **base path** (`wasbs_path`) for connection."
   ]
  },
  {
   "cell_type": "code",
   "execution_count": 0,
   "metadata": {
    "application/vnd.databricks.v1+cell": {
     "cellMetadata": {
      "byteLimit": 2048000,
      "rowLimit": 10000
     },
     "inputWidgets": {},
     "nuid": "1d002afd-1bfa-4373-8209-310d3daa2d99",
     "showTitle": false,
     "tableResultSettingsMap": {},
     "title": ""
    }
   },
   "outputs": [],
   "source": [
    "def connect():\n",
    "    # Azure storage access info\n",
    "    blob_account_name = \"bgupb202402juanbarriento\"\n",
    "    blob_container_name = \"nfl\"\n",
    "    blob_sas_token = 'sv=2022-11-02&ss=bfqt&srt=sco&sp=rwdlacupiytfx&se=2024-12-02T01:44:32Z&st=2024-10-26T17:44:32Z&spr=https&sig=%2F2h00mrIcoUP7KiGASCi4CyiYZlacf1o5Egtbdr6TDU%3D'\n",
    "\n",
    "    # Allow SPARK to read from Blob remotely\n",
    "    wasbs_path = f'wasbs://{blob_container_name}@{blob_account_name}.blob.core.windows.net/'\n",
    "    spark.conf.set( f'fs.azure.sas.{blob_container_name}.{blob_account_name}.blob.core.windows.net' , blob_sas_token)\n",
    "    print('Remote blob path: ' + wasbs_path)\n",
    "    return wasbs_path    "
   ]
  },
  {
   "cell_type": "markdown",
   "metadata": {
    "application/vnd.databricks.v1+cell": {
     "cellMetadata": {},
     "inputWidgets": {},
     "nuid": "ae9a9990-0ff2-4d91-9389-33ab5f94e577",
     "showTitle": false,
     "tableResultSettingsMap": {},
     "title": ""
    }
   },
   "source": [
    "# **Create the path to the storage**"
   ]
  },
  {
   "cell_type": "markdown",
   "metadata": {
    "application/vnd.databricks.v1+cell": {
     "cellMetadata": {},
     "inputWidgets": {},
     "nuid": "5fdc62a1-ac3c-451e-a504-b527e2044bbf",
     "showTitle": false,
     "tableResultSettingsMap": {},
     "title": ""
    }
   },
   "source": [
    "### Input Variables\n",
    "\n",
    "1. **`wasbs_path`**:  \n",
    "   This is the base path to access the storage, and it is recommended to use the result of the previous `connect` function.\n",
    "\n",
    "2. **`route`**:  \n",
    "   This is the name of the folder where the processed data will be stored.\n",
    "\n",
    "3. **`layersrc`**:  \n",
    "   This represents the layer from which the data originates.\n",
    "\n",
    "4. **`layerdes`**:  \n",
    "   This represents the layer where the processed data will be stored.\n",
    "\n",
    "### Output Variables\n",
    "\n",
    "1. **`srcDataDirRoot`**:  \n",
    "   This value contains the full path to the source data.\n",
    "\n",
    "2. **`destDataDirRoot`**:  \n",
    "   This value contains the full path to where the data will be stored."
   ]
  },
  {
   "cell_type": "code",
   "execution_count": 0,
   "metadata": {
    "application/vnd.databricks.v1+cell": {
     "cellMetadata": {
      "byteLimit": 2048000,
      "rowLimit": 10000
     },
     "inputWidgets": {},
     "nuid": "d347d4d1-d5ab-44fb-be40-31f93652198d",
     "showTitle": false,
     "tableResultSettingsMap": {},
     "title": ""
    }
   },
   "outputs": [],
   "source": [
    "def route(wasbs_path,route,layersrc,layerdes):\n",
    "    srcDataDirRoot = f\"{wasbs_path}{layersrc}/nfl-2022/\" #Root dir for source data\n",
    "    destDataDirRoot = f\"{wasbs_path}{layerdes}/nfl-2022/{route}\" #Root dir for destination data\n",
    "    return srcDataDirRoot, destDataDirRoot"
   ]
  }
 ],
 "metadata": {
  "application/vnd.databricks.v1+notebook": {
   "computePreferences": null,
   "dashboards": [],
   "environmentMetadata": null,
   "language": "python",
   "notebookMetadata": {
    "mostRecentlyExecutedCommandWithImplicitDF": {
     "commandId": 4415626438822384,
     "dataframes": [
      "_sqldf"
     ]
    },
    "pythonIndentUnit": 4
   },
   "notebookName": "02-CommonFunctions",
   "widgets": {}
  },
  "language_info": {
   "name": "python"
  }
 },
 "nbformat": 4,
 "nbformat_minor": 0
}